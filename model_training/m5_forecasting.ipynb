{
  "cells": [
    {
      "cell_type": "markdown",
      "metadata": {
        "id": "JckTHiUaKCHU"
      },
      "source": [
        "# 1. Data Pre-proccessing"
      ]
    },
    {
      "cell_type": "markdown",
      "metadata": {
        "id": "iW7zVSCxK3LS"
      },
      "source": [
        "## mount to google drive"
      ]
    },
    {
      "cell_type": "code",
      "execution_count": 1,
      "metadata": {
        "colab": {
          "base_uri": "https://localhost:8080/"
        },
        "id": "4IXLKUnYNw3N",
        "outputId": "1e066a5e-94f6-4405-c01d-3ef243d4bf88"
      },
      "outputs": [
        {
          "output_type": "stream",
          "name": "stdout",
          "text": [
            "Mounted at /content/drive\n"
          ]
        }
      ],
      "source": [
        "from google.colab import drive\n",
        "drive.mount('/content/drive')"
      ]
    },
    {
      "cell_type": "markdown",
      "metadata": {
        "id": "Myr2rRDGK7RK"
      },
      "source": [
        "## import packages"
      ]
    },
    {
      "cell_type": "code",
      "execution_count": 2,
      "metadata": {
        "id": "b-hfKl4tOLEj"
      },
      "outputs": [],
      "source": [
        "import pandas as pd\n",
        "import numpy as np\n",
        "import matplotlib.pyplot as plt\n",
        "import seaborn as sns\n",
        "import re\n",
        "import matplotlib.dates as mdates\n",
        "from tqdm import tqdm\n",
        "\n",
        "import warnings\n",
        "warnings.filterwarnings(\"ignore\")\n",
        "\n",
        "\n",
        "drive_path = '/content/drive/MyDrive/01_Applied_AI_Course_New/CaseStudies/M5 Forecasting - Accuracy/data/'"
      ]
    },
    {
      "cell_type": "markdown",
      "metadata": {
        "id": "-96JNPvsLASQ"
      },
      "source": [
        "## reduce file size util"
      ]
    },
    {
      "cell_type": "code",
      "execution_count": 3,
      "metadata": {
        "id": "UgudArz-HoDz"
      },
      "outputs": [],
      "source": [
        "#https://www.kaggle.com/arjanso/reducing-dataframe-memory-size-by-65\n",
        "\n",
        "def reduce_mem_usage(props):\n",
        "    start_mem_usg = props.memory_usage().sum() / 1024**2 \n",
        "    print(\"Memory usage of properties dataframe is :\",start_mem_usg,\" MB\")\n",
        "    NAlist = [] # Keeps track of columns that have missing values filled in. \n",
        "    for col in props.columns:\n",
        "        if col=='date':\n",
        "          continue\n",
        "        if props[col].dtype != object:  # Exclude strings\n",
        "            \n",
        "            # Print current column type\n",
        "            #print(\"******************************\")\n",
        "            #print(\"Column: \",col)\n",
        "            #print(\"dtype before: \",props[col].dtype)\n",
        "            \n",
        "            # make variables for Int, max and min\n",
        "            IsInt = False\n",
        "            mx = props[col].max()\n",
        "            mn = props[col].min()\n",
        "            \n",
        "            # Integer does not support NA, therefore, NA needs to be filled\n",
        "            if not np.isfinite(props[col]).all(): \n",
        "                NAlist.append(col)\n",
        "                props[col].fillna(mn-1,inplace=True)  \n",
        "                   \n",
        "            # test if column can be converted to an integer\n",
        "            asint = props[col].fillna(0).astype(np.int64)\n",
        "            result = (props[col] - asint)\n",
        "            result = result.sum()\n",
        "            if result > -0.01 and result < 0.01:\n",
        "                IsInt = True\n",
        "\n",
        "            \n",
        "            # Make Integer/unsigned Integer datatypes\n",
        "            if IsInt:\n",
        "                if mn >= 0:\n",
        "                    if mx < 255:\n",
        "                        props[col] = props[col].astype(np.uint8)\n",
        "                    elif mx < 65535:\n",
        "                        props[col] = props[col].astype(np.uint16)\n",
        "                    elif mx < 4294967295:\n",
        "                        props[col] = props[col].astype(np.uint32)\n",
        "                    else:\n",
        "                        props[col] = props[col].astype(np.uint64)\n",
        "                else:\n",
        "                    if mn > np.iinfo(np.int8).min and mx < np.iinfo(np.int8).max:\n",
        "                        props[col] = props[col].astype(np.int8)\n",
        "                    elif mn > np.iinfo(np.int16).min and mx < np.iinfo(np.int16).max:\n",
        "                        props[col] = props[col].astype(np.int16)\n",
        "                    elif mn > np.iinfo(np.int32).min and mx < np.iinfo(np.int32).max:\n",
        "                        props[col] = props[col].astype(np.int32)\n",
        "                    elif mn > np.iinfo(np.int64).min and mx < np.iinfo(np.int64).max:\n",
        "                        props[col] = props[col].astype(np.int64)    \n",
        "            \n",
        "            # Make float datatypes 32 bit\n",
        "            else:\n",
        "                props[col] = props[col].astype(np.float32)\n",
        "            \n",
        "            # Print new column type\n",
        "            #print(\"dtype after: \",props[col].dtype)\n",
        "            #print(\"******************************\")\n",
        "    \n",
        "    # Print final result\n",
        "    print(\"___MEMORY USAGE AFTER COMPLETION:___\")\n",
        "    mem_usg = props.memory_usage().sum() / 1024**2 \n",
        "    print(\"Memory usage is: \",mem_usg,\" MB\")\n",
        "    print(\"This is \",100*mem_usg/start_mem_usg,\"% of the initial size\")\n",
        "    return props, NAlist\n",
        "\n",
        "def get_dtypes(df):\n",
        "  cols = df.dtypes.index\n",
        "  col_dtypes = df.dtypes.values\n",
        "\n",
        "  return {cols[idx]:str(col_dtypes[idx]) for idx in range(len(cols))}\n"
      ]
    },
    {
      "cell_type": "markdown",
      "metadata": {
        "id": "kSwQpCLHLElp"
      },
      "source": [
        "## load calendar data"
      ]
    },
    {
      "cell_type": "code",
      "execution_count": 4,
      "metadata": {
        "colab": {
          "base_uri": "https://localhost:8080/",
          "height": 243
        },
        "id": "j8uM34yxOX8G",
        "outputId": "b6e41633-175b-42e3-b58f-3ca23243a5e9"
      },
      "outputs": [
        {
          "output_type": "stream",
          "name": "stdout",
          "text": [
            "(1969, 14)\n",
            "27566\n"
          ]
        },
        {
          "output_type": "execute_result",
          "data": {
            "text/html": [
              "\n",
              "  <div id=\"df-ea762ee2-80d5-4901-b875-46141551cbe3\">\n",
              "    <div class=\"colab-df-container\">\n",
              "      <div>\n",
              "<style scoped>\n",
              "    .dataframe tbody tr th:only-of-type {\n",
              "        vertical-align: middle;\n",
              "    }\n",
              "\n",
              "    .dataframe tbody tr th {\n",
              "        vertical-align: top;\n",
              "    }\n",
              "\n",
              "    .dataframe thead th {\n",
              "        text-align: right;\n",
              "    }\n",
              "</style>\n",
              "<table border=\"1\" class=\"dataframe\">\n",
              "  <thead>\n",
              "    <tr style=\"text-align: right;\">\n",
              "      <th></th>\n",
              "      <th>date</th>\n",
              "      <th>wm_yr_wk</th>\n",
              "      <th>weekday</th>\n",
              "      <th>wday</th>\n",
              "      <th>month</th>\n",
              "      <th>year</th>\n",
              "      <th>d</th>\n",
              "      <th>event_name_1</th>\n",
              "      <th>event_type_1</th>\n",
              "      <th>event_name_2</th>\n",
              "      <th>event_type_2</th>\n",
              "      <th>snap_CA</th>\n",
              "      <th>snap_TX</th>\n",
              "      <th>snap_WI</th>\n",
              "    </tr>\n",
              "  </thead>\n",
              "  <tbody>\n",
              "    <tr>\n",
              "      <th>0</th>\n",
              "      <td>2011-01-29</td>\n",
              "      <td>11101</td>\n",
              "      <td>Saturday</td>\n",
              "      <td>1</td>\n",
              "      <td>1</td>\n",
              "      <td>2011</td>\n",
              "      <td>d_1</td>\n",
              "      <td>NaN</td>\n",
              "      <td>NaN</td>\n",
              "      <td>NaN</td>\n",
              "      <td>NaN</td>\n",
              "      <td>0</td>\n",
              "      <td>0</td>\n",
              "      <td>0</td>\n",
              "    </tr>\n",
              "    <tr>\n",
              "      <th>1</th>\n",
              "      <td>2011-01-30</td>\n",
              "      <td>11101</td>\n",
              "      <td>Sunday</td>\n",
              "      <td>2</td>\n",
              "      <td>1</td>\n",
              "      <td>2011</td>\n",
              "      <td>d_2</td>\n",
              "      <td>NaN</td>\n",
              "      <td>NaN</td>\n",
              "      <td>NaN</td>\n",
              "      <td>NaN</td>\n",
              "      <td>0</td>\n",
              "      <td>0</td>\n",
              "      <td>0</td>\n",
              "    </tr>\n",
              "    <tr>\n",
              "      <th>2</th>\n",
              "      <td>2011-01-31</td>\n",
              "      <td>11101</td>\n",
              "      <td>Monday</td>\n",
              "      <td>3</td>\n",
              "      <td>1</td>\n",
              "      <td>2011</td>\n",
              "      <td>d_3</td>\n",
              "      <td>NaN</td>\n",
              "      <td>NaN</td>\n",
              "      <td>NaN</td>\n",
              "      <td>NaN</td>\n",
              "      <td>0</td>\n",
              "      <td>0</td>\n",
              "      <td>0</td>\n",
              "    </tr>\n",
              "    <tr>\n",
              "      <th>3</th>\n",
              "      <td>2011-02-01</td>\n",
              "      <td>11101</td>\n",
              "      <td>Tuesday</td>\n",
              "      <td>4</td>\n",
              "      <td>2</td>\n",
              "      <td>2011</td>\n",
              "      <td>d_4</td>\n",
              "      <td>NaN</td>\n",
              "      <td>NaN</td>\n",
              "      <td>NaN</td>\n",
              "      <td>NaN</td>\n",
              "      <td>1</td>\n",
              "      <td>1</td>\n",
              "      <td>0</td>\n",
              "    </tr>\n",
              "    <tr>\n",
              "      <th>4</th>\n",
              "      <td>2011-02-02</td>\n",
              "      <td>11101</td>\n",
              "      <td>Wednesday</td>\n",
              "      <td>5</td>\n",
              "      <td>2</td>\n",
              "      <td>2011</td>\n",
              "      <td>d_5</td>\n",
              "      <td>NaN</td>\n",
              "      <td>NaN</td>\n",
              "      <td>NaN</td>\n",
              "      <td>NaN</td>\n",
              "      <td>1</td>\n",
              "      <td>0</td>\n",
              "      <td>1</td>\n",
              "    </tr>\n",
              "  </tbody>\n",
              "</table>\n",
              "</div>\n",
              "      <button class=\"colab-df-convert\" onclick=\"convertToInteractive('df-ea762ee2-80d5-4901-b875-46141551cbe3')\"\n",
              "              title=\"Convert this dataframe to an interactive table.\"\n",
              "              style=\"display:none;\">\n",
              "        \n",
              "  <svg xmlns=\"http://www.w3.org/2000/svg\" height=\"24px\"viewBox=\"0 0 24 24\"\n",
              "       width=\"24px\">\n",
              "    <path d=\"M0 0h24v24H0V0z\" fill=\"none\"/>\n",
              "    <path d=\"M18.56 5.44l.94 2.06.94-2.06 2.06-.94-2.06-.94-.94-2.06-.94 2.06-2.06.94zm-11 1L8.5 8.5l.94-2.06 2.06-.94-2.06-.94L8.5 2.5l-.94 2.06-2.06.94zm10 10l.94 2.06.94-2.06 2.06-.94-2.06-.94-.94-2.06-.94 2.06-2.06.94z\"/><path d=\"M17.41 7.96l-1.37-1.37c-.4-.4-.92-.59-1.43-.59-.52 0-1.04.2-1.43.59L10.3 9.45l-7.72 7.72c-.78.78-.78 2.05 0 2.83L4 21.41c.39.39.9.59 1.41.59.51 0 1.02-.2 1.41-.59l7.78-7.78 2.81-2.81c.8-.78.8-2.07 0-2.86zM5.41 20L4 18.59l7.72-7.72 1.47 1.35L5.41 20z\"/>\n",
              "  </svg>\n",
              "      </button>\n",
              "      \n",
              "  <style>\n",
              "    .colab-df-container {\n",
              "      display:flex;\n",
              "      flex-wrap:wrap;\n",
              "      gap: 12px;\n",
              "    }\n",
              "\n",
              "    .colab-df-convert {\n",
              "      background-color: #E8F0FE;\n",
              "      border: none;\n",
              "      border-radius: 50%;\n",
              "      cursor: pointer;\n",
              "      display: none;\n",
              "      fill: #1967D2;\n",
              "      height: 32px;\n",
              "      padding: 0 0 0 0;\n",
              "      width: 32px;\n",
              "    }\n",
              "\n",
              "    .colab-df-convert:hover {\n",
              "      background-color: #E2EBFA;\n",
              "      box-shadow: 0px 1px 2px rgba(60, 64, 67, 0.3), 0px 1px 3px 1px rgba(60, 64, 67, 0.15);\n",
              "      fill: #174EA6;\n",
              "    }\n",
              "\n",
              "    [theme=dark] .colab-df-convert {\n",
              "      background-color: #3B4455;\n",
              "      fill: #D2E3FC;\n",
              "    }\n",
              "\n",
              "    [theme=dark] .colab-df-convert:hover {\n",
              "      background-color: #434B5C;\n",
              "      box-shadow: 0px 1px 3px 1px rgba(0, 0, 0, 0.15);\n",
              "      filter: drop-shadow(0px 1px 2px rgba(0, 0, 0, 0.3));\n",
              "      fill: #FFFFFF;\n",
              "    }\n",
              "  </style>\n",
              "\n",
              "      <script>\n",
              "        const buttonEl =\n",
              "          document.querySelector('#df-ea762ee2-80d5-4901-b875-46141551cbe3 button.colab-df-convert');\n",
              "        buttonEl.style.display =\n",
              "          google.colab.kernel.accessAllowed ? 'block' : 'none';\n",
              "\n",
              "        async function convertToInteractive(key) {\n",
              "          const element = document.querySelector('#df-ea762ee2-80d5-4901-b875-46141551cbe3');\n",
              "          const dataTable =\n",
              "            await google.colab.kernel.invokeFunction('convertToInteractive',\n",
              "                                                     [key], {});\n",
              "          if (!dataTable) return;\n",
              "\n",
              "          const docLinkHtml = 'Like what you see? Visit the ' +\n",
              "            '<a target=\"_blank\" href=https://colab.research.google.com/notebooks/data_table.ipynb>data table notebook</a>'\n",
              "            + ' to learn more about interactive tables.';\n",
              "          element.innerHTML = '';\n",
              "          dataTable['output_type'] = 'display_data';\n",
              "          await google.colab.output.renderOutput(dataTable, element);\n",
              "          const docLink = document.createElement('div');\n",
              "          docLink.innerHTML = docLinkHtml;\n",
              "          element.appendChild(docLink);\n",
              "        }\n",
              "      </script>\n",
              "    </div>\n",
              "  </div>\n",
              "  "
            ],
            "text/plain": [
              "        date  wm_yr_wk    weekday  wday  ...  event_type_2  snap_CA snap_TX snap_WI\n",
              "0 2011-01-29     11101   Saturday     1  ...           NaN        0       0       0\n",
              "1 2011-01-30     11101     Sunday     2  ...           NaN        0       0       0\n",
              "2 2011-01-31     11101     Monday     3  ...           NaN        0       0       0\n",
              "3 2011-02-01     11101    Tuesday     4  ...           NaN        1       1       0\n",
              "4 2011-02-02     11101  Wednesday     5  ...           NaN        1       0       1\n",
              "\n",
              "[5 rows x 14 columns]"
            ]
          },
          "metadata": {},
          "execution_count": 4
        }
      ],
      "source": [
        "calendar_df = pd.read_csv(drive_path+'calendar.csv')\n",
        "calendar_df['date']=pd.to_datetime(calendar_df['date'], format='%Y-%m-%d')\n",
        "calendar_df.sort_values('date', inplace=True)\n",
        "print(calendar_df.shape)\n",
        "print(calendar_df.size)\n",
        "calendar_df.head()"
      ]
    },
    {
      "cell_type": "markdown",
      "metadata": {
        "id": "R3L3fxFTaug9"
      },
      "source": [
        "## train test split using calander data\n"
      ]
    },
    {
      "cell_type": "code",
      "execution_count": 5,
      "metadata": {
        "colab": {
          "base_uri": "https://localhost:8080/"
        },
        "id": "nkjR6zM0VvLW",
        "outputId": "90fdbaea-d557-4459-bc25-19642136a9c8"
      },
      "outputs": [
        {
          "output_type": "stream",
          "name": "stdout",
          "text": [
            "d_1913, d_1941\n",
            "(1913, 14) (28, 14) (28, 14)\n"
          ]
        }
      ],
      "source": [
        "total_days = max([int(i.replace('d_','')) for i in calendar_df.d.values])\n",
        "split_days = 28\n",
        "train_split_date = calendar_df[calendar_df.d==f'd_{total_days-(split_days*2)}']['date'].values[0]\n",
        "valid_split_date = calendar_df[calendar_df.d==f'd_{total_days-split_days}']['date'].values[0] \n",
        "print(f'd_{total_days-(split_days*2)}, d_{total_days-split_days}')\n",
        "\n",
        "train_cal = calendar_df[calendar_df.date<=train_split_date]\n",
        "valid_cal = calendar_df[(calendar_df.date>train_split_date) & (calendar_df.date<=valid_split_date)]\n",
        "test_cal = calendar_df[calendar_df.date>valid_split_date]\n",
        "print(train_cal.shape, valid_cal.shape, test_cal.shape)"
      ]
    },
    {
      "cell_type": "markdown",
      "metadata": {
        "id": "zpV_BIzsLG2x"
      },
      "source": [
        "## load sales data"
      ]
    },
    {
      "cell_type": "code",
      "execution_count": 6,
      "metadata": {
        "colab": {
          "base_uri": "https://localhost:8080/",
          "height": 317
        },
        "id": "16IB0KJHZo7S",
        "outputId": "e998f3f8-6249-4715-fdb3-00cd305a6420"
      },
      "outputs": [
        {
          "output_type": "stream",
          "name": "stdout",
          "text": [
            "(30490, 1975)\n"
          ]
        },
        {
          "output_type": "execute_result",
          "data": {
            "text/html": [
              "\n",
              "  <div id=\"df-03c9c274-4796-4155-8821-e1a90187164e\">\n",
              "    <div class=\"colab-df-container\">\n",
              "      <div>\n",
              "<style scoped>\n",
              "    .dataframe tbody tr th:only-of-type {\n",
              "        vertical-align: middle;\n",
              "    }\n",
              "\n",
              "    .dataframe tbody tr th {\n",
              "        vertical-align: top;\n",
              "    }\n",
              "\n",
              "    .dataframe thead th {\n",
              "        text-align: right;\n",
              "    }\n",
              "</style>\n",
              "<table border=\"1\" class=\"dataframe\">\n",
              "  <thead>\n",
              "    <tr style=\"text-align: right;\">\n",
              "      <th></th>\n",
              "      <th>id</th>\n",
              "      <th>item_id</th>\n",
              "      <th>dept_id</th>\n",
              "      <th>cat_id</th>\n",
              "      <th>store_id</th>\n",
              "      <th>state_id</th>\n",
              "      <th>d_1</th>\n",
              "      <th>d_2</th>\n",
              "      <th>d_3</th>\n",
              "      <th>d_4</th>\n",
              "      <th>d_5</th>\n",
              "      <th>d_6</th>\n",
              "      <th>d_7</th>\n",
              "      <th>d_8</th>\n",
              "      <th>d_9</th>\n",
              "      <th>d_10</th>\n",
              "      <th>d_11</th>\n",
              "      <th>d_12</th>\n",
              "      <th>d_13</th>\n",
              "      <th>d_14</th>\n",
              "      <th>d_15</th>\n",
              "      <th>d_16</th>\n",
              "      <th>d_17</th>\n",
              "      <th>d_18</th>\n",
              "      <th>d_19</th>\n",
              "      <th>d_20</th>\n",
              "      <th>d_21</th>\n",
              "      <th>d_22</th>\n",
              "      <th>d_23</th>\n",
              "      <th>d_24</th>\n",
              "      <th>d_25</th>\n",
              "      <th>d_26</th>\n",
              "      <th>d_27</th>\n",
              "      <th>d_28</th>\n",
              "      <th>d_29</th>\n",
              "      <th>d_30</th>\n",
              "      <th>d_31</th>\n",
              "      <th>d_32</th>\n",
              "      <th>d_33</th>\n",
              "      <th>d_34</th>\n",
              "      <th>...</th>\n",
              "      <th>d_1930</th>\n",
              "      <th>d_1931</th>\n",
              "      <th>d_1932</th>\n",
              "      <th>d_1933</th>\n",
              "      <th>d_1934</th>\n",
              "      <th>d_1935</th>\n",
              "      <th>d_1936</th>\n",
              "      <th>d_1937</th>\n",
              "      <th>d_1938</th>\n",
              "      <th>d_1939</th>\n",
              "      <th>d_1940</th>\n",
              "      <th>d_1941</th>\n",
              "      <th>d_1942</th>\n",
              "      <th>d_1943</th>\n",
              "      <th>d_1944</th>\n",
              "      <th>d_1945</th>\n",
              "      <th>d_1946</th>\n",
              "      <th>d_1947</th>\n",
              "      <th>d_1948</th>\n",
              "      <th>d_1949</th>\n",
              "      <th>d_1950</th>\n",
              "      <th>d_1951</th>\n",
              "      <th>d_1952</th>\n",
              "      <th>d_1953</th>\n",
              "      <th>d_1954</th>\n",
              "      <th>d_1955</th>\n",
              "      <th>d_1956</th>\n",
              "      <th>d_1957</th>\n",
              "      <th>d_1958</th>\n",
              "      <th>d_1959</th>\n",
              "      <th>d_1960</th>\n",
              "      <th>d_1961</th>\n",
              "      <th>d_1962</th>\n",
              "      <th>d_1963</th>\n",
              "      <th>d_1964</th>\n",
              "      <th>d_1965</th>\n",
              "      <th>d_1966</th>\n",
              "      <th>d_1967</th>\n",
              "      <th>d_1968</th>\n",
              "      <th>d_1969</th>\n",
              "    </tr>\n",
              "  </thead>\n",
              "  <tbody>\n",
              "    <tr>\n",
              "      <th>0</th>\n",
              "      <td>HOBBIES_1_001_CA_1_evaluation</td>\n",
              "      <td>HOBBIES_1_001</td>\n",
              "      <td>HOBBIES_1</td>\n",
              "      <td>HOBBIES</td>\n",
              "      <td>CA_1</td>\n",
              "      <td>CA</td>\n",
              "      <td>0</td>\n",
              "      <td>0</td>\n",
              "      <td>0</td>\n",
              "      <td>0</td>\n",
              "      <td>0</td>\n",
              "      <td>0</td>\n",
              "      <td>0</td>\n",
              "      <td>0</td>\n",
              "      <td>0</td>\n",
              "      <td>0</td>\n",
              "      <td>0</td>\n",
              "      <td>0</td>\n",
              "      <td>0</td>\n",
              "      <td>0</td>\n",
              "      <td>0</td>\n",
              "      <td>0</td>\n",
              "      <td>0</td>\n",
              "      <td>0</td>\n",
              "      <td>0</td>\n",
              "      <td>0</td>\n",
              "      <td>0</td>\n",
              "      <td>0</td>\n",
              "      <td>0</td>\n",
              "      <td>0</td>\n",
              "      <td>0</td>\n",
              "      <td>0</td>\n",
              "      <td>0</td>\n",
              "      <td>0</td>\n",
              "      <td>0</td>\n",
              "      <td>0</td>\n",
              "      <td>0</td>\n",
              "      <td>0</td>\n",
              "      <td>0</td>\n",
              "      <td>0</td>\n",
              "      <td>...</td>\n",
              "      <td>1</td>\n",
              "      <td>0</td>\n",
              "      <td>2</td>\n",
              "      <td>4</td>\n",
              "      <td>0</td>\n",
              "      <td>0</td>\n",
              "      <td>0</td>\n",
              "      <td>0</td>\n",
              "      <td>3</td>\n",
              "      <td>3</td>\n",
              "      <td>0</td>\n",
              "      <td>1</td>\n",
              "      <td>NaN</td>\n",
              "      <td>NaN</td>\n",
              "      <td>NaN</td>\n",
              "      <td>NaN</td>\n",
              "      <td>NaN</td>\n",
              "      <td>NaN</td>\n",
              "      <td>NaN</td>\n",
              "      <td>NaN</td>\n",
              "      <td>NaN</td>\n",
              "      <td>NaN</td>\n",
              "      <td>NaN</td>\n",
              "      <td>NaN</td>\n",
              "      <td>NaN</td>\n",
              "      <td>NaN</td>\n",
              "      <td>NaN</td>\n",
              "      <td>NaN</td>\n",
              "      <td>NaN</td>\n",
              "      <td>NaN</td>\n",
              "      <td>NaN</td>\n",
              "      <td>NaN</td>\n",
              "      <td>NaN</td>\n",
              "      <td>NaN</td>\n",
              "      <td>NaN</td>\n",
              "      <td>NaN</td>\n",
              "      <td>NaN</td>\n",
              "      <td>NaN</td>\n",
              "      <td>NaN</td>\n",
              "      <td>NaN</td>\n",
              "    </tr>\n",
              "    <tr>\n",
              "      <th>1</th>\n",
              "      <td>HOBBIES_1_002_CA_1_evaluation</td>\n",
              "      <td>HOBBIES_1_002</td>\n",
              "      <td>HOBBIES_1</td>\n",
              "      <td>HOBBIES</td>\n",
              "      <td>CA_1</td>\n",
              "      <td>CA</td>\n",
              "      <td>0</td>\n",
              "      <td>0</td>\n",
              "      <td>0</td>\n",
              "      <td>0</td>\n",
              "      <td>0</td>\n",
              "      <td>0</td>\n",
              "      <td>0</td>\n",
              "      <td>0</td>\n",
              "      <td>0</td>\n",
              "      <td>0</td>\n",
              "      <td>0</td>\n",
              "      <td>0</td>\n",
              "      <td>0</td>\n",
              "      <td>0</td>\n",
              "      <td>0</td>\n",
              "      <td>0</td>\n",
              "      <td>0</td>\n",
              "      <td>0</td>\n",
              "      <td>0</td>\n",
              "      <td>0</td>\n",
              "      <td>0</td>\n",
              "      <td>0</td>\n",
              "      <td>0</td>\n",
              "      <td>0</td>\n",
              "      <td>0</td>\n",
              "      <td>0</td>\n",
              "      <td>0</td>\n",
              "      <td>0</td>\n",
              "      <td>0</td>\n",
              "      <td>0</td>\n",
              "      <td>0</td>\n",
              "      <td>0</td>\n",
              "      <td>0</td>\n",
              "      <td>0</td>\n",
              "      <td>...</td>\n",
              "      <td>0</td>\n",
              "      <td>0</td>\n",
              "      <td>0</td>\n",
              "      <td>1</td>\n",
              "      <td>2</td>\n",
              "      <td>1</td>\n",
              "      <td>1</td>\n",
              "      <td>0</td>\n",
              "      <td>0</td>\n",
              "      <td>0</td>\n",
              "      <td>0</td>\n",
              "      <td>0</td>\n",
              "      <td>NaN</td>\n",
              "      <td>NaN</td>\n",
              "      <td>NaN</td>\n",
              "      <td>NaN</td>\n",
              "      <td>NaN</td>\n",
              "      <td>NaN</td>\n",
              "      <td>NaN</td>\n",
              "      <td>NaN</td>\n",
              "      <td>NaN</td>\n",
              "      <td>NaN</td>\n",
              "      <td>NaN</td>\n",
              "      <td>NaN</td>\n",
              "      <td>NaN</td>\n",
              "      <td>NaN</td>\n",
              "      <td>NaN</td>\n",
              "      <td>NaN</td>\n",
              "      <td>NaN</td>\n",
              "      <td>NaN</td>\n",
              "      <td>NaN</td>\n",
              "      <td>NaN</td>\n",
              "      <td>NaN</td>\n",
              "      <td>NaN</td>\n",
              "      <td>NaN</td>\n",
              "      <td>NaN</td>\n",
              "      <td>NaN</td>\n",
              "      <td>NaN</td>\n",
              "      <td>NaN</td>\n",
              "      <td>NaN</td>\n",
              "    </tr>\n",
              "    <tr>\n",
              "      <th>2</th>\n",
              "      <td>HOBBIES_1_003_CA_1_evaluation</td>\n",
              "      <td>HOBBIES_1_003</td>\n",
              "      <td>HOBBIES_1</td>\n",
              "      <td>HOBBIES</td>\n",
              "      <td>CA_1</td>\n",
              "      <td>CA</td>\n",
              "      <td>0</td>\n",
              "      <td>0</td>\n",
              "      <td>0</td>\n",
              "      <td>0</td>\n",
              "      <td>0</td>\n",
              "      <td>0</td>\n",
              "      <td>0</td>\n",
              "      <td>0</td>\n",
              "      <td>0</td>\n",
              "      <td>0</td>\n",
              "      <td>0</td>\n",
              "      <td>0</td>\n",
              "      <td>0</td>\n",
              "      <td>0</td>\n",
              "      <td>0</td>\n",
              "      <td>0</td>\n",
              "      <td>0</td>\n",
              "      <td>0</td>\n",
              "      <td>0</td>\n",
              "      <td>0</td>\n",
              "      <td>0</td>\n",
              "      <td>0</td>\n",
              "      <td>0</td>\n",
              "      <td>0</td>\n",
              "      <td>0</td>\n",
              "      <td>0</td>\n",
              "      <td>0</td>\n",
              "      <td>0</td>\n",
              "      <td>0</td>\n",
              "      <td>0</td>\n",
              "      <td>0</td>\n",
              "      <td>0</td>\n",
              "      <td>0</td>\n",
              "      <td>0</td>\n",
              "      <td>...</td>\n",
              "      <td>1</td>\n",
              "      <td>0</td>\n",
              "      <td>1</td>\n",
              "      <td>0</td>\n",
              "      <td>2</td>\n",
              "      <td>0</td>\n",
              "      <td>0</td>\n",
              "      <td>0</td>\n",
              "      <td>2</td>\n",
              "      <td>3</td>\n",
              "      <td>0</td>\n",
              "      <td>1</td>\n",
              "      <td>NaN</td>\n",
              "      <td>NaN</td>\n",
              "      <td>NaN</td>\n",
              "      <td>NaN</td>\n",
              "      <td>NaN</td>\n",
              "      <td>NaN</td>\n",
              "      <td>NaN</td>\n",
              "      <td>NaN</td>\n",
              "      <td>NaN</td>\n",
              "      <td>NaN</td>\n",
              "      <td>NaN</td>\n",
              "      <td>NaN</td>\n",
              "      <td>NaN</td>\n",
              "      <td>NaN</td>\n",
              "      <td>NaN</td>\n",
              "      <td>NaN</td>\n",
              "      <td>NaN</td>\n",
              "      <td>NaN</td>\n",
              "      <td>NaN</td>\n",
              "      <td>NaN</td>\n",
              "      <td>NaN</td>\n",
              "      <td>NaN</td>\n",
              "      <td>NaN</td>\n",
              "      <td>NaN</td>\n",
              "      <td>NaN</td>\n",
              "      <td>NaN</td>\n",
              "      <td>NaN</td>\n",
              "      <td>NaN</td>\n",
              "    </tr>\n",
              "    <tr>\n",
              "      <th>3</th>\n",
              "      <td>HOBBIES_1_004_CA_1_evaluation</td>\n",
              "      <td>HOBBIES_1_004</td>\n",
              "      <td>HOBBIES_1</td>\n",
              "      <td>HOBBIES</td>\n",
              "      <td>CA_1</td>\n",
              "      <td>CA</td>\n",
              "      <td>0</td>\n",
              "      <td>0</td>\n",
              "      <td>0</td>\n",
              "      <td>0</td>\n",
              "      <td>0</td>\n",
              "      <td>0</td>\n",
              "      <td>0</td>\n",
              "      <td>0</td>\n",
              "      <td>0</td>\n",
              "      <td>0</td>\n",
              "      <td>0</td>\n",
              "      <td>0</td>\n",
              "      <td>0</td>\n",
              "      <td>0</td>\n",
              "      <td>0</td>\n",
              "      <td>0</td>\n",
              "      <td>0</td>\n",
              "      <td>0</td>\n",
              "      <td>0</td>\n",
              "      <td>0</td>\n",
              "      <td>0</td>\n",
              "      <td>0</td>\n",
              "      <td>0</td>\n",
              "      <td>0</td>\n",
              "      <td>0</td>\n",
              "      <td>0</td>\n",
              "      <td>0</td>\n",
              "      <td>0</td>\n",
              "      <td>0</td>\n",
              "      <td>0</td>\n",
              "      <td>0</td>\n",
              "      <td>0</td>\n",
              "      <td>0</td>\n",
              "      <td>0</td>\n",
              "      <td>...</td>\n",
              "      <td>1</td>\n",
              "      <td>1</td>\n",
              "      <td>1</td>\n",
              "      <td>1</td>\n",
              "      <td>0</td>\n",
              "      <td>4</td>\n",
              "      <td>0</td>\n",
              "      <td>1</td>\n",
              "      <td>3</td>\n",
              "      <td>0</td>\n",
              "      <td>2</td>\n",
              "      <td>6</td>\n",
              "      <td>NaN</td>\n",
              "      <td>NaN</td>\n",
              "      <td>NaN</td>\n",
              "      <td>NaN</td>\n",
              "      <td>NaN</td>\n",
              "      <td>NaN</td>\n",
              "      <td>NaN</td>\n",
              "      <td>NaN</td>\n",
              "      <td>NaN</td>\n",
              "      <td>NaN</td>\n",
              "      <td>NaN</td>\n",
              "      <td>NaN</td>\n",
              "      <td>NaN</td>\n",
              "      <td>NaN</td>\n",
              "      <td>NaN</td>\n",
              "      <td>NaN</td>\n",
              "      <td>NaN</td>\n",
              "      <td>NaN</td>\n",
              "      <td>NaN</td>\n",
              "      <td>NaN</td>\n",
              "      <td>NaN</td>\n",
              "      <td>NaN</td>\n",
              "      <td>NaN</td>\n",
              "      <td>NaN</td>\n",
              "      <td>NaN</td>\n",
              "      <td>NaN</td>\n",
              "      <td>NaN</td>\n",
              "      <td>NaN</td>\n",
              "    </tr>\n",
              "    <tr>\n",
              "      <th>4</th>\n",
              "      <td>HOBBIES_1_005_CA_1_evaluation</td>\n",
              "      <td>HOBBIES_1_005</td>\n",
              "      <td>HOBBIES_1</td>\n",
              "      <td>HOBBIES</td>\n",
              "      <td>CA_1</td>\n",
              "      <td>CA</td>\n",
              "      <td>0</td>\n",
              "      <td>0</td>\n",
              "      <td>0</td>\n",
              "      <td>0</td>\n",
              "      <td>0</td>\n",
              "      <td>0</td>\n",
              "      <td>0</td>\n",
              "      <td>0</td>\n",
              "      <td>0</td>\n",
              "      <td>0</td>\n",
              "      <td>0</td>\n",
              "      <td>0</td>\n",
              "      <td>0</td>\n",
              "      <td>0</td>\n",
              "      <td>0</td>\n",
              "      <td>0</td>\n",
              "      <td>0</td>\n",
              "      <td>0</td>\n",
              "      <td>0</td>\n",
              "      <td>0</td>\n",
              "      <td>0</td>\n",
              "      <td>0</td>\n",
              "      <td>0</td>\n",
              "      <td>0</td>\n",
              "      <td>0</td>\n",
              "      <td>0</td>\n",
              "      <td>0</td>\n",
              "      <td>0</td>\n",
              "      <td>0</td>\n",
              "      <td>0</td>\n",
              "      <td>0</td>\n",
              "      <td>0</td>\n",
              "      <td>0</td>\n",
              "      <td>0</td>\n",
              "      <td>...</td>\n",
              "      <td>2</td>\n",
              "      <td>2</td>\n",
              "      <td>0</td>\n",
              "      <td>0</td>\n",
              "      <td>0</td>\n",
              "      <td>2</td>\n",
              "      <td>1</td>\n",
              "      <td>0</td>\n",
              "      <td>0</td>\n",
              "      <td>2</td>\n",
              "      <td>1</td>\n",
              "      <td>0</td>\n",
              "      <td>NaN</td>\n",
              "      <td>NaN</td>\n",
              "      <td>NaN</td>\n",
              "      <td>NaN</td>\n",
              "      <td>NaN</td>\n",
              "      <td>NaN</td>\n",
              "      <td>NaN</td>\n",
              "      <td>NaN</td>\n",
              "      <td>NaN</td>\n",
              "      <td>NaN</td>\n",
              "      <td>NaN</td>\n",
              "      <td>NaN</td>\n",
              "      <td>NaN</td>\n",
              "      <td>NaN</td>\n",
              "      <td>NaN</td>\n",
              "      <td>NaN</td>\n",
              "      <td>NaN</td>\n",
              "      <td>NaN</td>\n",
              "      <td>NaN</td>\n",
              "      <td>NaN</td>\n",
              "      <td>NaN</td>\n",
              "      <td>NaN</td>\n",
              "      <td>NaN</td>\n",
              "      <td>NaN</td>\n",
              "      <td>NaN</td>\n",
              "      <td>NaN</td>\n",
              "      <td>NaN</td>\n",
              "      <td>NaN</td>\n",
              "    </tr>\n",
              "  </tbody>\n",
              "</table>\n",
              "<p>5 rows × 1975 columns</p>\n",
              "</div>\n",
              "      <button class=\"colab-df-convert\" onclick=\"convertToInteractive('df-03c9c274-4796-4155-8821-e1a90187164e')\"\n",
              "              title=\"Convert this dataframe to an interactive table.\"\n",
              "              style=\"display:none;\">\n",
              "        \n",
              "  <svg xmlns=\"http://www.w3.org/2000/svg\" height=\"24px\"viewBox=\"0 0 24 24\"\n",
              "       width=\"24px\">\n",
              "    <path d=\"M0 0h24v24H0V0z\" fill=\"none\"/>\n",
              "    <path d=\"M18.56 5.44l.94 2.06.94-2.06 2.06-.94-2.06-.94-.94-2.06-.94 2.06-2.06.94zm-11 1L8.5 8.5l.94-2.06 2.06-.94-2.06-.94L8.5 2.5l-.94 2.06-2.06.94zm10 10l.94 2.06.94-2.06 2.06-.94-2.06-.94-.94-2.06-.94 2.06-2.06.94z\"/><path d=\"M17.41 7.96l-1.37-1.37c-.4-.4-.92-.59-1.43-.59-.52 0-1.04.2-1.43.59L10.3 9.45l-7.72 7.72c-.78.78-.78 2.05 0 2.83L4 21.41c.39.39.9.59 1.41.59.51 0 1.02-.2 1.41-.59l7.78-7.78 2.81-2.81c.8-.78.8-2.07 0-2.86zM5.41 20L4 18.59l7.72-7.72 1.47 1.35L5.41 20z\"/>\n",
              "  </svg>\n",
              "      </button>\n",
              "      \n",
              "  <style>\n",
              "    .colab-df-container {\n",
              "      display:flex;\n",
              "      flex-wrap:wrap;\n",
              "      gap: 12px;\n",
              "    }\n",
              "\n",
              "    .colab-df-convert {\n",
              "      background-color: #E8F0FE;\n",
              "      border: none;\n",
              "      border-radius: 50%;\n",
              "      cursor: pointer;\n",
              "      display: none;\n",
              "      fill: #1967D2;\n",
              "      height: 32px;\n",
              "      padding: 0 0 0 0;\n",
              "      width: 32px;\n",
              "    }\n",
              "\n",
              "    .colab-df-convert:hover {\n",
              "      background-color: #E2EBFA;\n",
              "      box-shadow: 0px 1px 2px rgba(60, 64, 67, 0.3), 0px 1px 3px 1px rgba(60, 64, 67, 0.15);\n",
              "      fill: #174EA6;\n",
              "    }\n",
              "\n",
              "    [theme=dark] .colab-df-convert {\n",
              "      background-color: #3B4455;\n",
              "      fill: #D2E3FC;\n",
              "    }\n",
              "\n",
              "    [theme=dark] .colab-df-convert:hover {\n",
              "      background-color: #434B5C;\n",
              "      box-shadow: 0px 1px 3px 1px rgba(0, 0, 0, 0.15);\n",
              "      filter: drop-shadow(0px 1px 2px rgba(0, 0, 0, 0.3));\n",
              "      fill: #FFFFFF;\n",
              "    }\n",
              "  </style>\n",
              "\n",
              "      <script>\n",
              "        const buttonEl =\n",
              "          document.querySelector('#df-03c9c274-4796-4155-8821-e1a90187164e button.colab-df-convert');\n",
              "        buttonEl.style.display =\n",
              "          google.colab.kernel.accessAllowed ? 'block' : 'none';\n",
              "\n",
              "        async function convertToInteractive(key) {\n",
              "          const element = document.querySelector('#df-03c9c274-4796-4155-8821-e1a90187164e');\n",
              "          const dataTable =\n",
              "            await google.colab.kernel.invokeFunction('convertToInteractive',\n",
              "                                                     [key], {});\n",
              "          if (!dataTable) return;\n",
              "\n",
              "          const docLinkHtml = 'Like what you see? Visit the ' +\n",
              "            '<a target=\"_blank\" href=https://colab.research.google.com/notebooks/data_table.ipynb>data table notebook</a>'\n",
              "            + ' to learn more about interactive tables.';\n",
              "          element.innerHTML = '';\n",
              "          dataTable['output_type'] = 'display_data';\n",
              "          await google.colab.output.renderOutput(dataTable, element);\n",
              "          const docLink = document.createElement('div');\n",
              "          docLink.innerHTML = docLinkHtml;\n",
              "          element.appendChild(docLink);\n",
              "        }\n",
              "      </script>\n",
              "    </div>\n",
              "  </div>\n",
              "  "
            ],
            "text/plain": [
              "                              id        item_id  ... d_1968 d_1969\n",
              "0  HOBBIES_1_001_CA_1_evaluation  HOBBIES_1_001  ...    NaN    NaN\n",
              "1  HOBBIES_1_002_CA_1_evaluation  HOBBIES_1_002  ...    NaN    NaN\n",
              "2  HOBBIES_1_003_CA_1_evaluation  HOBBIES_1_003  ...    NaN    NaN\n",
              "3  HOBBIES_1_004_CA_1_evaluation  HOBBIES_1_004  ...    NaN    NaN\n",
              "4  HOBBIES_1_005_CA_1_evaluation  HOBBIES_1_005  ...    NaN    NaN\n",
              "\n",
              "[5 rows x 1975 columns]"
            ]
          },
          "metadata": {},
          "execution_count": 6
        }
      ],
      "source": [
        "sales_df = pd.read_csv(drive_path+'sales_train_evaluation.csv')\n",
        "# creating dummy data (d_1942 to d_1969) for test set\n",
        "sales_df[[f'd_{i}' for i in range(1942, 1970)]] = np.nan\n",
        "print(sales_df.shape)\n",
        "sales_df.head()"
      ]
    },
    {
      "cell_type": "markdown",
      "metadata": {
        "id": "J_wPjKhNLLWW"
      },
      "source": [
        "## melt days of sales data"
      ]
    },
    {
      "cell_type": "code",
      "execution_count": null,
      "metadata": {
        "id": "6h66a1mnlE_t"
      },
      "outputs": [],
      "source": [
        "index_columns = ['id','item_id','dept_id','cat_id','store_id','state_id']\n",
        "grid_df = pd.melt(sales_df,\n",
        "                  id_vars = index_columns, \n",
        "                  var_name = 'd', \n",
        "                  value_name = 'sales')"
      ]
    },
    {
      "cell_type": "markdown",
      "metadata": {
        "id": "AQV01WuvLhHj"
      },
      "source": [
        "## merge sales & calendar data"
      ]
    },
    {
      "cell_type": "markdown",
      "metadata": {
        "id": "nTQtogCZbKC3"
      },
      "source": [
        "### train set"
      ]
    },
    {
      "cell_type": "code",
      "execution_count": null,
      "metadata": {
        "id": "ZhYrL1ptk_fn"
      },
      "outputs": [],
      "source": [
        "train_sets = {}\n",
        "for key, store in {i+'_train_fea':i for i in sales_df.store_id.unique()}.items():\n",
        "  train_sets[key] = grid_df[grid_df.store_id==store].merge(train_cal, on='d', sort='date')\n",
        "  day = max([int(i.replace('d_','')) for i in train_sets[key].d.unique()])\n",
        "  print(f'{store} - {train_sets[key].shape} - d_{day}')"
      ]
    },
    {
      "cell_type": "markdown",
      "metadata": {
        "id": "Y8mY_oSSRWKB"
      },
      "source": [
        "### validation set"
      ]
    },
    {
      "cell_type": "code",
      "execution_count": null,
      "metadata": {
        "id": "ZD0r3o_1RVqi"
      },
      "outputs": [],
      "source": [
        "valid_sets = {}\n",
        "for key, store in {i+'_valid_fea':i for i in sales_df.store_id.unique()}.items():\n",
        "  valid_sets[key] = grid_df[grid_df.store_id==store].merge(valid_cal, on='d', sort='date')\n",
        "  day = max([int(i.replace('d_','')) for i in valid_sets[key].d.unique()])\n",
        "  print(f'{store} - {valid_sets[key].shape} - d_{day}')"
      ]
    },
    {
      "cell_type": "markdown",
      "metadata": {
        "id": "WgEaA2XFbCIp"
      },
      "source": [
        "### test set"
      ]
    },
    {
      "cell_type": "code",
      "execution_count": null,
      "metadata": {
        "id": "6Ds9XVb_aMjH"
      },
      "outputs": [],
      "source": [
        "test_sets = {}\n",
        "for key, store in {i+'_test_fea':i for i in sales_df.store_id.unique()}.items():\n",
        "  test_sets[key] = grid_df[grid_df.store_id==store].merge(test_cal, on='d', sort='date')\n",
        "  day = max([int(i.replace('d_','')) for i in test_sets[key].d.unique()])\n",
        "  print(f'{store} - {test_sets[key].shape} - d_{day}')"
      ]
    },
    {
      "cell_type": "code",
      "execution_count": null,
      "metadata": {
        "id": "1WvpUewPBR7I"
      },
      "outputs": [],
      "source": [
        "del grid_df"
      ]
    },
    {
      "cell_type": "code",
      "execution_count": null,
      "metadata": {
        "id": "qFaMxR8D_NZd"
      },
      "outputs": [],
      "source": [
        "def reduce_mem_size():\n",
        "  for key in train_sets.keys():\n",
        "    train_sets[key], _ = reduce_mem_usage(train_sets[key])\n",
        "  for key in valid_sets.keys():\n",
        "    valid_sets[key], _ = reduce_mem_usage(valid_sets[key])\n",
        "  for key in test_sets.keys():\n",
        "    test_sets[key], _ = reduce_mem_usage(test_sets[key])"
      ]
    },
    {
      "cell_type": "code",
      "execution_count": null,
      "metadata": {
        "id": "jwVISxsQWaoA"
      },
      "outputs": [],
      "source": [
        "reduce_mem_size()"
      ]
    },
    {
      "cell_type": "markdown",
      "metadata": {
        "id": "6d46kOkgWv89"
      },
      "source": [
        "## missing data"
      ]
    },
    {
      "cell_type": "code",
      "execution_count": null,
      "metadata": {
        "id": "3k0mthr_FKxe"
      },
      "outputs": [],
      "source": [
        "for i in train_fea.columns:\n",
        "  print(f\"'{i}' missing rows for train_set:{sum(train_fea[i].isna())} and test_set:{sum(test_fea[i].isna())}\")"
      ]
    },
    {
      "cell_type": "markdown",
      "metadata": {
        "id": "K4mKEdhCNeBu"
      },
      "source": [
        "# 2. EDA"
      ]
    },
    {
      "cell_type": "markdown",
      "metadata": {
        "id": "JBM_pMFZLw1b"
      },
      "source": [
        "## Sales by State and Store"
      ]
    },
    {
      "cell_type": "code",
      "execution_count": null,
      "metadata": {
        "id": "5HX5Xe6QmkzS"
      },
      "outputs": [],
      "source": [
        "sales_by_state_store = train_fea.groupby(['state_id', 'store_id', 'year', 'month', 'weekday', 'date', 'd']).aggregate('sales').sum().reset_index()\n",
        "sales_by_state_store.head()"
      ]
    },
    {
      "cell_type": "markdown",
      "metadata": {
        "id": "Pu6L13-dMFOc"
      },
      "source": [
        "### sales by state"
      ]
    },
    {
      "cell_type": "code",
      "execution_count": null,
      "metadata": {
        "id": "c_Khb42KXAwE"
      },
      "outputs": [],
      "source": [
        "sns.barplot(y=\"state_id\", x=\"sales\", orient='h', data=sales_by_state_store)"
      ]
    },
    {
      "cell_type": "code",
      "execution_count": null,
      "metadata": {
        "id": "150B5tpdtqim"
      },
      "outputs": [],
      "source": [
        "fig, ax = plt.subplots(figsize=(10, 6))\n",
        "for state in sales_by_state_store.state_id.unique():\n",
        "  ts = sales_by_state_store[sales_by_state_store.state_id==state][['date', 'sales']].sort_values('date').set_index('date').rolling(90).mean()\n",
        "  ax.plot(ts)\n",
        "  ax.xaxis.set_major_locator(mdates.YearLocator())\n",
        "  ax.xaxis.set_major_formatter(mdates.DateFormatter('%Y'))\n",
        "plt.legend(sales_by_state_store.state_id.unique())\n",
        "plt.grid()\n",
        "plt.tight_layout()\n"
      ]
    },
    {
      "cell_type": "markdown",
      "metadata": {
        "id": "B0Y06sdsMxAF"
      },
      "source": [
        "Observation:\n",
        "- Canada state has more sales than other states\n",
        "- In Canada for 3rd quater of the year 2013 & 2015 sales were max\n",
        "- In all states sales rising in start of the year and getting down at end of the year\n",
        "- WI state sales were monotonically increasing starting from 2011  "
      ]
    },
    {
      "cell_type": "markdown",
      "metadata": {
        "id": "qGt_-RwzMOmE"
      },
      "source": [
        "#### sales by state year wise\n"
      ]
    },
    {
      "cell_type": "code",
      "execution_count": null,
      "metadata": {
        "id": "Lttmvt1vrrKT"
      },
      "outputs": [],
      "source": [
        "fig, axs = plt.subplots(2, 3, figsize=(10, 6), sharex=True, sharey=True)\n",
        "for idx, yr in enumerate([2011, 2012, 2013, 2014, 2015, 2016]):\n",
        "  if idx<=2:\n",
        "    sns.barplot(y='state_id', x='sales', orient='h', data=sales_by_state_store[sales_by_state_store.year==yr], ax=axs[0, idx])\n",
        "    axs[0, idx].set_title(f'{yr}')\n",
        "  else:\n",
        "    sns.barplot(y='state_id', x='sales', orient='h', data=sales_by_state_store[sales_by_state_store.year==yr], ax=axs[1, idx-3])\n",
        "    axs[1, idx-3].set_title(f'{yr}')\n",
        "\n",
        "plt.tight_layout()\n"
      ]
    },
    {
      "cell_type": "code",
      "execution_count": null,
      "metadata": {
        "id": "92_-uW6zvPiU"
      },
      "outputs": [],
      "source": [
        "sns.heatmap(sales_by_state_store.groupby(['state_id', 'year']).aggregate('sales').sum().reset_index().pivot('state_id', 'year', 'sales'), linewidths=.5)"
      ]
    },
    {
      "cell_type": "code",
      "execution_count": null,
      "metadata": {
        "id": "QwhYpAZAw9_M"
      },
      "outputs": [],
      "source": [
        "fig, axs = plt.subplots(2, 3, figsize=(20, 10), sharey=True)\n",
        "for idx, yr in enumerate(sales_by_state_store.year.unique()):\n",
        "  for state in sales_by_state_store.state_id.unique():\n",
        "    ts = sales_by_state_store[(sales_by_state_store.year==yr) & (sales_by_state_store.state_id==state)][['date', 'sales']].sort_values('date').set_index('date').rolling(30).mean()\n",
        "    if idx<=2:\n",
        "      axs[0, idx].plot(ts)\n",
        "      axs[0, idx].set_title(f'{yr}')\n",
        "      axs[0, idx].tick_params(labelrotation=45)\n",
        "      axs[0, idx].xaxis.set_major_locator(mdates.MonthLocator(interval=1))\n",
        "      axs[0, idx].xaxis.set_major_formatter(mdates.DateFormatter('%b'))\n",
        "      axs[0, idx].legend(sales_by_state_store.state_id.unique())\n",
        "    else:\n",
        "      axs[1, idx-3].plot(ts)\n",
        "      axs[1, idx-3].set_title(f'{yr}')\n",
        "      axs[1, idx-3].tick_params(labelrotation=45)\n",
        "      axs[1, idx-3].xaxis.set_major_locator(mdates.MonthLocator())\n",
        "      axs[1, idx-3].xaxis.set_major_formatter(mdates.DateFormatter('%b'))\n",
        "      axs[1, idx-3].legend(sales_by_state_store.state_id.unique())\n",
        "plt.tight_layout()\n"
      ]
    },
    {
      "cell_type": "markdown",
      "metadata": {
        "id": "1GF-DdOzM-N3"
      },
      "source": [
        "Observation:\n",
        "- In all years, Canada has most sales\n",
        "- WI state is montonically increasing the sales year by year\n",
        "- In all states, most of the sales happenning during Jun-Oct months  "
      ]
    },
    {
      "cell_type": "markdown",
      "metadata": {
        "id": "iu3Z-UYDPIX7"
      },
      "source": [
        "### sales by store"
      ]
    },
    {
      "cell_type": "code",
      "execution_count": null,
      "metadata": {
        "id": "VmScLNgbZ2d3"
      },
      "outputs": [],
      "source": [
        "sns.barplot(y=\"store_id\", x=\"sales\", orient='h', data=sales_by_state_store.groupby(['store_id','year']).aggregate('sales').sum().reset_index().sort_values('sales', ascending=False))"
      ]
    },
    {
      "cell_type": "code",
      "execution_count": null,
      "metadata": {
        "id": "FH5FFTeTNFkq"
      },
      "outputs": [],
      "source": [
        "fig, ax = plt.subplots(figsize=(10, 6))\n",
        "for store in sales_by_state_store.store_id.unique():\n",
        "  ts = sales_by_state_store[sales_by_state_store.store_id==store][['date', 'sales']].sort_values('date').set_index('date').rolling(30).mean()\n",
        "  ax.plot(ts)\n",
        "  ax.xaxis.set_major_locator(mdates.YearLocator())\n",
        "  ax.xaxis.set_major_formatter(mdates.DateFormatter('%Y'))\n",
        "plt.legend(sales_by_state_store.store_id.unique())\n",
        "plt.tight_layout()\n"
      ]
    },
    {
      "cell_type": "markdown",
      "metadata": {
        "id": "CEaxrEqTPeUk"
      },
      "source": [
        "Observation:\n",
        "- 'CA_3' store has more sales comparative to others stores whereas 'CA_4' has least sales"
      ]
    },
    {
      "cell_type": "markdown",
      "metadata": {
        "id": "BnaK_8pGPwgb"
      },
      "source": [
        "#### sales by stores year wise\n"
      ]
    },
    {
      "cell_type": "code",
      "execution_count": null,
      "metadata": {
        "id": "_bQ6odgYuG7b"
      },
      "outputs": [],
      "source": [
        "fig, axs = plt.subplots(2, 3, figsize=(15, 6), sharex=True, sharey=True)\n",
        "\n",
        "d=sales_by_state_store.groupby(['store_id','year']).aggregate('sales').sum().reset_index().sort_values('sales', ascending=False)\n",
        "\n",
        "for idx, yr in enumerate([2011, 2012, 2013, 2014, 2015, 2016]):\n",
        "  if idx<=2:\n",
        "    sns.barplot(y='store_id', x='sales', orient='h', data=d[d.year==yr], ax=axs[0, idx])\n",
        "    axs[0, idx].set_title(f'{yr}')\n",
        "  else:\n",
        "    sns.barplot(y='store_id', x='sales', orient='h', data=d[d.year==yr], ax=axs[1, idx-3])\n",
        "    axs[1, idx-3].set_title(f'{yr}')\n",
        "\n",
        "plt.tight_layout()"
      ]
    },
    {
      "cell_type": "code",
      "execution_count": null,
      "metadata": {
        "id": "uLqIGlT8vvFX"
      },
      "outputs": [],
      "source": [
        "sns.heatmap(sales_by_state_store.groupby(['store_id', 'year']).aggregate('sales').sum().reset_index().pivot('store_id', 'year', 'sales'), linewidths=.5)"
      ]
    },
    {
      "cell_type": "code",
      "execution_count": null,
      "metadata": {
        "id": "-Ad_9g6PY48h"
      },
      "outputs": [],
      "source": [
        "fig, axs = plt.subplots(2, 3, figsize=(20, 10), sharey=True)\n",
        "for idx, yr in enumerate(sales_by_state_store.year.unique()):\n",
        "  for store in sales_by_state_store.store_id.unique():\n",
        "    ts = sales_by_state_store[(sales_by_state_store.year==yr) & (sales_by_state_store.store_id==store)][['date', 'sales']].sort_values('date').set_index('date').rolling(30).mean()\n",
        "    if idx<=2:\n",
        "      axs[0, idx].plot(ts)\n",
        "      axs[0, idx].set_title(f'{yr}')\n",
        "      axs[0, idx].tick_params(labelrotation=45)\n",
        "      axs[0, idx].xaxis.set_major_locator(mdates.MonthLocator(interval=1))\n",
        "      axs[0, idx].xaxis.set_major_formatter(mdates.DateFormatter('%b'))\n",
        "      axs[0, idx].legend(sales_by_state_store.store_id.unique())\n",
        "    else:\n",
        "      axs[1, idx-3].plot(ts)\n",
        "      axs[1, idx-3].set_title(f'{yr}')\n",
        "      axs[1, idx-3].tick_params(labelrotation=45)\n",
        "      axs[1, idx-3].xaxis.set_major_locator(mdates.MonthLocator())\n",
        "      axs[1, idx-3].xaxis.set_major_formatter(mdates.DateFormatter('%b'))\n",
        "      axs[1, idx-3].legend(sales_by_state_store.store_id.unique())\n",
        "plt.tight_layout()\n"
      ]
    },
    {
      "cell_type": "markdown",
      "metadata": {
        "id": "9Y1L603gQNHf"
      },
      "source": [
        "Observation:\n",
        "- In all years, 'CA_3' store has more sales comparative to others stores"
      ]
    },
    {
      "cell_type": "markdown",
      "metadata": {
        "id": "THhYj7yIQZAi"
      },
      "source": [
        "### sales by year\n"
      ]
    },
    {
      "cell_type": "code",
      "execution_count": null,
      "metadata": {
        "id": "fAAdAokCeA78"
      },
      "outputs": [],
      "source": [
        "sns.barplot(y=\"year\", x=\"sales\", orient='h', data=sales_by_state_store)"
      ]
    },
    {
      "cell_type": "code",
      "execution_count": null,
      "metadata": {
        "id": "F-dfNYBFw_eh"
      },
      "outputs": [],
      "source": [
        "plt.figure(figsize=(10,6))\n",
        "sns.boxplot(x=\"year\", y=\"sales\", data=sales_by_state_store)"
      ]
    },
    {
      "cell_type": "code",
      "execution_count": null,
      "metadata": {
        "id": "gAY8n4psZY-E"
      },
      "outputs": [],
      "source": [
        "fig, ax = plt.subplots(figsize=(10, 6))\n",
        "for yr in sales_by_state_store.year.unique():\n",
        "  ts = sales_by_state_store[sales_by_state_store.year==yr][['date', 'sales']].sort_values('date').set_index('date').rolling(90).mean()\n",
        "  ax.plot(ts)\n",
        "  ax.xaxis.set_major_locator(mdates.YearLocator())\n",
        "  ax.xaxis.set_major_formatter(mdates.DateFormatter('%b-%Y'))\n",
        "plt.legend(sales_by_state_store.year.unique())\n",
        "plt.tight_layout()\n"
      ]
    },
    {
      "cell_type": "markdown",
      "metadata": {
        "id": "1oUXjT3rQfX-"
      },
      "source": [
        "Observation:\n",
        "- In 2016, most sales happened and found to be sales were montonically increasing year by year   "
      ]
    },
    {
      "cell_type": "markdown",
      "metadata": {
        "id": "ZWdjZYOLRNNB"
      },
      "source": [
        "### sales by month\n"
      ]
    },
    {
      "cell_type": "code",
      "execution_count": null,
      "metadata": {
        "id": "rXbpsdouxAoW"
      },
      "outputs": [],
      "source": [
        "sns.barplot(y=\"month\", x=\"sales\", orient='h', data=sales_by_state_store)"
      ]
    },
    {
      "cell_type": "code",
      "execution_count": null,
      "metadata": {
        "id": "I57HkYdlzIf4"
      },
      "outputs": [],
      "source": [
        "plt.figure(figsize=(10,6))\n",
        "sns.boxenplot(x=\"month\", y=\"sales\", data=sales_by_state_store)"
      ]
    },
    {
      "cell_type": "markdown",
      "metadata": {
        "id": "nm-u2nzaSCQv"
      },
      "source": [
        "Observation:\n",
        "- Almost all months sales were approximately same   "
      ]
    },
    {
      "cell_type": "markdown",
      "metadata": {
        "id": "EQf8mO4CSMxk"
      },
      "source": [
        "#### sales by month year wise\n"
      ]
    },
    {
      "cell_type": "code",
      "execution_count": null,
      "metadata": {
        "id": "aHkbgCRixeFO"
      },
      "outputs": [],
      "source": [
        "fig, axs = plt.subplots(2, 3, figsize=(15, 6), sharex=True)\n",
        "\n",
        "sales_year_month_wise=sales_by_state_store.groupby(['year','month']).aggregate('sales').sum().reset_index().sort_values('sales')\n",
        "\n",
        "for idx, yr in enumerate([2011, 2012, 2013, 2014, 2015, 2016]):\n",
        "  if idx<=2:\n",
        "    sns.barplot(y='month', x='sales', orient='h', order=sales_year_month_wise[sales_year_month_wise.year==yr].month, data=sales_year_month_wise[sales_year_month_wise.year==yr], ax=axs[0, idx])\n",
        "    axs[0, idx].set_title(f'{yr}')\n",
        "  else:\n",
        "    sns.barplot(y='month', x='sales', orient='h', order=sales_year_month_wise[sales_year_month_wise.year==yr].month, data=sales_year_month_wise[sales_year_month_wise.year==yr], ax=axs[1, idx-3])\n",
        "    axs[1, idx-3].set_title(f'{yr}')\n",
        "\n",
        "plt.tight_layout()"
      ]
    },
    {
      "cell_type": "code",
      "execution_count": null,
      "metadata": {
        "id": "P0E5lEYSwGWU"
      },
      "outputs": [],
      "source": [
        "sns.heatmap(sales_by_state_store.groupby(['month', 'year']).aggregate('sales').sum().reset_index().pivot('month', 'year', 'sales'), linewidths=.5)"
      ]
    },
    {
      "cell_type": "code",
      "execution_count": null,
      "metadata": {
        "id": "DFwEFy-taTly"
      },
      "outputs": [],
      "source": [
        "fig, axs = plt.subplots(2, 3, figsize=(20, 10), sharey=True)\n",
        "for idx, yr in enumerate(sales_by_state_store.year.unique()):\n",
        "  for m in sales_by_state_store.month.unique():\n",
        "    ts = sales_by_state_store[(sales_by_state_store.year==yr) & (sales_by_state_store.month==m)][['date', 'sales']].sort_values('date').set_index('date').rolling(30).mean()\n",
        "    if idx<=2:\n",
        "      axs[0, idx].plot(ts)\n",
        "      axs[0, idx].set_title(f'{yr}')\n",
        "      axs[0, idx].tick_params(labelrotation=45)\n",
        "      axs[0, idx].xaxis.set_major_locator(mdates.MonthLocator(interval=1))\n",
        "      axs[0, idx].xaxis.set_major_formatter(mdates.DateFormatter('%b'))\n",
        "    else:\n",
        "      axs[1, idx-3].plot(ts)\n",
        "      axs[1, idx-3].set_title(f'{yr}')\n",
        "      axs[1, idx-3].tick_params(labelrotation=45)\n",
        "      axs[1, idx-3].xaxis.set_major_locator(mdates.MonthLocator())\n",
        "      axs[1, idx-3].xaxis.set_major_formatter(mdates.DateFormatter('%b'))\n",
        "plt.tight_layout()\n"
      ]
    },
    {
      "cell_type": "markdown",
      "metadata": {
        "id": "zPzMco35TNIx"
      },
      "source": [
        "Observation:\n",
        "- In all the years, month sales was very high during 'Aug' to 'Oct' period\n",
        "- In 2016, 'Mar' & 'Apr' months sales was very high"
      ]
    },
    {
      "cell_type": "markdown",
      "metadata": {
        "id": "9aRSXDlaUMQa"
      },
      "source": [
        "### sales by weekday\n"
      ]
    },
    {
      "cell_type": "code",
      "execution_count": null,
      "metadata": {
        "id": "sRSbV-NecvLR"
      },
      "outputs": [],
      "source": [
        "fig, ax = plt.subplots(figsize=(15, 6))\n",
        "for w in sales_by_state_store.weekday.unique():\n",
        "  ts = sales_by_state_store[sales_by_state_store.weekday==w][['date', 'sales']].sort_values('date').set_index('date').rolling(90).mean()\n",
        "  ax.plot(ts)\n",
        "  ax.tick_params(labelrotation=45)\n",
        "  ax.xaxis.set_major_locator(mdates.MonthLocator(interval=3))\n",
        "  ax.xaxis.set_major_formatter(mdates.DateFormatter('%b-%Y'))\n",
        "plt.grid()\n",
        "plt.legend(sales_by_state_store.weekday.unique())\n",
        "plt.tight_layout()\n"
      ]
    },
    {
      "cell_type": "code",
      "execution_count": null,
      "metadata": {
        "id": "zH_bsM0z3xuI"
      },
      "outputs": [],
      "source": [
        "fig, axs = plt.subplots(2, 3, figsize=(20, 8), sharex=True, sharey=True)\n",
        "\n",
        "sales_by_weekday = sales_by_state_store.groupby(['year', 'weekday']).aggregate('sales').sum().reset_index().sort_values('sales', ascending=False)\n",
        "\n",
        "for idx, yr in enumerate([2011, 2012, 2013, 2014, 2015, 2016]):\n",
        "  if idx<=2:\n",
        "    sns.barplot(y='weekday', x='sales', orient='h', data=sales_by_weekday[sales_by_weekday.year==yr], ax=axs[0, idx])\n",
        "    axs[0, idx].set_title(f'{yr}')\n",
        "  else:\n",
        "    sns.barplot(y='weekday', x='sales', data=sales_by_weekday[sales_by_weekday.year==yr], ax=axs[1, idx-3])\n",
        "    axs[1, idx-3].set_title(f'{yr}')\n",
        "\n",
        "plt.tight_layout()"
      ]
    },
    {
      "cell_type": "code",
      "execution_count": null,
      "metadata": {
        "id": "Q3NUa_tZwocz"
      },
      "outputs": [],
      "source": [
        "sns.heatmap(sales_by_state_store.groupby(['weekday', 'year']).aggregate('sales').sum().reset_index().pivot('weekday', 'year', 'sales'), linewidths=.5)"
      ]
    },
    {
      "cell_type": "code",
      "execution_count": null,
      "metadata": {
        "id": "0H8aJRx5bSsj"
      },
      "outputs": [],
      "source": [
        "fig, axs = plt.subplots(2, 3, figsize=(20, 10), sharey=True)\n",
        "for idx, yr in enumerate(sales_by_state_store.year.unique()):\n",
        "  for wk in sales_by_state_store.weekday.unique():\n",
        "    ts = sales_by_state_store[(sales_by_state_store.year==yr) & (sales_by_state_store.weekday==wk)][['date', 'sales']].sort_values('date').set_index('date').rolling(90).mean()\n",
        "    if idx<=2:\n",
        "      axs[0, idx].plot(ts)\n",
        "      axs[0, idx].set_title(f'{yr}')\n",
        "      axs[0, idx].tick_params(labelrotation=45)\n",
        "      axs[0, idx].xaxis.set_major_locator(mdates.MonthLocator(interval=1))\n",
        "      axs[0, idx].xaxis.set_major_formatter(mdates.DateFormatter('%b'))\n",
        "      axs[0, idx].legend(sales_by_state_store.weekday.unique())\n",
        "    else:\n",
        "      axs[1, idx-3].plot(ts)\n",
        "      axs[1, idx-3].set_title(f'{yr}')\n",
        "      axs[1, idx-3].tick_params(labelrotation=45)\n",
        "      axs[1, idx-3].xaxis.set_major_locator(mdates.MonthLocator())\n",
        "      axs[1, idx-3].xaxis.set_major_formatter(mdates.DateFormatter('%b'))\n",
        "      axs[1, idx-3].legend(sales_by_state_store.weekday.unique())\n",
        "plt.tight_layout()\n"
      ]
    },
    {
      "cell_type": "markdown",
      "metadata": {
        "id": "fWp74LSwUsfy"
      },
      "source": [
        "Observation:\n",
        "- Weekends Saturday & Sunday got more sales, follwed by Friday & Monday and weekdays(Tue, Wed, Thu) sales seems to be same"
      ]
    },
    {
      "cell_type": "markdown",
      "metadata": {
        "id": "g-_-PMJvU9zR"
      },
      "source": [
        "## Sales by Category and Department"
      ]
    },
    {
      "cell_type": "code",
      "execution_count": null,
      "metadata": {
        "id": "TMBtAN_029De"
      },
      "outputs": [],
      "source": [
        "sales_by_cat_dept = train_fea.groupby(['cat_id', 'dept_id', 'store_id', 'year', 'month', 'weekday', 'date', 'd']).aggregate('sales').sum().reset_index().sort_values('sales', ascending=False)\n",
        "sales_by_cat_dept.head()"
      ]
    },
    {
      "cell_type": "markdown",
      "metadata": {
        "id": "980vwDfXVKFJ"
      },
      "source": [
        "### sales by category"
      ]
    },
    {
      "cell_type": "code",
      "execution_count": null,
      "metadata": {
        "id": "FmR3S4Q9xydB"
      },
      "outputs": [],
      "source": [
        "sns.barplot(y=\"cat_id\", x=\"sales\", orient='h', data=sales_by_cat_dept)"
      ]
    },
    {
      "cell_type": "code",
      "execution_count": null,
      "metadata": {
        "id": "2VBUxqhbe2WG"
      },
      "outputs": [],
      "source": [
        "fig, ax = plt.subplots(figsize=(10, 6))\n",
        "for cat in sales_by_cat_dept.cat_id.unique():\n",
        "  ts = sales_by_cat_dept[sales_by_cat_dept.cat_id==cat][['date', 'sales']].sort_values('date').set_index('date').rolling(180).mean()\n",
        "  ax.plot(ts)\n",
        "  ax.tick_params(labelrotation=45)\n",
        "  ax.xaxis.set_major_locator(mdates.MonthLocator(interval=6))\n",
        "  ax.xaxis.set_major_formatter(mdates.DateFormatter('%b-%Y'))\n",
        "plt.legend(sales_by_cat_dept.cat_id.unique())\n",
        "plt.tight_layout()\n"
      ]
    },
    {
      "cell_type": "markdown",
      "metadata": {
        "id": "WAgJ-wKlV3AN"
      },
      "source": [
        "Observation:\n",
        "- FOODS category got more & monotonic incresing sales, follwed by HOUSEHOLD \n",
        "- HOBBIES category sales were nuetral in all the years"
      ]
    },
    {
      "cell_type": "markdown",
      "metadata": {
        "id": "v0TlpwksVriy"
      },
      "source": [
        "#### sales by category year wise\n"
      ]
    },
    {
      "cell_type": "code",
      "execution_count": null,
      "metadata": {
        "id": "GoSw5jPjBjwR"
      },
      "outputs": [],
      "source": [
        "fig, axs = plt.subplots(2, 3, figsize=(15, 6), sharex=True, sharey=True)\n",
        "\n",
        "sales_by_category_year_wise=sales_by_cat_dept.groupby(['year','cat_id']).aggregate('sales').sum().reset_index().sort_values('sales', ascending=False)\n",
        "\n",
        "for idx, yr in enumerate([2011, 2012, 2013, 2014, 2015, 2016]):\n",
        "  if idx<=2:\n",
        "    sns.barplot(y='cat_id', x='sales', orient='h', data=sales_by_category_year_wise[sales_by_category_year_wise.year==yr], ax=axs[0, idx])\n",
        "    axs[0, idx].set_title(f'{yr}')\n",
        "  else:\n",
        "    sns.barplot(y='cat_id', x='sales', orient='h', data=sales_by_category_year_wise[sales_by_category_year_wise.year==yr], ax=axs[1, idx-3])\n",
        "    axs[1, idx-3].set_title(f'{yr}')\n",
        "\n",
        "plt.tight_layout()"
      ]
    },
    {
      "cell_type": "code",
      "execution_count": null,
      "metadata": {
        "id": "uiQPoyQGwznq"
      },
      "outputs": [],
      "source": [
        "sns.heatmap(sales_by_category_year_wise.groupby(['cat_id', 'year']).aggregate('sales').sum().reset_index().pivot('cat_id', 'year', 'sales'), linewidths=.5)"
      ]
    },
    {
      "cell_type": "markdown",
      "metadata": {
        "id": "aEfbn0HJWddV"
      },
      "source": [
        "Observation:\n",
        "- In all years, FOODS category had made more sales, followed by HOUSEHOLD and least sales happend for HOBBIES category"
      ]
    },
    {
      "cell_type": "markdown",
      "metadata": {
        "id": "MBy-JglyXzst"
      },
      "source": [
        "#### sales by catetory store-wise\n"
      ]
    },
    {
      "cell_type": "code",
      "execution_count": null,
      "metadata": {
        "id": "r4U3mnrx4cWh"
      },
      "outputs": [],
      "source": [
        "plt.figure(figsize=(20,6))\n",
        "sns.boxplot(hue='cat_id', x=\"store_id\", y=\"sales\", data=sales_by_cat_dept)"
      ]
    },
    {
      "cell_type": "code",
      "execution_count": null,
      "metadata": {
        "id": "xiNKJwTpK9yq"
      },
      "outputs": [],
      "source": [
        "fig, axs = plt.subplots(2, 5, figsize=(15, 6), sharex=True, sharey=True)\n",
        "\n",
        "sales_by_category_store=sales_by_cat_dept.groupby(['year','cat_id', 'store_id']).aggregate('sales').sum().reset_index().sort_values('sales', ascending=False)\n",
        "\n",
        "for idx, store in enumerate(sales_by_cat_dept.store_id.unique()):\n",
        "  if idx<=4:\n",
        "    sns.barplot(y='cat_id', x='sales', orient='h', data=sales_by_category_store[sales_by_category_store.store_id==store], ax=axs[0, idx])\n",
        "    axs[0, idx].set_title(f'{store}')\n",
        "  else:\n",
        "    sns.barplot(y='cat_id', x='sales', orient='h', data=sales_by_category_store[sales_by_category_store.store_id==store], ax=axs[1, idx-5])\n",
        "    axs[1, idx-5].set_title(f'{store}')\n",
        "\n",
        "plt.tight_layout()"
      ]
    },
    {
      "cell_type": "code",
      "execution_count": null,
      "metadata": {
        "id": "DbsQrPD4xDeS"
      },
      "outputs": [],
      "source": [
        "sns.heatmap(sales_by_category_store.groupby(['cat_id', 'store_id']).aggregate('sales').sum().reset_index().pivot('cat_id', 'store_id', 'sales'), linewidths=.5)"
      ]
    },
    {
      "cell_type": "markdown",
      "metadata": {
        "id": "Z-1Qq1tOYQ_v"
      },
      "source": [
        "Observation:\n",
        "- In all stores, FOODS category had made more sales, followed by HOUSEHOLD and least sales happend for HOBBIES category"
      ]
    },
    {
      "cell_type": "markdown",
      "metadata": {
        "id": "t3P7uKQPWr9O"
      },
      "source": [
        "### sales by department"
      ]
    },
    {
      "cell_type": "code",
      "execution_count": null,
      "metadata": {
        "id": "Q347sdxqEG6L"
      },
      "outputs": [],
      "source": [
        "sales_by_dept=sales_by_cat_dept.groupby(['year','dept_id']).aggregate('sales').sum().reset_index().sort_values('sales', ascending=False)\n",
        "\n",
        "plt.figure(figsize=(9,4))\n",
        "\n",
        "sns.barplot(y=\"dept_id\", x=\"sales\", orient='h', data=sales_by_dept)"
      ]
    },
    {
      "cell_type": "code",
      "execution_count": null,
      "metadata": {
        "id": "59cCt9L1fOgl"
      },
      "outputs": [],
      "source": [
        "fig, ax = plt.subplots(figsize=(10, 6))\n",
        "for dept in sales_by_cat_dept.dept_id.unique():\n",
        "  ts = sales_by_cat_dept[sales_by_cat_dept.dept_id==dept][['date', 'sales']].sort_values('date').set_index('date').rolling(90).mean()\n",
        "  ax.plot(ts)\n",
        "  ax.tick_params(labelrotation=45)\n",
        "  ax.xaxis.set_major_locator(mdates.MonthLocator(interval=6))\n",
        "  ax.xaxis.set_major_formatter(mdates.DateFormatter('%b-%Y'))\n",
        "plt.legend(sales_by_cat_dept.dept_id.unique())\n",
        "plt.tight_layout()\n"
      ]
    },
    {
      "cell_type": "markdown",
      "metadata": {
        "id": "72wFindeW6qf"
      },
      "source": [
        "Observation:\n",
        "- FOODS_3 department has most of the sales, followed by HOUSEHOLD_1 and HOBBIES_2 has least sales "
      ]
    },
    {
      "cell_type": "markdown",
      "metadata": {
        "id": "eG3puqaQXLO-"
      },
      "source": [
        "#### sales by department year wise\n"
      ]
    },
    {
      "cell_type": "code",
      "execution_count": null,
      "metadata": {
        "id": "0QFat3L33b1e"
      },
      "outputs": [],
      "source": [
        "fig, axs = plt.subplots(2, 3, figsize=(18, 6), sharex=True, sharey=True)\n",
        "\n",
        "for idx, yr in enumerate([2011, 2012, 2013, 2014, 2015, 2016]):\n",
        "  if idx<=2:\n",
        "    sns.barplot(y=\"dept_id\", x=\"sales\", orient='h', data=sales_by_dept[sales_by_dept.year==yr], ax=axs[0, idx])\n",
        "    axs[0, idx].set_title(f'{yr}')\n",
        "  else:\n",
        "    sns.barplot(y=\"dept_id\", x=\"sales\", orient='h', data=sales_by_dept[sales_by_dept.year==yr], ax=axs[1, idx-3])\n",
        "    axs[1, idx-3].set_title(f'{yr}')\n",
        "plt.tight_layout()"
      ]
    },
    {
      "cell_type": "code",
      "execution_count": null,
      "metadata": {
        "id": "cFu7LZCBxZ70"
      },
      "outputs": [],
      "source": [
        "sns.heatmap(sales_by_dept.groupby(['dept_id', 'year']).aggregate('sales').sum().reset_index().pivot('dept_id', 'year', 'sales'), linewidths=.5)"
      ]
    },
    {
      "cell_type": "markdown",
      "metadata": {
        "id": "CRs-hfY5XiJb"
      },
      "source": [
        "Observation:\n",
        "- In all years, FOODS_3 department has most of the sales, followed by HOUSEHOLD_1 and HOBBIES_2 has least sales "
      ]
    },
    {
      "cell_type": "markdown",
      "metadata": {
        "id": "Ba3qi4rQY4a0"
      },
      "source": [
        "#### sales by department store-wise\n"
      ]
    },
    {
      "cell_type": "code",
      "execution_count": null,
      "metadata": {
        "id": "GENSvpH8MgEg"
      },
      "outputs": [],
      "source": [
        "fig, axs = plt.subplots(2, 5, figsize=(20, 6), sharex=True)\n",
        "\n",
        "sales_by_dept_store=sales_by_cat_dept.groupby(['year','dept_id', 'store_id']).aggregate('sales').sum().reset_index().sort_values('sales', ascending=False)\n",
        "\n",
        "for idx, store in enumerate(sales_by_cat_dept.store_id.unique()):\n",
        "  if idx<=4:\n",
        "    sns.barplot(y='dept_id', x='sales', orient='h', data=sales_by_dept_store[sales_by_dept_store.store_id==store], ax=axs[0, idx])\n",
        "    axs[0, idx].set_title(f'{store}')\n",
        "  else:\n",
        "    sns.barplot(y='dept_id', x='sales', orient='h', data=sales_by_dept_store[sales_by_dept_store.store_id==store], ax=axs[1, idx-5])\n",
        "    axs[1, idx-5].set_title(f'{store}')\n",
        "\n",
        "plt.tight_layout()"
      ]
    },
    {
      "cell_type": "code",
      "execution_count": null,
      "metadata": {
        "id": "sQZzSZnXxu6J"
      },
      "outputs": [],
      "source": [
        "sns.heatmap(sales_by_dept_store.groupby(['dept_id', 'store_id']).aggregate('sales').sum().reset_index().pivot('dept_id', 'store_id', 'sales'), linewidths=.5)"
      ]
    },
    {
      "cell_type": "markdown",
      "metadata": {
        "id": "7blYnKFOZAvE"
      },
      "source": [
        "Observation:\n",
        "- In all of the stores, FOODS_3 department has most of the sales and followed by HOUSEHOLD_1  "
      ]
    },
    {
      "cell_type": "markdown",
      "metadata": {
        "id": "yMydX8SKaQRu"
      },
      "source": [
        "## Sales by Eevent Type"
      ]
    },
    {
      "cell_type": "code",
      "execution_count": null,
      "metadata": {
        "id": "x5sohCgv3mQW"
      },
      "outputs": [],
      "source": [
        "sales_by_events = train_fea.groupby(['event_type_1', 'event_name_1', 'item_id',\t'dept_id',\t'cat_id',\t'store_id',\t'state_id', 'year', 'month', 'weekday', 'date', 'd']).aggregate('sales').sum().reset_index()\n",
        "print(sales_by_events.shape)\n",
        "sales_by_events.head()"
      ]
    },
    {
      "cell_type": "code",
      "execution_count": null,
      "metadata": {
        "id": "Rd3_bj7sfCm9"
      },
      "outputs": [],
      "source": [
        "sale_by_event_type = sales_by_events.groupby(['event_type_1', 'year', 'state_id', 'store_id']).aggregate('sales').sum().reset_index().sort_values('sales', ascending=False)\n",
        "\n",
        "sns.barplot(y='event_type_1', x='sales', orient='h', data=sale_by_event_type)\n"
      ]
    },
    {
      "cell_type": "markdown",
      "metadata": {
        "id": "-jULA4k4auzx"
      },
      "source": [
        "Observation:\n",
        "- 'Religious' event has most of the sales, followed by 'National' and 'Sporting' has least sales "
      ]
    },
    {
      "cell_type": "markdown",
      "metadata": {
        "id": "GT6xEvMBbBYy"
      },
      "source": [
        "#### sale by event type year wise\n"
      ]
    },
    {
      "cell_type": "code",
      "execution_count": null,
      "metadata": {
        "id": "2gvNYuJXfZGd"
      },
      "outputs": [],
      "source": [
        "fig, axs = plt.subplots(2, 3, figsize=(18, 6))\n",
        "\n",
        "for idx, yr in enumerate([2011, 2012, 2013, 2014, 2015, 2016]):\n",
        "  if idx<=2:\n",
        "    sns.barplot(y=\"event_type_1\", x=\"sales\", orient='h', data=sale_by_event_type[sale_by_event_type.year==yr], ax=axs[0, idx])\n",
        "    axs[0, idx].set_title(f'{yr}')\n",
        "  else:\n",
        "    sns.barplot(y=\"event_type_1\", x=\"sales\", orient='h', data=sale_by_event_type[sale_by_event_type.year==yr], ax=axs[1, idx-3])\n",
        "    axs[1, idx-3].set_title(f'{yr}')\n",
        "plt.tight_layout()\n"
      ]
    },
    {
      "cell_type": "code",
      "execution_count": null,
      "metadata": {
        "id": "6O-5LLR2yRKg"
      },
      "outputs": [],
      "source": [
        "sns.heatmap(sale_by_event_type.groupby(['event_type_1', 'year']).aggregate('sales').sum().reset_index().pivot('event_type_1', 'year', 'sales'), linewidths=.5)"
      ]
    },
    {
      "cell_type": "markdown",
      "metadata": {
        "id": "TCl1NyCObS-z"
      },
      "source": [
        "Observation:\n",
        "- In all years, 'Religious' event has most of the sales, followed by 'National' and 'Sporting' has least sales "
      ]
    },
    {
      "cell_type": "markdown",
      "metadata": {
        "id": "MFbhkzcpbW7O"
      },
      "source": [
        "#### sales by event type state wise"
      ]
    },
    {
      "cell_type": "code",
      "execution_count": null,
      "metadata": {
        "id": "s9V3b21snuFX"
      },
      "outputs": [],
      "source": [
        "fig, axs = plt.subplots(3, figsize=(8, 6))\n",
        "\n",
        "for idx, state in enumerate(sale_by_event_type.state_id.unique()):\n",
        "  sns.barplot(y=\"event_type_1\", x=\"sales\", orient='h', data=sale_by_event_type[sale_by_event_type.state_id==state], ax=axs[idx])\n",
        "  axs[idx].set_title(f'{state}')\n",
        "plt.tight_layout()\n"
      ]
    },
    {
      "cell_type": "code",
      "execution_count": null,
      "metadata": {
        "id": "xdQwgQd_yui6"
      },
      "outputs": [],
      "source": [
        "sns.heatmap(sale_by_event_type.groupby(['event_type_1', 'state_id']).aggregate('sales').sum().reset_index().pivot('event_type_1', 'state_id', 'sales'), linewidths=.5)"
      ]
    },
    {
      "cell_type": "markdown",
      "metadata": {
        "id": "5K-xEChGb7qb"
      },
      "source": [
        "Observation:\n",
        "- In all States, 'Religious' event has most of the sales in 'CA' state, followed by 'National' and 'Sporting' has least sales "
      ]
    },
    {
      "cell_type": "markdown",
      "metadata": {
        "id": "rr_HVvmscBW7"
      },
      "source": [
        "#### sales by event type store-wise"
      ]
    },
    {
      "cell_type": "code",
      "execution_count": null,
      "metadata": {
        "id": "RedUpfWGpANQ"
      },
      "outputs": [],
      "source": [
        "fig, axs = plt.subplots(2, 5, figsize=(20, 6), sharex=True, sharey=True)\n",
        "\n",
        "for idx, store in enumerate(sale_by_event_type.store_id.unique()):\n",
        "  if idx<=4:\n",
        "    sns.barplot(y='event_type_1', x='sales', orient='h', data=sale_by_event_type[sale_by_event_type.store_id==store], ax=axs[0, idx])\n",
        "    axs[0, idx].set_title(f'{store}')\n",
        "  else:\n",
        "    sns.barplot(y='event_type_1', x='sales', orient='h', data=sale_by_event_type[sale_by_event_type.store_id==store], ax=axs[1, idx-5])\n",
        "    axs[1, idx-5].set_title(f'{store}')\n",
        "\n",
        "plt.tight_layout()\n"
      ]
    },
    {
      "cell_type": "code",
      "execution_count": null,
      "metadata": {
        "id": "E-wSScUQy7W3"
      },
      "outputs": [],
      "source": [
        "sns.heatmap(sale_by_event_type.groupby(['event_type_1', 'store_id']).aggregate('sales').sum().reset_index().pivot('event_type_1', 'store_id', 'sales'), linewidths=.5)"
      ]
    },
    {
      "cell_type": "markdown",
      "metadata": {
        "id": "7YZ6uTvVcZUW"
      },
      "source": [
        "Observation:\n",
        "- In all Stores, 'Religious' event has most of the sales in 'CA_3' store, followed by 'National' and 'Sporting' has least sales "
      ]
    },
    {
      "cell_type": "markdown",
      "metadata": {
        "id": "kfNQw5_jdPAp"
      },
      "source": [
        "## Sales by Eevent Name"
      ]
    },
    {
      "cell_type": "code",
      "execution_count": null,
      "metadata": {
        "id": "igDov1h0eu8r"
      },
      "outputs": [],
      "source": [
        "sales_by_event_name = sales_by_events.groupby(['event_name_1','year','state_id','store_id']).aggregate('sales').sum().reset_index().sort_values('sales', ascending=False)\n",
        "\n",
        "sns.barplot(y='event_name_1', x='sales', orient='h', data=sales_by_event_name.iloc[:10])\n"
      ]
    },
    {
      "cell_type": "markdown",
      "metadata": {
        "id": "3Xfg3XWRdZ2T"
      },
      "source": [
        "Observation:\n",
        "- Almost all events has apporx same sales "
      ]
    },
    {
      "cell_type": "markdown",
      "metadata": {
        "id": "ie16JhpYd8Rm"
      },
      "source": [
        "### sales by event name year wise "
      ]
    },
    {
      "cell_type": "code",
      "execution_count": null,
      "metadata": {
        "id": "lhiNjrKFnEfY"
      },
      "outputs": [],
      "source": [
        "fig, axs = plt.subplots(2, 3, figsize=(18, 6))\n",
        "\n",
        "for idx, yr in enumerate([2011, 2012, 2013, 2014, 2015, 2016]):\n",
        "  if idx<=2:\n",
        "    sns.barplot(y=\"event_name_1\", x=\"sales\", orient='h', data=sales_by_event_name[sales_by_event_name.year==yr].iloc[:10], ax=axs[0, idx])\n",
        "    axs[0, idx].set_title(f'{yr}')\n",
        "  else:\n",
        "    sns.barplot(y=\"event_name_1\", x=\"sales\", orient='h', data=sales_by_event_name[sales_by_event_name.year==yr].iloc[:10], ax=axs[1, idx-3])\n",
        "    axs[1, idx-3].set_title(f'{yr}')\n",
        "plt.tight_layout()\n"
      ]
    },
    {
      "cell_type": "markdown",
      "metadata": {
        "id": "iZbxV5JFeZCc"
      },
      "source": [
        "Observation:\n",
        "- Event sales are different year to year "
      ]
    },
    {
      "cell_type": "markdown",
      "metadata": {
        "id": "bjBgxtjreoHr"
      },
      "source": [
        "#### sales by event name state wise"
      ]
    },
    {
      "cell_type": "code",
      "execution_count": null,
      "metadata": {
        "id": "UtudD3Hipq77"
      },
      "outputs": [],
      "source": [
        "fig, axs = plt.subplots(3, figsize=(10, 6), sharex=True)\n",
        "\n",
        "for idx, state in enumerate(sales_by_event_name.state_id.unique()):\n",
        "  sns.barplot(y=\"event_name_1\", x=\"sales\", orient='h', data=sales_by_event_name[sales_by_event_name.state_id==state].iloc[:10], ax=axs[idx])\n",
        "  axs[idx].set_title(f'{state}')\n",
        "plt.tight_layout()\n"
      ]
    },
    {
      "cell_type": "markdown",
      "metadata": {
        "id": "mJEm-Bf5e7oV"
      },
      "source": [
        "Observation:\n",
        "- Event sales importance are different in each state"
      ]
    },
    {
      "cell_type": "markdown",
      "metadata": {
        "id": "uqjHenEifnlB"
      },
      "source": [
        "#### sales by event name store wise"
      ]
    },
    {
      "cell_type": "code",
      "execution_count": null,
      "metadata": {
        "id": "AlgZTxRq5KFF"
      },
      "outputs": [],
      "source": [
        "fig, axs = plt.subplots(2, 5, figsize=(20, 6), sharex=True)\n",
        "\n",
        "for idx, store in enumerate(sales_by_event_name.store_id.unique()):\n",
        "  if idx<=4:\n",
        "    sns.barplot(y='event_name_1', x='sales', orient='h', data=sales_by_event_name[sales_by_event_name.store_id==store].iloc[:10], ax=axs[0, idx])\n",
        "    axs[0, idx].set_title(f'{store}')\n",
        "  else:\n",
        "    sns.barplot(y='event_name_1', x='sales', orient='h', data=sales_by_event_name[sales_by_event_name.store_id==store].iloc[:10], ax=axs[1, idx-5])\n",
        "    axs[1, idx-5].set_title(f'{store}')\n",
        "\n",
        "plt.tight_layout()\n"
      ]
    },
    {
      "cell_type": "markdown",
      "metadata": {
        "id": "CBgaFmp7fyeA"
      },
      "source": [
        "Observation:\n",
        "- Event sales importance are different in each store"
      ]
    },
    {
      "cell_type": "markdown",
      "metadata": {
        "id": "clii5Y_ZZdrk"
      },
      "source": [
        "## Sales by Items\n"
      ]
    },
    {
      "cell_type": "code",
      "execution_count": null,
      "metadata": {
        "id": "VzwLvizirbOJ"
      },
      "outputs": [],
      "source": [
        "sales_by_item = sales_df.groupby('item_id').sum().reset_index()\n",
        "print(sales_by_item.shape)\n",
        "top_food_items = sales_by_item.set_index('item_id').sum(axis=1).sort_values(ascending=False).reset_index()\n",
        "top_food_items.columns = ['item_id', 'sales']\n",
        "d_cols = [f'd_{i+1}' for i in range(1941)]\n",
        "\n",
        "sns.barplot(y='item_id', x='sales', orient='h', data = top_food_items.iloc[:20])\n"
      ]
    },
    {
      "cell_type": "code",
      "execution_count": null,
      "metadata": {
        "id": "y8drs_Kt7mJq"
      },
      "outputs": [],
      "source": [
        "fig, axs = plt.subplots(4, 6, figsize=(20, 10), sharey=True)\n",
        "\n",
        "index = 0\n",
        "for r in range(4):\n",
        "  for c in range(6):\n",
        "    it = top_food_items.iloc[index].item_id\n",
        "    d = pd.Series(sales_by_item[sales_by_item.item_id==it][d_cols].values[0]).rolling(90).mean()\n",
        "    axs[r, c].plot(d)\n",
        "    axs[r, c].set_title(f'Top {index+1} item - {it} ')\n",
        "    index +=1\n",
        "plt.tight_layout()\n",
        "plt.show()"
      ]
    },
    {
      "cell_type": "markdown",
      "metadata": {
        "id": "lLLfiOh7jOEd"
      },
      "source": [
        "Observation:\n",
        "- Top itmes are from 'FOODS_3' department and 'FOODS' category"
      ]
    },
    {
      "cell_type": "markdown",
      "metadata": {
        "id": "V0WmiB2-inxl"
      },
      "source": [
        "## Sales by Days\n"
      ]
    },
    {
      "cell_type": "code",
      "execution_count": null,
      "metadata": {
        "id": "ngoROFE3cTqN"
      },
      "outputs": [],
      "source": [
        "sales_by_days = sales_by_cat_dept.groupby(['year','date','d']).sum().reset_index()\n",
        "print(sales_by_days.shape)\n",
        "top_day_sales = sales_by_days.set_index('date').sum(axis=1).sort_values(ascending=False).reset_index()\n",
        "top_day_sales.columns = ['date', 'sales']\n",
        "\n",
        "sns.barplot(y='date', x='sales', orient='h', data = top_day_sales.iloc[:20])\n"
      ]
    },
    {
      "cell_type": "code",
      "execution_count": null,
      "metadata": {
        "id": "F3EDvuCXg-bC"
      },
      "outputs": [],
      "source": [
        "fig, ax = plt.subplots(figsize=(20, 6))\n",
        "ts = sales_by_days[['date', 'sales']].sort_values('date').set_index('date').rolling(30).mean()\n",
        "ax.tick_params(labelrotation=90)\n",
        "ax.xaxis.set_major_locator(mdates.MonthLocator(interval=2))\n",
        "ax.xaxis.set_major_formatter(mdates.DateFormatter('%b-%Y'))\n",
        "ax.plot(ts)\n",
        "plt.grid()\n",
        "plt.tight_layout()\n"
      ]
    },
    {
      "cell_type": "markdown",
      "metadata": {
        "id": "y2NlbG_8i2Dd"
      },
      "source": [
        "Observation:\n",
        "- 2016 year days has most sales followed by 2015 which indicates sales are increasing montonicaly day by day and year by year "
      ]
    },
    {
      "cell_type": "markdown",
      "metadata": {
        "id": "v0orm1XJjlW1"
      },
      "source": [
        "## Conclusion\n",
        "\n",
        "1. Below Features has some trend w.r.t target variable 'sales' which explains they might be important to predict the feature sales\n",
        "  >> 'item_id', 'dept_id', 'cat_id', 'store_id', 'state_id', 'd', 'date', 'weekday', 'wday', 'month', 'year','event_name_1', 'event_type_1'\n",
        "\n",
        "2. In 'Canada' state, 'CA_3 store has got more sales\n",
        "3. 'FOODS_3' department has got more sales under 'FOODS' category\n",
        "4. Most of the sales happens on weekends (Sat & Sun)\n",
        "5. 'Religious' event type has got more sales\n",
        "6. Sales were monotonically increasing starting from 2011 to 2016\n",
        "7. Most of the sales happening during 'Aug' to 'Oct' months\n",
        "\n"
      ]
    },
    {
      "cell_type": "markdown",
      "metadata": {
        "id": "W3vz4GmAWUl4"
      },
      "source": [
        "# 3. Feature Engineering\n",
        "\n",
        "  > Based on the EDA, thought of to split  the datasets based on '**Stores**' and done the same. So, all feature enginering and encodings performed on all **10** datasets. "
      ]
    },
    {
      "cell_type": "markdown",
      "metadata": {
        "id": "xwh42XM6YyE-"
      },
      "source": [
        "## Based on the EDA\n",
        "\n",
        "We can construct below boolean features which has high sales\n",
        "- IsWeekend - Sat & Sun to be 1 rest 0\n",
        "- IsFoods \n",
        "- IsFoods_3\n",
        "- IsReligiousEvent\n",
        "\n"
      ]
    },
    {
      "cell_type": "code",
      "execution_count": null,
      "metadata": {
        "id": "BzDDD0iWMWBS"
      },
      "outputs": [],
      "source": [
        "for (key1, key2, key3) in tqdm(zip(train_sets.keys(), valid_sets.keys(), test_sets.keys())):\n",
        " \n",
        "  # IsWeekend\n",
        "  train_sets[key1]['IsWeekend'] = [1 if i in ['Saturday', 'Sunday'] else 0 for i in train_sets[key1]['weekday'].values]\n",
        "  valid_sets[key2]['IsWeekend'] = [1 if i in ['Saturday', 'Sunday'] else 0 for i in valid_sets[key2]['weekday'].values]\n",
        "  test_sets[key3]['IsWeekend'] = [1 if i in ['Saturday', 'Sunday'] else 0 for i in test_sets[key3]['weekday'].values]\n",
        "  #print('IsWeekend - completed')\n",
        "\n",
        "  # IsFoods\n",
        "  train_sets[key1]['IsFoods'] = [1 if i=='FOODS' else 0 for i in train_sets[key1]['cat_id'].values]\n",
        "  valid_sets[key2]['IsFoods'] = [1 if i=='FOODS' else 0 for i in valid_sets[key2]['cat_id'].values]\n",
        "  test_sets[key3]['IsFoods'] = [1 if i=='FOODS' else 0 for i in test_sets[key3]['cat_id'].values]\n",
        "  #print('IsFoods - completed')\n",
        "\n",
        "  # IsFoods_3\n",
        "  train_sets[key1]['IsFoods_3'] = [1 if i=='FOODS_3' else 0 for i in train_sets[key1]['dept_id'].values]\n",
        "  valid_sets[key2]['IsFoods_3'] = [1 if i=='FOODS_3' else 0 for i in valid_sets[key2]['dept_id'].values]\n",
        "  test_sets[key3]['IsFoods_3'] = [1 if i=='FOODS_3' else 0 for i in test_sets[key3]['dept_id'].values]\n",
        "  #print('IsFoods_3 - completed')\n",
        "\n",
        "  # IsReligiousEvent\n",
        "  train_sets[key1]['IsReligiousEvent'] = [1 if i=='Religious' else 0 for i in train_sets[key1]['event_type_1'].values]\n",
        "  valid_sets[key2]['IsReligiousEvent'] = [1 if i=='Religious' else 0 for i in valid_sets[key2]['event_type_1'].values]\n",
        "  test_sets[key3]['IsReligiousEvent'] = [1 if i=='Religious' else 0 for i in test_sets[key3]['event_type_1'].values]\n",
        "  #print('IsReligiousEvent - completed')\n"
      ]
    },
    {
      "cell_type": "code",
      "execution_count": null,
      "metadata": {
        "id": "Ydp3K_O8_Wig"
      },
      "outputs": [],
      "source": [
        "reduce_mem_size()"
      ]
    },
    {
      "cell_type": "markdown",
      "metadata": {
        "id": "WtBLqT1QkHWx"
      },
      "source": [
        "## Date Features\n",
        "\n",
        "https://www.analyticsvidhya.com/blog/2019/12/6-powerful-feature-engineering-techniques-time-series/\n",
        "\n",
        "- Business quarter of the year.\n",
        "- days_in_month\n",
        "- IsMonthStart\n",
        "- IsMonthEnd\n",
        "- IsQuaterStart\n",
        "- IsQuaterEnd\n",
        "- IsYearStart\n",
        "- IsYearEnd\n"
      ]
    },
    {
      "cell_type": "code",
      "execution_count": null,
      "metadata": {
        "id": "0qH3lOwDPXjO"
      },
      "outputs": [],
      "source": [
        "for (key1, key2, key3) in tqdm(zip(train_sets.keys(), valid_sets.keys(), test_sets.keys())):\n",
        "\n",
        "  # business quarter\n",
        "  train_months = train_sets[key1]['month'].values \n",
        "  valid_months = valid_sets[key2]['month'].values \n",
        "  test_months = test_sets[key3]['month'].values \n",
        "\n",
        "  train_quarter_data = []\n",
        "  valid_quarter_data = []\n",
        "  test_quarter_data = []\n",
        "\n",
        "  for i in train_months:\n",
        "    if i in [1, 2, 3]:\n",
        "      train_quarter_data.append(1)\n",
        "    elif i in [4, 5, 6]:\n",
        "      train_quarter_data.append(2)\n",
        "    elif i in [7, 8, 9]:\n",
        "      train_quarter_data.append(3)\n",
        "    elif i in [10, 11, 12]:\n",
        "      train_quarter_data.append(4)\n",
        "\n",
        "  train_sets[key1]['BusinessQuarter'] = train_quarter_data\n",
        "\n",
        "  for i in valid_months:\n",
        "    if i in [1, 2, 3]:\n",
        "      valid_quarter_data.append(1)\n",
        "    elif i in [4, 5, 6]:\n",
        "      valid_quarter_data.append(2)\n",
        "    elif i in [7, 8, 9]:\n",
        "      valid_quarter_data.append(3)\n",
        "    elif i in [10, 11, 12]:\n",
        "      valid_quarter_data.append(4)\n",
        "\n",
        "  valid_sets[key2]['BusinessQuarter'] = valid_quarter_data\n",
        "\n",
        "  for i in test_months:\n",
        "    if i in [1, 2, 3]:\n",
        "      test_quarter_data.append(1)\n",
        "    elif i in [4, 5, 6]:\n",
        "      test_quarter_data.append(2)\n",
        "    elif i in [7, 8, 9]:\n",
        "      test_quarter_data.append(3)\n",
        "    elif i in [10, 11, 12]:\n",
        "      test_quarter_data.append(4)\n",
        "\n",
        "  test_sets[key3]['BusinessQuarter'] = test_quarter_data\n",
        "  #print('BusinessQuarter - completed')\n",
        "\n",
        "  # days_in_month\n",
        "  train_days_in_month = []#{1:31, 2:[28,29], 3:31, 4:30, 5:31, 6:30, 7:31, 8:31, 9:30, 10:31, 11:30, 12:31}\n",
        "  valid_days_in_month = []\n",
        "  test_days_in_month = []\n",
        "\n",
        "  for i in train_months:\n",
        "    if i in [1, 3, 5, 7, 8, 10, 12]:\n",
        "      train_days_in_month.append(31)\n",
        "    elif i in [4, 6, 9, 11]:\n",
        "      train_days_in_month.append(30)\n",
        "    elif i==2:\n",
        "      train_days_in_month.append(28)\n",
        "\n",
        "  train_sets[key1]['days_in_month'] = train_days_in_month\n",
        "\n",
        "  for i in valid_months:\n",
        "    if i in [1, 3, 5, 7, 8, 10, 12]:\n",
        "      valid_days_in_month.append(31)\n",
        "    elif i in [4, 6, 9, 11]:\n",
        "      valid_days_in_month.append(30)\n",
        "    elif i==2:\n",
        "      valid_days_in_month.append(28)\n",
        "\n",
        "  valid_sets[key2]['days_in_month'] = valid_days_in_month\n",
        "\n",
        "  for i in test_months:\n",
        "    if i in [1, 3, 5, 7, 8, 10, 12]:\n",
        "      test_days_in_month.append(31)\n",
        "    elif i in [4, 6, 9, 11]:\n",
        "      test_days_in_month.append(30)\n",
        "    elif i==2:\n",
        "      test_days_in_month.append(28)\n",
        "\n",
        "  test_sets[key3]['days_in_month'] = test_days_in_month\n",
        "  #print('days_in_month - completed')\n",
        "\n",
        "\n",
        "  #IsMonthStart\n",
        "  train_day_values = train_sets[key1]['date'].dt.day.values\n",
        "  valid_day_values = valid_sets[key2]['date'].dt.day.values\n",
        "  test_day_values = test_sets[key3]['date'].dt.day.values\n",
        "\n",
        "  train_month_values = train_sets[key1]['date'].dt.month.values\n",
        "  valid_month_values = valid_sets[key2]['date'].dt.month.values\n",
        "  test_month_values = test_sets[key3]['date'].dt.month.values\n",
        "\n",
        "  train_sets[key1]['IsMonthStart']=[1 if i==1 else 0 for i in train_day_values]\n",
        "  valid_sets[key2]['IsMonthStart']=[1 if i==1 else 0 for i in valid_day_values]\n",
        "  test_sets[key3]['IsMonthStart']=[1 if i==1 else 0 for i in test_day_values]\n",
        "  #print('IsMonthStart - completed')\n",
        "\n",
        "  #IsMonthEnd\n",
        "  train_sets[key1]['IsMonthEnd']=[1 if i in [28, 29, 30, 31] else 0 for i in train_day_values]\n",
        "  valid_sets[key2]['IsMonthEnd']=[1 if i in [28, 29, 30, 31] else 0 for i in valid_day_values]\n",
        "  test_sets[key3]['IsMonthEnd']=[1 if i in [28, 29, 30, 31] else 0 for i in test_day_values]\n",
        "  #print('IsMonthEnd - completed')\n",
        "\n",
        "  # IsYearStart\n",
        "  train_sets[key1]['IsYearStart']=[1 if (i[0]==1) & (i[1]==1) else 0 for i in zip(train_day_values, train_month_values)]\n",
        "  valid_sets[key2]['IsYearStart']=[1 if (i[0]==1) & (i[1]==1) else 0 for i in zip(valid_day_values, valid_month_values)]\n",
        "  test_sets[key3]['IsYearStart']=[1 if (i[0]==1) & (i[1]==1) else 0 for i in zip(test_day_values, test_month_values)]\n",
        "  #print('IsYearStart - completed')\n",
        "\n",
        "  # IsYearEnd\n",
        "  train_sets[key1]['IsYearEnd']=[1 if (i[0]==31) & (i[1]==12) else 0 for i in zip(train_day_values, train_month_values)]\n",
        "  valid_sets[key2]['IsYearEnd']=[1 if (i[0]==31) & (i[1]==12) else 0 for i in zip(valid_day_values, valid_month_values)]\n",
        "  test_sets[key3]['IsYearEnd']=[1 if (i[0]==31) & (i[1]==12) else 0 for i in zip(test_day_values, test_month_values)]\n",
        "  #print('IsYearEnd - completed')\n",
        "\n",
        "  # IsQuaterStart\n",
        "  train_sets[key1]['IsQuaterStart']=[1 if (i[0]==1) & (i[1] in [1, 4, 7, 11]) else 0 for i in zip(train_day_values, train_month_values)]\n",
        "  valid_sets[key2]['IsQuaterStart']=[1 if (i[0]==1) & (i[1] in [1, 4, 7, 11]) else 0 for i in zip(valid_day_values, valid_month_values)]\n",
        "  test_sets[key3]['IsQuaterStart']=[1 if (i[0]==1) & (i[1] in [1, 4, 7, 11]) else 0 for i in zip(test_day_values, test_month_values)]\n",
        "  #print('IsQuaterStart - completed')\n",
        "\n",
        "  # IsQuaterEnd\n",
        "  train_sets[key1]['IsQuaterEnd']=[1 if (i[0] in [30,31]) & (i[1] in [3, 6, 9, 12]) else 0 for i in zip(train_day_values, train_month_values)]\n",
        "  valid_sets[key2]['IsQuaterEnd']=[1 if (i[0] in [30,31]) & (i[1] in [3, 6, 9, 12]) else 0 for i in zip(valid_day_values, valid_month_values)]\n",
        "  test_sets[key3]['IsQuaterEnd']=[1 if (i[0] in [30,31]) & (i[1] in [3, 6, 9, 12]) else 0 for i in zip(test_day_values, test_month_values)]\n",
        "  #print('IsQuaterEnd - completed')\n",
        " \n",
        "  # IsLeapYear\n",
        "  train_sets[key1]['IsLeapYear']=[1 if i in [2012, 2016] else 0 for i in train_sets[key1]['year'].values]\n",
        "  valid_sets[key2]['IsLeapYear']=[1 if i in [2012, 2016] else 0 for i in valid_sets[key2]['year'].values]\n",
        "  test_sets[key3]['IsLeapYear']=[1 if i in [2012, 2016] else 0 for i in test_sets[key3]['year'].values]\n",
        "  #print('IsLeapYear - completed')\n"
      ]
    },
    {
      "cell_type": "code",
      "execution_count": null,
      "metadata": {
        "id": "dqp7kR40_Y61"
      },
      "outputs": [],
      "source": [
        "reduce_mem_size()"
      ]
    },
    {
      "cell_type": "markdown",
      "metadata": {
        "id": "GMCQM1OHwmc4"
      },
      "source": [
        "## Store and Month Wise Statistics"
      ]
    },
    {
      "cell_type": "code",
      "execution_count": null,
      "metadata": {
        "id": "ixBzgdOJW9-s"
      },
      "outputs": [],
      "source": [
        "store_month_min = {}\n",
        "store_month_max = {}\n",
        "store_month_mean = {}\n",
        "store_month_median = {}\n",
        "store_month_std = {}\n",
        "\n",
        "for key1 in tqdm(train_sets.keys()):\n",
        "\n",
        "  months = train_sets[key1]['month'].unique()\n",
        "\n",
        "  for m in months:\n",
        "    sm = train_sets[key1][train_sets[key1]['month']==m]['sales'].values\n",
        "    store_month_min[f'{key1}_{m}']=np.min(sm)\n",
        "    store_month_max[f'{key1}_{m}']=np.max(sm)\n",
        "    store_month_mean[f'{key1}_{m}']=np.mean(sm)\n",
        "    store_month_median[f'{key1}_{m}']=np.median(sm)\n",
        "    store_month_std[f'{key1}_{m}']=np.std(sm)\n"
      ]
    },
    {
      "cell_type": "code",
      "execution_count": null,
      "metadata": {
        "id": "bFJqsUg_qv5k"
      },
      "outputs": [],
      "source": [
        "for (key1, key2, key3) in tqdm(zip(train_sets.keys(), valid_sets.keys(), test_sets.keys())):\n",
        "  train_sets[key1]['store_month_min']=[store_month_min[f'{key1}_{m}'] for m in train_sets[key1]['month'].values]\n",
        "  train_sets[key1]['store_month_max']=[store_month_max[f'{key1}_{m}'] for m in train_sets[key1]['month'].values]\n",
        "  train_sets[key1]['store_month_mean']=[store_month_mean[f'{key1}_{m}'] for m in train_sets[key1]['month'].values]\n",
        "  train_sets[key1]['store_month_median']=[store_month_median[f'{key1}_{m}'] for m in train_sets[key1]['month'].values]\n",
        "  train_sets[key1]['store_month_std']=[store_month_std[f'{key1}_{m}'] for m in train_sets[key1]['month'].values]\n",
        "  \n",
        "  valid_sets[key2]['store_month_min']=[store_month_min[f'{key1}_{m}'] for m in valid_sets[key2]['month'].values]\n",
        "  valid_sets[key2]['store_month_max']=[store_month_max[f'{key1}_{m}'] for m in valid_sets[key2]['month'].values]\n",
        "  valid_sets[key2]['store_month_mean']=[store_month_mean[f'{key1}_{m}'] for m in valid_sets[key2]['month'].values]\n",
        "  valid_sets[key2]['store_month_median']=[store_month_median[f'{key1}_{m}'] for m in valid_sets[key2]['month'].values]\n",
        "  valid_sets[key2]['store_month_std']=[store_month_std[f'{key1}_{m}'] for m in valid_sets[key2]['month'].values]\n",
        "\n",
        "  test_sets[key3]['store_month_min']=[store_month_min[f'{key1}_{m}'] for m in test_sets[key3]['month'].values]\n",
        "  test_sets[key3]['store_month_max']=[store_month_max[f'{key1}_{m}'] for m in test_sets[key3]['month'].values]\n",
        "  test_sets[key3]['store_month_mean']=[store_month_mean[f'{key1}_{m}'] for m in test_sets[key3]['month'].values]\n",
        "  test_sets[key3]['store_month_median']=[store_month_median[f'{key1}_{m}'] for m in test_sets[key3]['month'].values]\n",
        "  test_sets[key3]['store_month_std']=[store_month_std[f'{key1}_{m}'] for m in test_sets[key3]['month'].values]\n",
        "\n"
      ]
    },
    {
      "cell_type": "code",
      "execution_count": null,
      "metadata": {
        "id": "WK2KAeRT_bol"
      },
      "outputs": [],
      "source": [
        "reduce_mem_size()"
      ]
    },
    {
      "cell_type": "markdown",
      "metadata": {
        "id": "HVnShKC71D6d"
      },
      "source": [
        "## Store and Weekday Wise Statistics"
      ]
    },
    {
      "cell_type": "code",
      "execution_count": null,
      "metadata": {
        "id": "48HjYV6d1Nni"
      },
      "outputs": [],
      "source": [
        "store_wday_min = {}\n",
        "store_wday_max = {}\n",
        "store_wday_mean = {}\n",
        "store_wday_median = {}\n",
        "store_wday_std = {}\n",
        "\n",
        "for key1 in tqdm(train_sets.keys()):\n",
        "\n",
        "  wdays = train_sets[key1]['wday'].unique()\n",
        "\n",
        "  for w in wdays:\n",
        "    sw = train_sets[key1][train_sets[key1]['wday']==w]['sales'].values\n",
        "    store_wday_min[f'{key1}_{w}']=np.min(sw)\n",
        "    store_wday_max[f'{key1}_{w}']=np.max(sw)\n",
        "    store_wday_mean[f'{key1}_{w}']=np.mean(sw)\n",
        "    store_wday_median[f'{key1}_{w}']=np.median(sw)\n",
        "    store_wday_std[f'{key1}_{w}']=np.std(sw)\n"
      ]
    },
    {
      "cell_type": "code",
      "execution_count": null,
      "metadata": {
        "id": "n6_TMZrk1lzn"
      },
      "outputs": [],
      "source": [
        "for (key1, key2, key3) in tqdm(zip(train_sets.keys(), valid_sets.keys(), test_sets.keys())):\n",
        "  train_sets[key1]['store_wday_min']=[store_wday_min[f'{key1}_{w}'] for w in train_sets[key1]['wday'].values]\n",
        "  train_sets[key1]['store_wday_max']=[store_wday_max[f'{key1}_{w}'] for w in train_sets[key1]['wday'].values]\n",
        "  train_sets[key1]['store_wday_mean']=[store_wday_mean[f'{key1}_{w}'] for w in train_sets[key1]['wday'].values]\n",
        "  train_sets[key1]['store_wday_median']=[store_wday_median[f'{key1}_{w}'] for w in train_sets[key1]['wday'].values]\n",
        "  train_sets[key1]['store_wday_std']=[store_wday_std[f'{key1}_{w}'] for w in train_sets[key1]['wday'].values]\n",
        "  \n",
        "  valid_sets[key2]['store_wday_min']=[store_wday_min[f'{key1}_{w}'] for w in valid_sets[key2]['wday'].values]\n",
        "  valid_sets[key2]['store_wday_max']=[store_wday_max[f'{key1}_{w}'] for w in valid_sets[key2]['wday'].values]\n",
        "  valid_sets[key2]['store_wday_mean']=[store_wday_mean[f'{key1}_{w}'] for w in valid_sets[key2]['wday'].values]\n",
        "  valid_sets[key2]['store_wday_median']=[store_wday_median[f'{key1}_{w}'] for w in valid_sets[key2]['wday'].values]\n",
        "  valid_sets[key2]['store_wday_std']=[store_wday_std[f'{key1}_{w}'] for w in valid_sets[key2]['wday'].values]\n",
        "\n",
        "  test_sets[key3]['store_wday_min']=[store_wday_min[f'{key1}_{w}'] for w in test_sets[key3]['wday'].values]\n",
        "  test_sets[key3]['store_wday_max']=[store_wday_max[f'{key1}_{w}'] for w in test_sets[key3]['wday'].values]\n",
        "  test_sets[key3]['store_wday_mean']=[store_wday_mean[f'{key1}_{w}'] for w in test_sets[key3]['wday'].values]\n",
        "  test_sets[key3]['store_wday_median']=[store_wday_median[f'{key1}_{w}'] for w in test_sets[key3]['wday'].values]\n",
        "  test_sets[key3]['store_wday_std']=[store_wday_std[f'{key1}_{w}'] for w in test_sets[key3]['wday'].values]\n",
        "\n"
      ]
    },
    {
      "cell_type": "code",
      "execution_count": null,
      "metadata": {
        "id": "SViS8Gam_e9E"
      },
      "outputs": [],
      "source": [
        "reduce_mem_size()"
      ]
    },
    {
      "cell_type": "markdown",
      "metadata": {
        "id": "ZbOVtdbjwyZG"
      },
      "source": [
        "## Department and Month Wise Statistics"
      ]
    },
    {
      "cell_type": "code",
      "execution_count": null,
      "metadata": {
        "id": "GzBHgFHDuXg3"
      },
      "outputs": [],
      "source": [
        "dept_month_min = {}\n",
        "dept_month_max = {}\n",
        "dept_month_mean = {}\n",
        "dept_month_median = {}\n",
        "dept_month_std = {}\n",
        "\n",
        "for key1 in tqdm(train_sets.keys()):\n",
        "\n",
        "  dept_list = train_sets[key1]['dept_id'].unique() \n",
        "\n",
        "  for dept in dept_list:\n",
        "    for m in months:\n",
        "      dm = train_sets[key1][(train_sets[key1]['dept_id']==dept)&(train_sets[key1]['month']==m)]['sales'].values\n",
        "      dept_month_min[f'{key1}_{dept}_{m}']=np.min(dm)\n",
        "      dept_month_max[f'{key1}_{dept}_{m}']=np.max(dm)\n",
        "      dept_month_mean[f'{key1}_{dept}_{m}']=np.mean(dm)\n",
        "      dept_month_median[f'{key1}_{dept}_{m}']=np.median(dm)\n",
        "      dept_month_std[f'{key1}_{dept}_{m}']=np.std(dm)\n"
      ]
    },
    {
      "cell_type": "code",
      "execution_count": null,
      "metadata": {
        "id": "So5tUFWNL061"
      },
      "outputs": [],
      "source": [
        "for (key1, key2, key3) in tqdm(zip(train_sets.keys(), valid_sets.keys(), test_sets.keys())):\n",
        "\n",
        "  train_sets[key1]['dept_month_min']=[dept_month_min[f'{key1}_{dept}_{m}'] for (dept, m) in zip(train_sets[key1]['dept_id'].values, train_sets[key1]['month'].values)]\n",
        "  train_sets[key1]['dept_month_max']=[dept_month_max[f'{key1}_{dept}_{m}'] for (dept, m) in zip(train_sets[key1]['dept_id'].values, train_sets[key1]['month'].values)]\n",
        "  train_sets[key1]['dept_month_mean']=[dept_month_mean[f'{key1}_{dept}_{m}'] for (dept, m) in zip(train_sets[key1]['dept_id'].values, train_sets[key1]['month'].values)]\n",
        "  train_sets[key1]['dept_month_median']=[dept_month_median[f'{key1}_{dept}_{m}'] for (dept, m) in zip(train_sets[key1]['dept_id'].values, train_sets[key1]['month'].values)]\n",
        "  train_sets[key1]['dept_month_std']=[dept_month_std[f'{key1}_{dept}_{m}'] for (dept, m) in zip(train_sets[key1]['dept_id'].values, train_sets[key1]['month'].values)]\n",
        "\n",
        "  valid_sets[key2]['dept_month_min']=[dept_month_min[f'{key1}_{dept}_{m}'] for (dept, m) in zip(valid_sets[key2]['dept_id'].values, valid_sets[key2]['month'].values)]\n",
        "  valid_sets[key2]['dept_month_max']=[dept_month_max[f'{key1}_{dept}_{m}'] for (dept, m) in zip(valid_sets[key2]['dept_id'].values, valid_sets[key2]['month'].values)]\n",
        "  valid_sets[key2]['dept_month_mean']=[dept_month_mean[f'{key1}_{dept}_{m}'] for (dept, m) in zip(valid_sets[key2]['dept_id'].values, valid_sets[key2]['month'].values)]\n",
        "  valid_sets[key2]['dept_month_median']=[dept_month_median[f'{key1}_{dept}_{m}'] for (dept, m) in zip(valid_sets[key2]['dept_id'].values, valid_sets[key2]['month'].values)]\n",
        "  valid_sets[key2]['dept_month_std']=[dept_month_std[f'{key1}_{dept}_{m}'] for (dept, m) in zip(valid_sets[key2]['dept_id'].values, valid_sets[key2]['month'].values)]\n",
        "\n",
        "  test_sets[key3]['dept_month_min']=[dept_month_min[f'{key1}_{dept}_{m}'] for (dept, m) in zip(test_sets[key3]['dept_id'].values, test_sets[key3]['month'].values)]\n",
        "  test_sets[key3]['dept_month_max']=[dept_month_max[f'{key1}_{dept}_{m}'] for (dept, m) in zip(test_sets[key3]['dept_id'].values, test_sets[key3]['month'].values)]\n",
        "  test_sets[key3]['dept_month_mean']=[dept_month_mean[f'{key1}_{dept}_{m}'] for (dept, m) in zip(test_sets[key3]['dept_id'].values, test_sets[key3]['month'].values)]\n",
        "  test_sets[key3]['dept_month_median']=[dept_month_median[f'{key1}_{dept}_{m}'] for (dept, m) in zip(test_sets[key3]['dept_id'].values, test_sets[key3]['month'].values)]\n",
        "  test_sets[key3]['dept_month_std']=[dept_month_std[f'{key1}_{dept}_{m}'] for (dept, m) in zip(test_sets[key3]['dept_id'].values, test_sets[key3]['month'].values)]\n"
      ]
    },
    {
      "cell_type": "code",
      "execution_count": null,
      "metadata": {
        "id": "kyiOqIzO_ht5"
      },
      "outputs": [],
      "source": [
        "reduce_mem_size()"
      ]
    },
    {
      "cell_type": "markdown",
      "metadata": {
        "id": "CRepv8mF2pUe"
      },
      "source": [
        "## Department and Weekday Wise Statistics"
      ]
    },
    {
      "cell_type": "code",
      "execution_count": null,
      "metadata": {
        "id": "-H-Nxj4D2wXo"
      },
      "outputs": [],
      "source": [
        "dept_wday_min = {}\n",
        "dept_wday_max = {}\n",
        "dept_wday_mean = {}\n",
        "dept_wday_median = {}\n",
        "dept_wday_std = {}\n",
        "\n",
        "for key1 in tqdm(train_sets.keys()):\n",
        "\n",
        "  wdays = train_sets[key1]['wday'].unique()\n",
        "\n",
        "  for w in wdays:\n",
        "    sw = train_sets[key1][train_sets[key1]['wday']==w]['sales'].values\n",
        "    dept_wday_min[f'{key1}_{w}']=np.min(sw)\n",
        "    dept_wday_max[f'{key1}_{w}']=np.max(sw)\n",
        "    dept_wday_mean[f'{key1}_{w}']=np.mean(sw)\n",
        "    dept_wday_median[f'{key1}_{w}']=np.median(sw)\n",
        "    dept_wday_std[f'{key1}_{w}']=np.std(sw)\n"
      ]
    },
    {
      "cell_type": "code",
      "execution_count": null,
      "metadata": {
        "id": "OXtydzug2wKf"
      },
      "outputs": [],
      "source": [
        "for (key1, key2, key3) in tqdm(zip(train_sets.keys(), valid_sets.keys(), test_sets.keys())):\n",
        "  \n",
        "  train_sets[key1]['dept_wday_min']=[dept_wday_min[f'{key1}_{w}'] for w in train_sets[key1]['wday'].values]\n",
        "  train_sets[key1]['dept_wday_max']=[dept_wday_max[f'{key1}_{w}'] for w in train_sets[key1]['wday'].values]\n",
        "  train_sets[key1]['dept_wday_mean']=[dept_wday_mean[f'{key1}_{w}'] for w in train_sets[key1]['wday'].values]\n",
        "  train_sets[key1]['dept_wday_median']=[dept_wday_median[f'{key1}_{w}'] for w in train_sets[key1]['wday'].values]\n",
        "  train_sets[key1]['dept_wday_std']=[dept_wday_std[f'{key1}_{w}'] for w in train_sets[key1]['wday'].values]\n",
        "\n",
        "  valid_sets[key2]['dept_wday_min']=[dept_wday_min[f'{key1}_{w}'] for w in valid_sets[key2]['wday'].values]\n",
        "  valid_sets[key2]['dept_wday_max']=[dept_wday_max[f'{key1}_{w}'] for w in valid_sets[key2]['wday'].values]\n",
        "  valid_sets[key2]['dept_wday_mean']=[dept_wday_mean[f'{key1}_{w}'] for w in valid_sets[key2]['wday'].values]\n",
        "  valid_sets[key2]['dept_wday_median']=[dept_wday_median[f'{key1}_{w}'] for w in valid_sets[key2]['wday'].values]\n",
        "  valid_sets[key2]['dept_wday_std']=[dept_wday_std[f'{key1}_{w}'] for w in valid_sets[key2]['wday'].values]\n",
        "  \n",
        "  test_sets[key3]['dept_wday_min']=[dept_wday_min[f'{key1}_{w}'] for w in test_sets[key3]['wday'].values]\n",
        "  test_sets[key3]['dept_wday_max']=[dept_wday_max[f'{key1}_{w}'] for w in test_sets[key3]['wday'].values]\n",
        "  test_sets[key3]['dept_wday_mean']=[dept_wday_mean[f'{key1}_{w}'] for w in test_sets[key3]['wday'].values]\n",
        "  test_sets[key3]['dept_wday_median']=[dept_wday_median[f'{key1}_{w}'] for w in test_sets[key3]['wday'].values]\n",
        "  test_sets[key3]['dept_wday_std']=[dept_wday_std[f'{key1}_{w}'] for w in test_sets[key3]['wday'].values]"
      ]
    },
    {
      "cell_type": "code",
      "execution_count": null,
      "metadata": {
        "id": "s4ouaOq9_kzj"
      },
      "outputs": [],
      "source": [
        "reduce_mem_size()"
      ]
    },
    {
      "cell_type": "markdown",
      "metadata": {
        "id": "f8bi9SN1eeIf"
      },
      "source": [
        "## Encode Categorical Features"
      ]
    },
    {
      "cell_type": "code",
      "execution_count": null,
      "metadata": {
        "id": "kI-oPvX8geOi"
      },
      "outputs": [],
      "source": [
        "# Label Encoding\n",
        "encode_config = {}\n",
        "\n",
        "encode_config['state_id_map'] = {key:val+1 for val, key in enumerate(sales_df['state_id'].unique())}\n",
        "encode_config['store_id_map'] = {key:val+1 for val, key in enumerate(sales_df['store_id'].unique())}\n",
        "encode_config['cat_id_map'] = {key:val+1 for val, key in enumerate(sales_df['cat_id'].unique())}\n",
        "encode_config['dept_id_map'] = {key:val+1 for val, key in enumerate(sales_df['dept_id'].unique())}\n",
        "encode_config['item_id_map'] = {key:val+1 for val, key in enumerate(sales_df['item_id'].unique())}\n",
        "encode_config['event_name_1_map'] = {key:val+1 for val, key in enumerate(train_cal['event_name_1'].unique())}\n",
        "encode_config['event_name_2_map'] = {key:val+1 for val, key in enumerate(train_cal['event_name_2'].unique())}\n",
        "encode_config['event_type_1_map'] = {key:val+1 for val, key in enumerate(train_cal['event_type_1'].unique())}\n",
        "encode_config['event_type_2_map'] = {key:val+1 for val, key in enumerate(train_cal['event_type_2'].unique())}\n",
        "\n",
        "pd.to_pickle(encode_config, drive_path+'encode_config.pkl')"
      ]
    },
    {
      "cell_type": "code",
      "execution_count": null,
      "metadata": {
        "id": "B92MtDB33_gd"
      },
      "outputs": [],
      "source": [
        "for (key1, key2, key3) in tqdm(zip(train_sets.keys(), valid_sets.keys(), test_sets.keys())):\n",
        "  \n",
        "  # train set\n",
        "  train_sets[key1]['state_id']=[encode_config['state_id_map'][key] for key in train_sets[key1]['state_id'].values]\n",
        "  train_sets[key1]['store_id']=[encode_config['store_id_map'][key] for key in train_sets[key1]['store_id'].values]\n",
        "  train_sets[key1]['cat_id']=[encode_config['cat_id_map'][key] for key in train_sets[key1]['cat_id'].values]\n",
        "  train_sets[key1]['dept_id']=[encode_config['dept_id_map'][key] for key in train_sets[key1]['dept_id'].values]\n",
        "  train_sets[key1]['item_id']=[encode_config['item_id_map'][key] for key in train_sets[key1]['item_id'].values]\n",
        "  train_sets[key1]['event_name_1']=[encode_config['event_name_1_map'][key] for key in train_sets[key1]['event_name_1'].values]\n",
        "  train_sets[key1]['event_name_2']=[encode_config['event_name_2_map'][key] for key in train_sets[key1]['event_name_2'].values]\n",
        "  train_sets[key1]['event_type_1']=[encode_config['event_type_1_map'][key] for key in train_sets[key1]['event_type_1'].values]\n",
        "  train_sets[key1]['event_type_2']=[encode_config['event_type_2_map'][key] for key in train_sets[key1]['event_type_2'].values]\n",
        "\n",
        "  # valid set\n",
        "  valid_sets[key2]['state_id']=[encode_config['state_id_map'][key] for key in valid_sets[key2]['state_id'].values]\n",
        "  valid_sets[key2]['store_id']=[encode_config['store_id_map'][key] for key in valid_sets[key2]['store_id'].values]\n",
        "  valid_sets[key2]['cat_id']=[encode_config['cat_id_map'][key] for key in valid_sets[key2]['cat_id'].values]\n",
        "  valid_sets[key2]['dept_id']=[encode_config['dept_id_map'][key] for key in valid_sets[key2]['dept_id'].values]\n",
        "  valid_sets[key2]['item_id']=[encode_config['item_id_map'][key] for key in valid_sets[key2]['item_id'].values]\n",
        "  valid_sets[key2]['event_name_1']=[encode_config['event_name_1_map'][key] for key in valid_sets[key2]['event_name_1'].values]\n",
        "  valid_sets[key2]['event_name_2']=[encode_config['event_name_2_map'][key] for key in valid_sets[key2]['event_name_2'].values]\n",
        "  valid_sets[key2]['event_type_1']=[encode_config['event_type_1_map'][key] for key in valid_sets[key2]['event_type_1'].values]\n",
        "  valid_sets[key2]['event_type_2']=[encode_config['event_type_2_map'][key] for key in valid_sets[key2]['event_type_2'].values]\n",
        "\n",
        "  # test set\n",
        "  test_sets[key3]['state_id']=[encode_config['state_id_map'][key] for key in test_sets[key3]['state_id'].values]\n",
        "  test_sets[key3]['store_id']=[encode_config['store_id_map'][key] for key in test_sets[key3]['store_id'].values]\n",
        "  test_sets[key3]['cat_id']=[encode_config['cat_id_map'][key] for key in test_sets[key3]['cat_id'].values]\n",
        "  test_sets[key3]['dept_id']=[encode_config['dept_id_map'][key] for key in test_sets[key3]['dept_id'].values]\n",
        "  test_sets[key3]['item_id']=[encode_config['item_id_map'][key] for key in test_sets[key3]['item_id'].values]\n",
        "  test_sets[key3]['event_name_1']=[encode_config['event_name_1_map'][key] for key in test_sets[key3]['event_name_1'].values]\n",
        "  test_sets[key3]['event_name_2']=[encode_config['event_name_2_map'][key] for key in test_sets[key3]['event_name_2'].values]\n",
        "  test_sets[key3]['event_type_1']=[encode_config['event_type_1_map'][key] for key in test_sets[key3]['event_type_1'].values]\n",
        "  test_sets[key3]['event_type_2']=[encode_config['event_type_2_map'][key] for key in test_sets[key3]['event_type_2'].values]\n"
      ]
    },
    {
      "cell_type": "code",
      "execution_count": null,
      "metadata": {
        "id": "UaauO2Mf_rx4"
      },
      "outputs": [],
      "source": [
        "reduce_mem_size()"
      ]
    },
    {
      "cell_type": "code",
      "execution_count": null,
      "metadata": {
        "id": "boyOYNB5PAPj"
      },
      "outputs": [],
      "source": [
        "%%time\n",
        "train_sets['CA_1_train_fea'][(train_sets['CA_1_train_fea']['item_id']==1)&(train_sets['CA_1_train_fea']['month']==1)]['sales'].values"
      ]
    },
    {
      "cell_type": "code",
      "execution_count": null,
      "metadata": {
        "id": "DPRsob1SxbkQ"
      },
      "outputs": [],
      "source": [
        "# save files\n",
        "for (key1, key2, key3) in tqdm(zip(train_sets.keys(), valid_sets.keys(), test_sets.keys())):\n",
        "  train_sets[key1].to_parquet(drive_path+f'train_sets/{key1}.parquet.gzip', compression='gzip')\n",
        "  valid_sets[key2].to_parquet(drive_path+f'valid_sets/{key2}.parquet.gzip', compression='gzip')\n",
        "  test_sets[key3].to_parquet(drive_path+f'test_sets/{key3}.parquet.gzip', compression='gzip')"
      ]
    },
    {
      "cell_type": "markdown",
      "metadata": {
        "id": "f0DmAsnisz8V"
      },
      "source": [
        "## Item - Month & Weekday Statistics"
      ]
    },
    {
      "cell_type": "code",
      "execution_count": null,
      "metadata": {
        "id": "2iwprUg6jGiZ"
      },
      "outputs": [],
      "source": [
        "#store_ids = ['CA_1', 'CA_2', 'CA_3', 'CA_4', 'TX_1', 'TX_2', 'TX_3', 'WI_1', 'WI_2', 'WI_3']\n",
        "\n",
        "# train_sets = {f'{store}_train_fea':pd.DataFrame() for store in store_ids}\n",
        "# valid_sets = {f'{store}_valid_fea':pd.DataFrame() for store in store_ids}\n",
        "# test_sets = {f'{store}_test_fea':pd.DataFrame() for store in store_ids}\n",
        "\n",
        "keys = [k for k in zip(train_sets.keys(), valid_sets.keys(), test_sets.keys())]\n",
        "\n",
        "for (key1, key2, key3) in keys:\n",
        "  \n",
        "  # create dict files\n",
        "  item_month_min = {}\n",
        "  item_month_max = {}\n",
        "  item_month_mean = {}\n",
        "  item_month_median = {}\n",
        "  item_month_std = {}\n",
        "\n",
        "  item_wday_min = {}\n",
        "  item_wday_max = {}\n",
        "  item_wday_mean = {}\n",
        "  item_wday_median = {}\n",
        "  item_wday_std = {}\n",
        "\n",
        "  # load files\n",
        "  # train_sets[key1] = pd.read_parquet(drive_path+f'train_sets/{key1}.parquet.gzip')\n",
        "  # valid_sets[key2] = pd.read_parquet(drive_path+f'valid_sets/{key2}.parquet.gzip')\n",
        "  # test_sets[key3] = pd.read_parquet(drive_path+f'test_sets/{key3}.parquet.gzip')\n",
        "  # print(f'{key1}, {key2} and {key3} :: loading - done')\n",
        "\n",
        "  item_list = train_sets[key1]['item_id'].unique() \n",
        "  months = train_sets[key1]['month'].unique() \n",
        "  wdays = train_sets[key1]['wday'].unique()\n",
        "\n",
        "  for item in tqdm(item_list):\n",
        "    for m in months:\n",
        "      im = train_sets[key1][(train_sets[key1]['item_id']==item)&(train_sets[key1]['month']==m)]['sales'].values\n",
        "      item_month_min[f'{key1}_{item}_{m}']=np.min(im)\n",
        "      item_month_max[f'{key1}_{item}_{m}']=np.max(im)\n",
        "      item_month_mean[f'{key1}_{item}_{m}']=np.mean(im)\n",
        "      item_month_median[f'{key1}_{item}_{m}']=np.median(im)\n",
        "      item_month_std[f'{key1}_{item}_{m}']=np.std(im)\n",
        "    for w in wdays:\n",
        "      iw = train_sets[key1][(train_sets[key1]['item_id']==item)&(train_sets[key1]['wday']==w)]['sales'].values\n",
        "      item_wday_min[f'{key1}_{item}_{w}']=np.min(iw)\n",
        "      item_wday_max[f'{key1}_{item}_{w}']=np.max(iw)\n",
        "      item_wday_mean[f'{key1}_{item}_{w}']=np.mean(iw)\n",
        "      item_wday_median[f'{key1}_{item}_{w}']=np.median(iw)\n",
        "      item_wday_std[f'{key1}_{item}_{w}']=np.std(iw)\n",
        "  print(f'{key1} :: creating lookup files - done')\n",
        "\n",
        "  ## train sets\n",
        "  # month\n",
        "  train_sets[key1]['item_month_min']=[item_month_min[f'{key1}_{item}_{m}'] for (item, m) in tqdm(zip(train_sets[key1]['item_id'].values, train_sets[key1]['month'].values))]\n",
        "  train_sets[key1]['item_month_max']=[item_month_max[f'{key1}_{item}_{m}'] for (item, m) in tqdm(zip(train_sets[key1]['item_id'].values, train_sets[key1]['month'].values))]\n",
        "  train_sets[key1]['item_month_mean']=[item_month_mean[f'{key1}_{item}_{m}'] for (item, m) in tqdm(zip(train_sets[key1]['item_id'].values, train_sets[key1]['month'].values))]\n",
        "  train_sets[key1]['item_month_median']=[item_month_median[f'{key1}_{item}_{m}'] for (item, m) in tqdm(zip(train_sets[key1]['item_id'].values, train_sets[key1]['month'].values))]\n",
        "  train_sets[key1]['item_month_std']=[item_month_std[f'{key1}_{item}_{m}'] for (item, m) in tqdm(zip(train_sets[key1]['item_id'].values, train_sets[key1]['month'].values))]\n",
        "  print(f'{key1} :: creating month files - done')\n",
        "\n",
        "  # weekday\n",
        "  train_sets[key1]['item_wday_min']=[item_wday_min[f'{key1}_{item}_{m}'] for (item, m) in tqdm(zip(train_sets[key1]['item_id'].values, train_sets[key1]['wday'].values))]\n",
        "  train_sets[key1]['item_wday_max']=[item_wday_max[f'{key1}_{item}_{m}'] for (item, m) in tqdm(zip(train_sets[key1]['item_id'].values, train_sets[key1]['wday'].values))]\n",
        "  train_sets[key1]['item_wday_mean']=[item_wday_mean[f'{key1}_{item}_{m}'] for (item, m) in tqdm(zip(train_sets[key1]['item_id'].values, train_sets[key1]['wday'].values))]\n",
        "  train_sets[key1]['item_wday_median']=[item_wday_median[f'{key1}_{item}_{m}'] for (item, m) in tqdm(zip(train_sets[key1]['item_id'].values, train_sets[key1]['wday'].values))]\n",
        "  train_sets[key1]['item_wday_std']=[item_wday_std[f'{key1}_{item}_{m}'] for (item, m) in tqdm(zip(train_sets[key1]['item_id'].values, train_sets[key1]['wday'].values))]\n",
        "  print(f'{key1} :: creating weekday files - done')\n",
        "\n",
        "  ## valid sets\n",
        "  # month\n",
        "  valid_sets[key2]['item_month_min']=[item_month_min[f'{key1}_{item}_{w}'] for (item, w) in tqdm(zip(valid_sets[key2]['item_id'].values, valid_sets[key2]['month'].values))]\n",
        "  valid_sets[key2]['item_month_max']=[item_month_max[f'{key1}_{item}_{w}'] for (item, w) in tqdm(zip(valid_sets[key2]['item_id'].values, valid_sets[key2]['month'].values))]\n",
        "  valid_sets[key2]['item_month_mean']=[item_month_mean[f'{key1}_{item}_{w}'] for (item, w) in tqdm(zip(valid_sets[key2]['item_id'].values, valid_sets[key2]['month'].values))]\n",
        "  valid_sets[key2]['item_month_median']=[item_month_median[f'{key1}_{item}_{w}'] for (item, w) in tqdm(zip(valid_sets[key2]['item_id'].values, valid_sets[key2]['month'].values))]\n",
        "  valid_sets[key2]['item_month_std']=[item_month_std[f'{key1}_{item}_{w}'] for (item, w) in tqdm(zip(valid_sets[key2]['item_id'].values, valid_sets[key2]['month'].values))]\n",
        "  print(f'{key2} :: creating month files - done')\n",
        "\n",
        "  # weekday\n",
        "  valid_sets[key2]['item_wday_min']=[item_wday_min[f'{key1}_{item}_{w}'] for (item, w) in tqdm(zip(valid_sets[key2]['item_id'].values, valid_sets[key2]['wday'].values))]\n",
        "  valid_sets[key2]['item_wday_max']=[item_wday_max[f'{key1}_{item}_{w}'] for (item, w) in tqdm(zip(valid_sets[key2]['item_id'].values, valid_sets[key2]['wday'].values))]\n",
        "  valid_sets[key2]['item_wday_mean']=[item_wday_mean[f'{key1}_{item}_{w}'] for (item, w) in tqdm(zip(valid_sets[key2]['item_id'].values, valid_sets[key2]['wday'].values))]\n",
        "  valid_sets[key2]['item_wday_median']=[item_wday_median[f'{key1}_{item}_{w}'] for (item, w) in tqdm(zip(valid_sets[key2]['item_id'].values, valid_sets[key2]['wday'].values))]\n",
        "  valid_sets[key2]['item_wday_std']=[item_wday_std[f'{key1}_{item}_{w}'] for (item, w) in tqdm(zip(valid_sets[key2]['item_id'].values, valid_sets[key2]['wday'].values))]\n",
        "  print(f'{key2} :: creating weekday files - done')\n",
        "\n",
        "  ## test sets\n",
        "  # month\n",
        "  test_sets[key3]['item_month_min']=[item_month_min[f'{key1}_{item}_{w}'] for (item, w) in tqdm(zip(test_sets[key3]['item_id'].values, test_sets[key3]['month'].values))]\n",
        "  test_sets[key3]['item_month_max']=[item_month_max[f'{key1}_{item}_{w}'] for (item, w) in tqdm(zip(test_sets[key3]['item_id'].values, test_sets[key3]['month'].values))]\n",
        "  test_sets[key3]['item_month_mean']=[item_month_mean[f'{key1}_{item}_{w}'] for (item, w) in tqdm(zip(test_sets[key3]['item_id'].values, test_sets[key3]['month'].values))]\n",
        "  test_sets[key3]['item_month_median']=[item_month_median[f'{key1}_{item}_{w}'] for (item, w) in tqdm(zip(test_sets[key3]['item_id'].values, test_sets[key3]['month'].values))]\n",
        "  test_sets[key3]['item_month_std']=[item_month_std[f'{key1}_{item}_{w}'] for (item, w) in tqdm(zip(test_sets[key3]['item_id'].values, test_sets[key3]['month'].values))]\n",
        "  print(f'{key3} :: creating month files - done')\n",
        "\n",
        "  # weekday\n",
        "  test_sets[key3]['item_wday_min']=[item_wday_min[f'{key1}_{item}_{w}'] for (item, w) in tqdm(zip(test_sets[key3]['item_id'].values, test_sets[key3]['wday'].values))]\n",
        "  test_sets[key3]['item_wday_max']=[item_wday_max[f'{key1}_{item}_{w}'] for (item, w) in tqdm(zip(test_sets[key3]['item_id'].values, test_sets[key3]['wday'].values))]\n",
        "  test_sets[key3]['item_wday_mean']=[item_wday_mean[f'{key1}_{item}_{w}'] for (item, w) in tqdm(zip(test_sets[key3]['item_id'].values, test_sets[key3]['wday'].values))]\n",
        "  test_sets[key3]['item_wday_median']=[item_wday_median[f'{key1}_{item}_{w}'] for (item, w) in tqdm(zip(test_sets[key3]['item_id'].values, test_sets[key3]['wday'].values))]\n",
        "  test_sets[key3]['item_wday_std']=[item_wday_std[f'{key1}_{item}_{w}'] for (item, w) in tqdm(zip(test_sets[key3]['item_id'].values, test_sets[key3]['wday'].values))]\n",
        "  print(f'{key3} :: creating weekday files - done')\n",
        "\n",
        "  # save files\n",
        "  train_sets[key1].to_parquet(drive_path+f'train_sets/{key1}.parquet.gzip', compression='gzip')\n",
        "  valid_sets[key2].to_parquet(drive_path+f'valid_sets/{key2}.parquet.gzip', compression='gzip')\n",
        "  test_sets[key3].to_parquet(drive_path+f'test_sets/{key3}.parquet.gzip', compression='gzip')\n",
        "  print(f'{key1}, {key2} and {key3} :: saving - done')\n",
        "\n",
        "  del train_sets[key1], valid_sets[key2], test_sets[key3]\n",
        "  del item_month_min, item_month_max, item_month_mean, item_month_median, item_month_std, item_wday_min, item_wday_max, item_wday_mean, item_wday_median, item_wday_std\n",
        "  print(f'{key1}, {key2} and {key3} :: deletion - done')\n"
      ]
    },
    {
      "cell_type": "markdown",
      "metadata": {
        "id": "CEbwXXzL3rn4"
      },
      "source": [
        "## Sell Prices"
      ]
    },
    {
      "cell_type": "code",
      "execution_count": null,
      "metadata": {
        "id": "L8hO0zdP3uYZ"
      },
      "outputs": [],
      "source": [
        "price_df = pd.read_csv(drive_path+'sell_prices.csv')\n",
        "prices_fea = price_df.merge(calendar_df[['wm_yr_wk', 'd']], on='wm_yr_wk')\n",
        "\n",
        "prices_dict = {}\n",
        "for store in sales_df.store_id.unique():\n",
        "  prices_dict[store] = {}\n",
        "  for item_id, sell_price, d in tqdm(prices_fea[prices_fea.store_id==store][['item_id', 'sell_price', 'd']].values):\n",
        "    prices_dict[store][f'{item_id}_{store}_evaluation_{d}']=sell_price\n",
        "\n",
        "[pd.to_pickle(prices_dict[key], drive_path+key+'_prices_dict.pkl') for key in tqdm(prices_dict.keys())]\n"
      ]
    },
    {
      "cell_type": "code",
      "execution_count": null,
      "metadata": {
        "id": "03qLFHQr7zgF"
      },
      "outputs": [],
      "source": [
        "store_ids = ['CA_1', 'CA_2', 'CA_3', 'CA_4', 'TX_1', 'TX_2', 'TX_3', 'WI_1', 'WI_2', 'WI_3']\n",
        "\n",
        "train_sets = {f'{store}_train_fea':pd.DataFrame() for store in store_ids}\n",
        "valid_sets = {f'{store}_valid_fea':pd.DataFrame() for store in store_ids}\n",
        "test_sets = {f'{store}_test_fea':pd.DataFrame() for store in store_ids}\n",
        "\n",
        "keys = [k for k in zip(train_sets.keys(), valid_sets.keys(), test_sets.keys())]\n",
        "\n",
        "for (key1, key2, key3) in keys:\n",
        "\n",
        "  # load files\n",
        "  train_sets[key1] = pd.read_parquet(drive_path+f'train_sets/{key1}.parquet.gzip')\n",
        "  valid_sets[key2] = pd.read_parquet(drive_path+f'valid_sets/{key2}.parquet.gzip')\n",
        "  test_sets[key3] = pd.read_parquet(drive_path+f'test_sets/{key3}.parquet.gzip')\n",
        "  print(f'{key1}, {key2} and {key3} :: loading - done')\n",
        "\n",
        "  # load store sell price \n",
        "  tr_key1 = key1.replace('_train_fea','_prices_dict.pkl')\n",
        "  tr_price = pd.read_pickle(drive_path+tr_key1)\n",
        "  \n",
        "  # train sets\n",
        "  keys1=[f'{id}_{d}' for id, d in train_sets[key1][['id', 'd']].values]\n",
        "  train_sets[key1]['sell_price']=[tr_price.get(k) if tr_price.get(k) else np.nan for k in keys1]\n",
        "\n",
        "  # valid sets\n",
        "  keys2=[f'{id}_{d}' for id, d in valid_sets[key2][['id', 'd']].values]\n",
        "  valid_sets[key2]['sell_price']=[tr_price.get(k) if tr_price.get(k) else np.nan for k in keys2]\n",
        "\n",
        "  # test sets\n",
        "  keys3=[f'{id}_{d}' for id, d in test_sets[key3][['id', 'd']].values]\n",
        "  test_sets[key3]['sell_price']=[tr_price.get(k) if tr_price.get(k) else np.nan for k in keys3]\n",
        "\n",
        "  # save files\n",
        "  train_sets[key1].to_parquet(drive_path+f'train_sets/{key1}.parquet.gzip', compression='gzip')\n",
        "  valid_sets[key2].to_parquet(drive_path+f'valid_sets/{key2}.parquet.gzip', compression='gzip')\n",
        "  test_sets[key3].to_parquet(drive_path+f'test_sets/{key3}.parquet.gzip', compression='gzip')\n",
        "  print(f'{key1}, {key2} and {key3} :: saving - done')\n",
        "\n",
        "  # delete pickle files\n",
        "  del tr_price\n"
      ]
    },
    {
      "cell_type": "code",
      "execution_count": null,
      "metadata": {
        "id": "QKJaWmxb6ljF"
      },
      "outputs": [],
      "source": [
        "reduce_mem_size()"
      ]
    },
    {
      "cell_type": "code",
      "execution_count": null,
      "metadata": {
        "id": "M4O2XlC55ECJ"
      },
      "outputs": [],
      "source": [
        "from sklearn.impute import SimpleImputer\n",
        "\n",
        "keys = [k for k in zip(train_sets.keys(), valid_sets.keys(), test_sets.keys())]\n",
        "\n",
        "for (key1, key2, key3) in keys:\n",
        "\n",
        "  ## impute missing values of sell_price\n",
        "  imp = SimpleImputer(missing_values=np.nan, strategy='mean')\n",
        "  imp.fit(train_sets[key1]['sell_price'].values.reshape(-1,1))\n",
        "  train_sets[key1]['sell_price'] = imp.transform(train_sets[key1]['sell_price'].values.reshape(-1,1))\n",
        "  valid_sets[key2]['sell_price'] = imp.transform(valid_sets[key2]['sell_price'].values.reshape(-1,1))\n",
        "  test_sets[key3]['sell_price'] = imp.transform(test_sets[key3]['sell_price'].values.reshape(-1,1))\n",
        "\n",
        "  # remove '_d' from d column \n",
        "  train_sets[key1]['d'] = train_sets[key1]['d'].apply(lambda x: int(x.replace('d_','')))\n",
        "  valid_sets[key2]['d'] = valid_sets[key2]['d'].apply(lambda x: int(x.replace('d_','')))\n",
        "  test_sets[key3]['d'] = test_sets[key3]['d'].apply(lambda x: int(x.replace('d_','')))\n"
      ]
    },
    {
      "cell_type": "markdown",
      "metadata": {
        "id": "6kkChQz0dQKF"
      },
      "source": [
        "## Rolling Window & Expanding Statistics"
      ]
    },
    {
      "cell_type": "code",
      "execution_count": null,
      "metadata": {
        "id": "SChqB0oJDWBq"
      },
      "outputs": [],
      "source": [
        "# train_sets = {f'{store}_train_fea':pd.DataFrame() for store in sales_df.store_id.unique()}\n",
        "# test_sets = {f'{store}_test_fea':pd.DataFrame() for store in sales_df.store_id.unique()}\n",
        "\n",
        "# keys = [k for k in zip(train_sets.keys(), valid_sets.keys(), test_sets.keys())]\n",
        "\n",
        "for (key1, key2, key3) in keys:\n",
        "  \n",
        "  # # load files\n",
        "  # train_sets[key1] = pd.read_parquet(drive_path+f'train_sets/{key1}.parquet.gzip')\n",
        "  # test_sets[key2] = pd.read_parquet(drive_path+f'test_sets/{key2}.parquet.gzip')\n",
        "  # print(f'{key1} and {key2} :: loading - done')\n",
        "\n",
        "  item_list = train_sets[key1]['item_id'].unique()\n",
        "\n",
        "  for item in tqdm(item_list):\n",
        "    width = 3\n",
        "    temps = pd.DataFrame(train_sets[key1][train_sets[key1]['item_id']==item]['sales'].values)\n",
        "    shifted = temps.shift(width - 1)\n",
        "    rolling = shifted.rolling(window=width)\n",
        "    expanding = shifted.expanding()\n",
        "\n",
        "    # train\n",
        "    train_sets[key1][train_sets[key1]['item_id']==item]['MA_min'] = rolling.min()\n",
        "    train_sets[key1][train_sets[key1]['item_id']==item]['MA_max'] = rolling.max()\n",
        "    train_sets[key1][train_sets[key1]['item_id']==item]['MA_mean'] = rolling.mean()\n",
        "    train_sets[key1][train_sets[key1]['item_id']==item]['EA_min'] = expanding.min()\n",
        "    train_sets[key1][train_sets[key1]['item_id']==item]['EA_max'] = expanding.max()\n",
        "    train_sets[key1][train_sets[key1]['item_id']==item]['EA_mean'] = expanding.mean()\n",
        "    \n",
        "    # valid\n",
        "    valid_sets[key2][valid_sets[key2]['item_id']==item]['MA_min'] = rolling.min()\n",
        "    valid_sets[key2][valid_sets[key2]['item_id']==item]['MA_max'] = rolling.max()\n",
        "    valid_sets[key2][valid_sets[key2]['item_id']==item]['MA_mean'] = rolling.mean()\n",
        "    valid_sets[key2][valid_sets[key2]['item_id']==item]['EA_min'] = expanding.min()\n",
        "    valid_sets[key2][valid_sets[key2]['item_id']==item]['EA_max'] = expanding.max()\n",
        "    valid_sets[key2][valid_sets[key2]['item_id']==item]['EA_mean'] = expanding.mean()\n",
        "\n",
        "    # test\n",
        "    test_sets[key3][test_sets[key3]['item_id']==item]['MA_min'] = rolling.min()\n",
        "    test_sets[key3][test_sets[key3]['item_id']==item]['MA_max'] = rolling.max()\n",
        "    test_sets[key3][test_sets[key3]['item_id']==item]['MA_mean'] = rolling.mean()\n",
        "    test_sets[key3][test_sets[key3]['item_id']==item]['EA_min'] = expanding.min()\n",
        "    test_sets[key3][test_sets[key3]['item_id']==item]['EA_max'] = expanding.max()\n",
        "    test_sets[key3][test_sets[key3]['item_id']==item]['EA_mean'] = expanding.mean()\n",
        "    \n",
        "    # save files\n",
        "    train_sets[key1].to_parquet(drive_path+f'train_sets/{key1}.parquet.gzip', compression='gzip')\n",
        "    valid_sets[key2].to_parquet(drive_path+f'valid_sets/{key2}.parquet.gzip', compression='gzip')\n",
        "    test_sets[key3].to_parquet(drive_path+f'test_sets/{key3}.parquet.gzip', compression='gzip')\n",
        "    print(f'{key1}, {key2} and {key3} :: saving - done')\n",
        "\n",
        "    del train_sets[key1], valid_sets[key2], test_sets[key3]\n",
        "    print(f'{key1}, {key2} and {key3} :: deletion - done')\n"
      ]
    },
    {
      "cell_type": "code",
      "execution_count": null,
      "metadata": {
        "id": "8czOWFzm_o8P"
      },
      "outputs": [],
      "source": [
        "train_sets['CA_2_train_fea'].shape, valid_sets['CA_2_valid_fea'].shape, test_sets['CA_2_test_fea'].shape"
      ]
    },
    {
      "cell_type": "markdown",
      "metadata": {
        "id": "XZ59dD-gKZZS"
      },
      "source": [
        "## Drop Features"
      ]
    },
    {
      "cell_type": "code",
      "execution_count": null,
      "metadata": {
        "id": "PGY1fphTKgJr"
      },
      "outputs": [],
      "source": [
        "drop_features = ['id', 'store_id', 'd', 'date', 'wm_yr_wk', 'weekday']\n",
        "\n",
        "train_sets = {f'{store}_train_fea':pd.DataFrame() for store in sales_df.store_id}\n",
        "test_sets = {f'{store}_test_fea':pd.DataFrame() for store in sales_df.store_id}\n",
        "\n",
        "keys = [k for k in zip(train_sets.keys(),test_sets.keys())]\n",
        "\n",
        "for key in keys:\n",
        "  \n",
        "  # load files\n",
        "  train_sets[key1] = pd.read_parquet(drive_path+f'train_sets/{key1}.parquet.gzip')\n",
        "  test_sets[key2] = pd.read_parquet(drive_path+f'test_sets/{key2}.parquet.gzip')\n",
        "  print(f'{key1} and {key2} :: loading - done')\n",
        "\n",
        "  train_sets[key1].drop(drop_features, axis=1, inplace=True)\n",
        "  test_sets[key2].drop(drop_features, axis=1, inplace=True)\n",
        "\n",
        "  # save files\n",
        "  train_sets[key1].to_parquet(drive_path+f'train_sets/{key1}.parquet.gzip', compression='gzip')\n",
        "  test_sets[key2].to_parquet(drive_path+f'test_sets/{key2}.parquet.gzip', compression='gzip')\n",
        "  print(f'{key1} and {key2} :: saving - done')\n",
        "\n"
      ]
    },
    {
      "cell_type": "markdown",
      "metadata": {
        "id": "aBpw3ycfIrX4"
      },
      "source": [
        "# 4. Modelling"
      ]
    },
    {
      "cell_type": "code",
      "execution_count": 4,
      "metadata": {
        "id": "4qUD9peYR69I",
        "colab": {
          "base_uri": "https://localhost:8080/",
          "height": 1000
        },
        "outputId": "10656d4b-106d-4f4e-cbfd-db681c89b674"
      },
      "outputs": [
        {
          "output_type": "stream",
          "name": "stdout",
          "text": [
            "Collecting sktime\n",
            "  Downloading sktime-0.9.0-cp37-cp37m-manylinux_2_17_x86_64.manylinux2014_x86_64.whl (6.2 MB)\n",
            "\u001b[K     |████████████████████████████████| 6.2 MB 11.6 MB/s \n",
            "\u001b[?25hRequirement already satisfied: numpy>=1.19.3 in /usr/local/lib/python3.7/dist-packages (from sktime) (1.19.5)\n",
            "Collecting deprecated>=1.2.13\n",
            "  Downloading Deprecated-1.2.13-py2.py3-none-any.whl (9.6 kB)\n",
            "Requirement already satisfied: pandas>=1.1.0 in /usr/local/lib/python3.7/dist-packages (from sktime) (1.1.5)\n",
            "Requirement already satisfied: scikit-learn>=0.24.0 in /usr/local/lib/python3.7/dist-packages (from sktime) (1.0.2)\n",
            "Collecting numpy<=1.19.3\n",
            "  Downloading numpy-1.19.3-cp37-cp37m-manylinux2010_x86_64.whl (14.9 MB)\n",
            "\u001b[K     |████████████████████████████████| 14.9 MB 58.4 MB/s \n",
            "\u001b[?25hCollecting numba>=0.53\n",
            "  Downloading numba-0.55.0-1-cp37-cp37m-manylinux2014_x86_64.manylinux_2_17_x86_64.whl (3.3 MB)\n",
            "\u001b[K     |████████████████████████████████| 3.3 MB 71.0 MB/s \n",
            "\u001b[?25hCollecting statsmodels>=0.12.1\n",
            "  Downloading statsmodels-0.13.1-cp37-cp37m-manylinux_2_17_x86_64.manylinux2014_x86_64.whl (9.8 MB)\n",
            "\u001b[K     |████████████████████████████████| 9.8 MB 65.6 MB/s \n",
            "\u001b[?25hRequirement already satisfied: statsmodels<=0.12.1 in /usr/local/lib/python3.7/dist-packages (from sktime) (0.10.2)\n",
            "Requirement already satisfied: wheel in /usr/local/lib/python3.7/dist-packages (from sktime) (0.37.1)\n",
            "Requirement already satisfied: wrapt<2,>=1.10 in /usr/local/lib/python3.7/dist-packages (from deprecated>=1.2.13->sktime) (1.13.3)\n",
            "Collecting llvmlite<0.39,>=0.38.0rc1\n",
            "  Downloading llvmlite-0.38.0-cp37-cp37m-manylinux_2_17_x86_64.manylinux2014_x86_64.whl (34.5 MB)\n",
            "\u001b[K     |████████████████████████████████| 34.5 MB 109.3 MB/s \n",
            "\u001b[?25hRequirement already satisfied: setuptools in /usr/local/lib/python3.7/dist-packages (from numba>=0.53->sktime) (57.4.0)\n",
            "Requirement already satisfied: pytz>=2017.2 in /usr/local/lib/python3.7/dist-packages (from pandas>=1.1.0->sktime) (2018.9)\n",
            "Requirement already satisfied: python-dateutil>=2.7.3 in /usr/local/lib/python3.7/dist-packages (from pandas>=1.1.0->sktime) (2.8.2)\n",
            "Requirement already satisfied: six>=1.5 in /usr/local/lib/python3.7/dist-packages (from python-dateutil>=2.7.3->pandas>=1.1.0->sktime) (1.15.0)\n",
            "Requirement already satisfied: joblib>=0.11 in /usr/local/lib/python3.7/dist-packages (from scikit-learn>=0.24.0->sktime) (1.1.0)\n",
            "Requirement already satisfied: scipy>=1.1.0 in /usr/local/lib/python3.7/dist-packages (from scikit-learn>=0.24.0->sktime) (1.4.1)\n",
            "Requirement already satisfied: threadpoolctl>=2.0.0 in /usr/local/lib/python3.7/dist-packages (from scikit-learn>=0.24.0->sktime) (3.0.0)\n",
            "Requirement already satisfied: patsy>=0.4.0 in /usr/local/lib/python3.7/dist-packages (from statsmodels<=0.12.1->sktime) (0.5.2)\n",
            "Installing collected packages: numpy, llvmlite, numba, deprecated, sktime\n",
            "  Attempting uninstall: numpy\n",
            "    Found existing installation: numpy 1.19.5\n",
            "    Uninstalling numpy-1.19.5:\n",
            "      Successfully uninstalled numpy-1.19.5\n",
            "  Attempting uninstall: llvmlite\n",
            "    Found existing installation: llvmlite 0.34.0\n",
            "    Uninstalling llvmlite-0.34.0:\n",
            "      Successfully uninstalled llvmlite-0.34.0\n",
            "  Attempting uninstall: numba\n",
            "    Found existing installation: numba 0.51.2\n",
            "    Uninstalling numba-0.51.2:\n",
            "      Successfully uninstalled numba-0.51.2\n",
            "\u001b[31mERROR: pip's dependency resolver does not currently take into account all the packages that are installed. This behaviour is the source of the following dependency conflicts.\n",
            "datascience 0.10.6 requires folium==0.2.1, but you have folium 0.8.3 which is incompatible.\n",
            "albumentations 0.1.12 requires imgaug<0.2.7,>=0.2.5, but you have imgaug 0.2.9 which is incompatible.\n",
            "sktime 0.9.0 requires statsmodels>=0.12.1, but you have statsmodels 0.10.2 which is incompatible.\u001b[0m\n",
            "Successfully installed deprecated-1.2.13 llvmlite-0.38.0 numba-0.55.0 numpy-1.19.3 sktime-0.9.0\n"
          ]
        },
        {
          "output_type": "display_data",
          "data": {
            "application/vnd.colab-display-data+json": {
              "pip_warning": {
                "packages": [
                  "numpy"
                ]
              }
            }
          },
          "metadata": {}
        },
        {
          "output_type": "stream",
          "name": "stdout",
          "text": [
            "Collecting pmdarima\n",
            "  Downloading pmdarima-1.8.4-cp37-cp37m-manylinux_2_17_x86_64.manylinux2014_x86_64.manylinux_2_24_x86_64.whl (1.4 MB)\n",
            "\u001b[?25l\r\u001b[K     |▎                               | 10 kB 39.6 MB/s eta 0:00:01\r\u001b[K     |▌                               | 20 kB 48.6 MB/s eta 0:00:01\r\u001b[K     |▊                               | 30 kB 50.7 MB/s eta 0:00:01\r\u001b[K     |█                               | 40 kB 27.0 MB/s eta 0:00:01\r\u001b[K     |█▏                              | 51 kB 17.7 MB/s eta 0:00:01\r\u001b[K     |█▍                              | 61 kB 18.7 MB/s eta 0:00:01\r\u001b[K     |█▋                              | 71 kB 13.6 MB/s eta 0:00:01\r\u001b[K     |██                              | 81 kB 15.2 MB/s eta 0:00:01\r\u001b[K     |██▏                             | 92 kB 16.7 MB/s eta 0:00:01\r\u001b[K     |██▍                             | 102 kB 14.2 MB/s eta 0:00:01\r\u001b[K     |██▋                             | 112 kB 14.2 MB/s eta 0:00:01\r\u001b[K     |██▉                             | 122 kB 14.2 MB/s eta 0:00:01\r\u001b[K     |███                             | 133 kB 14.2 MB/s eta 0:00:01\r\u001b[K     |███▎                            | 143 kB 14.2 MB/s eta 0:00:01\r\u001b[K     |███▌                            | 153 kB 14.2 MB/s eta 0:00:01\r\u001b[K     |███▉                            | 163 kB 14.2 MB/s eta 0:00:01\r\u001b[K     |████                            | 174 kB 14.2 MB/s eta 0:00:01\r\u001b[K     |████▎                           | 184 kB 14.2 MB/s eta 0:00:01\r\u001b[K     |████▌                           | 194 kB 14.2 MB/s eta 0:00:01\r\u001b[K     |████▊                           | 204 kB 14.2 MB/s eta 0:00:01\r\u001b[K     |█████                           | 215 kB 14.2 MB/s eta 0:00:01\r\u001b[K     |█████▏                          | 225 kB 14.2 MB/s eta 0:00:01\r\u001b[K     |█████▌                          | 235 kB 14.2 MB/s eta 0:00:01\r\u001b[K     |█████▊                          | 245 kB 14.2 MB/s eta 0:00:01\r\u001b[K     |██████                          | 256 kB 14.2 MB/s eta 0:00:01\r\u001b[K     |██████▏                         | 266 kB 14.2 MB/s eta 0:00:01\r\u001b[K     |██████▍                         | 276 kB 14.2 MB/s eta 0:00:01\r\u001b[K     |██████▋                         | 286 kB 14.2 MB/s eta 0:00:01\r\u001b[K     |██████▉                         | 296 kB 14.2 MB/s eta 0:00:01\r\u001b[K     |███████                         | 307 kB 14.2 MB/s eta 0:00:01\r\u001b[K     |███████▍                        | 317 kB 14.2 MB/s eta 0:00:01\r\u001b[K     |███████▋                        | 327 kB 14.2 MB/s eta 0:00:01\r\u001b[K     |███████▉                        | 337 kB 14.2 MB/s eta 0:00:01\r\u001b[K     |████████                        | 348 kB 14.2 MB/s eta 0:00:01\r\u001b[K     |████████▎                       | 358 kB 14.2 MB/s eta 0:00:01\r\u001b[K     |████████▌                       | 368 kB 14.2 MB/s eta 0:00:01\r\u001b[K     |████████▊                       | 378 kB 14.2 MB/s eta 0:00:01\r\u001b[K     |█████████                       | 389 kB 14.2 MB/s eta 0:00:01\r\u001b[K     |█████████▎                      | 399 kB 14.2 MB/s eta 0:00:01\r\u001b[K     |█████████▌                      | 409 kB 14.2 MB/s eta 0:00:01\r\u001b[K     |█████████▊                      | 419 kB 14.2 MB/s eta 0:00:01\r\u001b[K     |██████████                      | 430 kB 14.2 MB/s eta 0:00:01\r\u001b[K     |██████████▏                     | 440 kB 14.2 MB/s eta 0:00:01\r\u001b[K     |██████████▍                     | 450 kB 14.2 MB/s eta 0:00:01\r\u001b[K     |██████████▋                     | 460 kB 14.2 MB/s eta 0:00:01\r\u001b[K     |███████████                     | 471 kB 14.2 MB/s eta 0:00:01\r\u001b[K     |███████████▏                    | 481 kB 14.2 MB/s eta 0:00:01\r\u001b[K     |███████████▍                    | 491 kB 14.2 MB/s eta 0:00:01\r\u001b[K     |███████████▋                    | 501 kB 14.2 MB/s eta 0:00:01\r\u001b[K     |███████████▉                    | 512 kB 14.2 MB/s eta 0:00:01\r\u001b[K     |████████████                    | 522 kB 14.2 MB/s eta 0:00:01\r\u001b[K     |████████████▎                   | 532 kB 14.2 MB/s eta 0:00:01\r\u001b[K     |████████████▌                   | 542 kB 14.2 MB/s eta 0:00:01\r\u001b[K     |████████████▉                   | 552 kB 14.2 MB/s eta 0:00:01\r\u001b[K     |█████████████                   | 563 kB 14.2 MB/s eta 0:00:01\r\u001b[K     |█████████████▎                  | 573 kB 14.2 MB/s eta 0:00:01\r\u001b[K     |█████████████▌                  | 583 kB 14.2 MB/s eta 0:00:01\r\u001b[K     |█████████████▊                  | 593 kB 14.2 MB/s eta 0:00:01\r\u001b[K     |██████████████                  | 604 kB 14.2 MB/s eta 0:00:01\r\u001b[K     |██████████████▏                 | 614 kB 14.2 MB/s eta 0:00:01\r\u001b[K     |██████████████▍                 | 624 kB 14.2 MB/s eta 0:00:01\r\u001b[K     |██████████████▊                 | 634 kB 14.2 MB/s eta 0:00:01\r\u001b[K     |███████████████                 | 645 kB 14.2 MB/s eta 0:00:01\r\u001b[K     |███████████████▏                | 655 kB 14.2 MB/s eta 0:00:01\r\u001b[K     |███████████████▍                | 665 kB 14.2 MB/s eta 0:00:01\r\u001b[K     |███████████████▋                | 675 kB 14.2 MB/s eta 0:00:01\r\u001b[K     |███████████████▉                | 686 kB 14.2 MB/s eta 0:00:01\r\u001b[K     |████████████████                | 696 kB 14.2 MB/s eta 0:00:01\r\u001b[K     |████████████████▍               | 706 kB 14.2 MB/s eta 0:00:01\r\u001b[K     |████████████████▋               | 716 kB 14.2 MB/s eta 0:00:01\r\u001b[K     |████████████████▉               | 727 kB 14.2 MB/s eta 0:00:01\r\u001b[K     |█████████████████               | 737 kB 14.2 MB/s eta 0:00:01\r\u001b[K     |█████████████████▎              | 747 kB 14.2 MB/s eta 0:00:01\r\u001b[K     |█████████████████▌              | 757 kB 14.2 MB/s eta 0:00:01\r\u001b[K     |█████████████████▊              | 768 kB 14.2 MB/s eta 0:00:01\r\u001b[K     |██████████████████              | 778 kB 14.2 MB/s eta 0:00:01\r\u001b[K     |██████████████████▎             | 788 kB 14.2 MB/s eta 0:00:01\r\u001b[K     |██████████████████▌             | 798 kB 14.2 MB/s eta 0:00:01\r\u001b[K     |██████████████████▊             | 808 kB 14.2 MB/s eta 0:00:01\r\u001b[K     |███████████████████             | 819 kB 14.2 MB/s eta 0:00:01\r\u001b[K     |███████████████████▏            | 829 kB 14.2 MB/s eta 0:00:01\r\u001b[K     |███████████████████▍            | 839 kB 14.2 MB/s eta 0:00:01\r\u001b[K     |███████████████████▋            | 849 kB 14.2 MB/s eta 0:00:01\r\u001b[K     |███████████████████▉            | 860 kB 14.2 MB/s eta 0:00:01\r\u001b[K     |████████████████████▏           | 870 kB 14.2 MB/s eta 0:00:01\r\u001b[K     |████████████████████▍           | 880 kB 14.2 MB/s eta 0:00:01\r\u001b[K     |████████████████████▋           | 890 kB 14.2 MB/s eta 0:00:01\r\u001b[K     |████████████████████▉           | 901 kB 14.2 MB/s eta 0:00:01\r\u001b[K     |█████████████████████           | 911 kB 14.2 MB/s eta 0:00:01\r\u001b[K     |█████████████████████▎          | 921 kB 14.2 MB/s eta 0:00:01\r\u001b[K     |█████████████████████▌          | 931 kB 14.2 MB/s eta 0:00:01\r\u001b[K     |█████████████████████▉          | 942 kB 14.2 MB/s eta 0:00:01\r\u001b[K     |██████████████████████          | 952 kB 14.2 MB/s eta 0:00:01\r\u001b[K     |██████████████████████▎         | 962 kB 14.2 MB/s eta 0:00:01\r\u001b[K     |██████████████████████▌         | 972 kB 14.2 MB/s eta 0:00:01\r\u001b[K     |██████████████████████▊         | 983 kB 14.2 MB/s eta 0:00:01\r\u001b[K     |███████████████████████         | 993 kB 14.2 MB/s eta 0:00:01\r\u001b[K     |███████████████████████▏        | 1.0 MB 14.2 MB/s eta 0:00:01\r\u001b[K     |███████████████████████▍        | 1.0 MB 14.2 MB/s eta 0:00:01\r\u001b[K     |███████████████████████▊        | 1.0 MB 14.2 MB/s eta 0:00:01\r\u001b[K     |████████████████████████        | 1.0 MB 14.2 MB/s eta 0:00:01\r\u001b[K     |████████████████████████▏       | 1.0 MB 14.2 MB/s eta 0:00:01\r\u001b[K     |████████████████████████▍       | 1.1 MB 14.2 MB/s eta 0:00:01\r\u001b[K     |████████████████████████▋       | 1.1 MB 14.2 MB/s eta 0:00:01\r\u001b[K     |████████████████████████▉       | 1.1 MB 14.2 MB/s eta 0:00:01\r\u001b[K     |█████████████████████████       | 1.1 MB 14.2 MB/s eta 0:00:01\r\u001b[K     |█████████████████████████▎      | 1.1 MB 14.2 MB/s eta 0:00:01\r\u001b[K     |█████████████████████████▋      | 1.1 MB 14.2 MB/s eta 0:00:01\r\u001b[K     |█████████████████████████▉      | 1.1 MB 14.2 MB/s eta 0:00:01\r\u001b[K     |██████████████████████████      | 1.1 MB 14.2 MB/s eta 0:00:01\r\u001b[K     |██████████████████████████▎     | 1.1 MB 14.2 MB/s eta 0:00:01\r\u001b[K     |██████████████████████████▌     | 1.1 MB 14.2 MB/s eta 0:00:01\r\u001b[K     |██████████████████████████▊     | 1.2 MB 14.2 MB/s eta 0:00:01\r\u001b[K     |███████████████████████████     | 1.2 MB 14.2 MB/s eta 0:00:01\r\u001b[K     |███████████████████████████▎    | 1.2 MB 14.2 MB/s eta 0:00:01\r\u001b[K     |███████████████████████████▌    | 1.2 MB 14.2 MB/s eta 0:00:01\r\u001b[K     |███████████████████████████▊    | 1.2 MB 14.2 MB/s eta 0:00:01\r\u001b[K     |████████████████████████████    | 1.2 MB 14.2 MB/s eta 0:00:01\r\u001b[K     |████████████████████████████▏   | 1.2 MB 14.2 MB/s eta 0:00:01\r\u001b[K     |████████████████████████████▍   | 1.2 MB 14.2 MB/s eta 0:00:01\r\u001b[K     |████████████████████████████▋   | 1.2 MB 14.2 MB/s eta 0:00:01\r\u001b[K     |████████████████████████████▉   | 1.2 MB 14.2 MB/s eta 0:00:01\r\u001b[K     |█████████████████████████████▏  | 1.3 MB 14.2 MB/s eta 0:00:01\r\u001b[K     |█████████████████████████████▍  | 1.3 MB 14.2 MB/s eta 0:00:01\r\u001b[K     |█████████████████████████████▋  | 1.3 MB 14.2 MB/s eta 0:00:01\r\u001b[K     |█████████████████████████████▉  | 1.3 MB 14.2 MB/s eta 0:00:01\r\u001b[K     |██████████████████████████████  | 1.3 MB 14.2 MB/s eta 0:00:01\r\u001b[K     |██████████████████████████████▎ | 1.3 MB 14.2 MB/s eta 0:00:01\r\u001b[K     |██████████████████████████████▌ | 1.3 MB 14.2 MB/s eta 0:00:01\r\u001b[K     |██████████████████████████████▊ | 1.3 MB 14.2 MB/s eta 0:00:01\r\u001b[K     |███████████████████████████████ | 1.3 MB 14.2 MB/s eta 0:00:01\r\u001b[K     |███████████████████████████████▎| 1.4 MB 14.2 MB/s eta 0:00:01\r\u001b[K     |███████████████████████████████▌| 1.4 MB 14.2 MB/s eta 0:00:01\r\u001b[K     |███████████████████████████████▊| 1.4 MB 14.2 MB/s eta 0:00:01\r\u001b[K     |████████████████████████████████| 1.4 MB 14.2 MB/s eta 0:00:01\r\u001b[K     |████████████████████████████████| 1.4 MB 14.2 MB/s \n",
            "\u001b[?25hRequirement already satisfied: scipy>=1.3.2 in /usr/local/lib/python3.7/dist-packages (from pmdarima) (1.4.1)\n",
            "Requirement already satisfied: joblib>=0.11 in /usr/local/lib/python3.7/dist-packages (from pmdarima) (1.1.0)\n",
            "Requirement already satisfied: setuptools!=50.0.0,>=38.6.0 in /usr/local/lib/python3.7/dist-packages (from pmdarima) (57.4.0)\n",
            "Requirement already satisfied: urllib3 in /usr/local/lib/python3.7/dist-packages (from pmdarima) (1.24.3)\n",
            "Collecting statsmodels!=0.12.0,>=0.11\n",
            "  Using cached statsmodels-0.13.1-cp37-cp37m-manylinux_2_17_x86_64.manylinux2014_x86_64.whl (9.8 MB)\n",
            "Requirement already satisfied: numpy>=1.19.3 in /usr/local/lib/python3.7/dist-packages (from pmdarima) (1.19.3)\n",
            "Requirement already satisfied: pandas>=0.19 in /usr/local/lib/python3.7/dist-packages (from pmdarima) (1.1.5)\n",
            "Requirement already satisfied: scikit-learn>=0.22 in /usr/local/lib/python3.7/dist-packages (from pmdarima) (1.0.2)\n",
            "Requirement already satisfied: Cython!=0.29.18,>=0.29 in /usr/local/lib/python3.7/dist-packages (from pmdarima) (0.29.26)\n",
            "Requirement already satisfied: python-dateutil>=2.7.3 in /usr/local/lib/python3.7/dist-packages (from pandas>=0.19->pmdarima) (2.8.2)\n",
            "Requirement already satisfied: pytz>=2017.2 in /usr/local/lib/python3.7/dist-packages (from pandas>=0.19->pmdarima) (2018.9)\n",
            "Requirement already satisfied: six>=1.5 in /usr/local/lib/python3.7/dist-packages (from python-dateutil>=2.7.3->pandas>=0.19->pmdarima) (1.15.0)\n",
            "Requirement already satisfied: threadpoolctl>=2.0.0 in /usr/local/lib/python3.7/dist-packages (from scikit-learn>=0.22->pmdarima) (3.0.0)\n",
            "Requirement already satisfied: patsy>=0.5.2 in /usr/local/lib/python3.7/dist-packages (from statsmodels!=0.12.0,>=0.11->pmdarima) (0.5.2)\n",
            "Installing collected packages: statsmodels, pmdarima\n",
            "  Attempting uninstall: statsmodels\n",
            "    Found existing installation: statsmodels 0.10.2\n",
            "    Uninstalling statsmodels-0.10.2:\n",
            "      Successfully uninstalled statsmodels-0.10.2\n",
            "\u001b[31mERROR: pip's dependency resolver does not currently take into account all the packages that are installed. This behaviour is the source of the following dependency conflicts.\n",
            "sktime 0.9.0 requires statsmodels<=0.12.1, but you have statsmodels 0.13.1 which is incompatible.\u001b[0m\n",
            "Successfully installed pmdarima-1.8.4 statsmodels-0.13.1\n"
          ]
        },
        {
          "output_type": "display_data",
          "data": {
            "application/vnd.colab-display-data+json": {
              "pip_warning": {
                "packages": [
                  "statsmodels"
                ]
              }
            }
          },
          "metadata": {}
        }
      ],
      "source": [
        "!pip install sktime\n",
        "!pip install pmdarima"
      ]
    },
    {
      "cell_type": "markdown",
      "metadata": {
        "id": "o0a2XCF_SGW8"
      },
      "source": [
        "##  Time-Series Basic Models"
      ]
    },
    {
      "cell_type": "code",
      "execution_count": null,
      "metadata": {
        "id": "SwzzkxYgZpGt"
      },
      "outputs": [],
      "source": [
        "from statsmodels.tsa.stattools import adfuller\n",
        "from statsmodels.tsa.arima.model import ARIMA\n",
        "from sklearn.metrics import mean_squared_error\n",
        "from statsmodels.tsa.holtwinters import SimpleExpSmoothing\n",
        "from statsmodels.tsa.holtwinters import ExponentialSmoothing\n",
        "from statsmodels.tsa.statespace.varmax import VARMAX\n",
        "from statsmodels.tsa.vector_ar.var_model import VAR\n",
        "\n",
        "from statsmodels.tsa.statespace.sarimax import SARIMAX\n",
        "from statsmodels.tsa.ar_model import AutoReg\n",
        "from sktime.performance_metrics.forecasting import mean_squared_scaled_error\n",
        "\n",
        "\n",
        "import warnings\n",
        "warnings.filterwarnings('ignore')\n"
      ]
    },
    {
      "cell_type": "code",
      "execution_count": null,
      "metadata": {
        "id": "9rlgnR417mkC"
      },
      "outputs": [],
      "source": [
        "def time_series_models(train_df, test_df):\n",
        "  \"\"\"\n",
        "  code for execution of basic time series models\n",
        "  Univariate - AR, MA, ARIMA, SES, HWES\n",
        "  Multivariate - VAR, VAM, VARMA   \n",
        "  \"\"\"\n",
        "  \n",
        "  total_items = train_df['item_id'].nunique()\n",
        "  test_data = test_df['sales']\n",
        "\n",
        "  test_df['ar_yhat'] = np.zeros(len(test_data))\n",
        "  test_df['ma_yhat'] = np.zeros(len(test_data))\n",
        "  test_df['arima_yhat'] = np.zeros(len(test_data))\n",
        "  test_df['ses_yhat'] = np.zeros(len(test_data))\n",
        "  test_df['hwes_yhat'] = np.zeros(len(test_data))\n",
        "  test_df['var_yhat'] = np.zeros(len(test_data))\n",
        "  test_df['vma_yhat'] = np.zeros(len(test_data))\n",
        "  test_df['varma_yhat'] = np.zeros(len(test_data))\n",
        "\n",
        "  for id in tqdm(range(1, total_items+1)):\n",
        "    try:\n",
        "      train_data = train_df[train_df['item_id']==id]\n",
        "      indexes = test_df[test_df['item_id']==id].index\n",
        "      \n",
        "      ### Autoregression (AR)\n",
        "      ## The autoregression (AR) method models the next step in the sequence\n",
        "      ## as a linear function of the observations at prior time steps.\n",
        "      ar_mod = AutoReg(train_data['sales'], lags=1).fit()\n",
        "      test_df.loc[indexes, 'ar_yhat'] = ar_mod.predict(len(train_data), len(train_data)+27).tolist()\n",
        "      \n",
        "      ### Moving Average (MA)\n",
        "      ## The moving average (MA) method models the next step in the sequence as a linear function\n",
        "      ## of the residual errors from a mean process at prior time steps.\n",
        "      ma_mod = ARIMA(train_data['sales'], order=(0, 0, 1)).fit()\n",
        "      test_df.loc[indexes, 'ma_yhat'] = ma_mod.predict(len(train_data), len(train_data)+27).tolist()\n",
        "      \n",
        "      ### Autoregressive Integrated Moving Average (ARIMA)\n",
        "      ## The Autoregressive Integrated Moving Average (ARIMA) method models the next step in the\n",
        "      ## sequence as a linear function of the differenced observations and residual errors at prior time steps.\n",
        "      arima_mod = ARIMA(train_data['sales'], order=(1, 1, 1)).fit()\n",
        "      test_df.loc[indexes, 'arima_yhat'] = arima_mod.predict(len(train_data), len(train_data)+27).tolist()\n",
        "\n",
        "      ### Simple Exponential Smoothing (SES)\n",
        "      ## The Simple Exponential Smoothing (SES) method models the next time step \n",
        "      ## as an exponentially weighted linear function of observations at prior time steps.\n",
        "      ses_mod = SimpleExpSmoothing(train_data['sales']).fit()\n",
        "      test_df.loc[indexes, 'ses_yhat'] = ses_mod.predict(len(train_data), len(train_data)+27).tolist()\n",
        "\n",
        "\n",
        "      ### Holt Winter’s Exponential Smoothing (HWES)\n",
        "      ## The Holt Winter’s Exponential Smoothing (HWES) also called the Triple Exponential Smoothing method models\n",
        "      ## the next time step as an exponentially weighted linear function of observations at prior time steps, taking trends and seasonality into account. \n",
        "      hwes_mod = ExponentialSmoothing(train_data['sales']).fit()\n",
        "      test_df.loc[indexes, 'hwes_yhat'] = hwes_mod.predict(len(train_data), len(train_data)+27).tolist()\n",
        "\n",
        "      ### Vector Autoregression (VAR)\n",
        "      ## The Vector Autoregression (VAR) method models the next step in each time series using an AR model.\n",
        "      ## It is the generalization of AR to multiple parallel time series, e.g. multivariate time series.\n",
        "      var_mod = VAR(train_data[multivariate_features]).fit()\n",
        "      test_df.loc[indexes, 'var_yhat'] = var_mod.forecast(var_mod.y, steps=28)[:, -1]\n",
        "\n",
        "      ### Vector Autoregression Moving-Average (VMA)\n",
        "      ## The Vector Autoregression Moving-Average (VARMA) method models the next step in each time series using an ARMA model.\n",
        "      ## It is the generalization of ARMA to multiple parallel time series, e.g. multivariate time series.\n",
        "      vma_mod = VARMAX(train_data[multivariate_features], order=(0, 1)).fit(disp=False)\n",
        "      test_df.loc[indexes, 'vma_yhat'] = vma_mod.forecast(steps=28)[:, -1]\n",
        "\n",
        "      ### Vector Autoregression Moving-Average (VARMA)\n",
        "      ## The Vector Autoregression Moving-Average (VARMA) method models the next step in each time series using an ARMA model.\n",
        "      ## It is the generalization of ARMA to multiple parallel time series, e.g. multivariate time series.\n",
        "      varma_mod = VARMAX(train_data[multivariate_features], order=(1, 1)).fit(disp=False)\n",
        "      test_df.loc[indexes, 'varma_yhat'] = varma_mod.forecast(steps=28)[:, -1]\n",
        "\n",
        "    except:\n",
        "      pass\n"
      ]
    },
    {
      "cell_type": "markdown",
      "source": [
        "### Training"
      ],
      "metadata": {
        "id": "AfKl40Pu0bk4"
      }
    },
    {
      "cell_type": "code",
      "execution_count": null,
      "metadata": {
        "id": "ietLaOcQ7epH"
      },
      "outputs": [],
      "source": [
        "store_ids = ['CA_1', 'CA_2', 'CA_3', 'CA_4', 'TX_1', 'TX_2', 'TX_3', 'WI_1', 'WI_2', 'WI_3']\n",
        "train_sets = {f'{store}_train_fea':pd.DataFrame() for store in store_ids}\n",
        "test_sets = {f'{store}_test_fea':pd.DataFrame() for store in store_ids}\n",
        "\n",
        "multivariate_features = ['store_month_min', 'store_month_max', 'store_month_mean', 'store_month_median', 'store_month_std', 'store_wday_min', 'store_wday_max', 'store_wday_mean', 'store_wday_median', 'store_wday_std', 'dept_month_min', 'dept_month_max', 'dept_month_mean', 'dept_month_median', 'dept_month_std', 'dept_wday_min', 'dept_wday_max', 'dept_wday_mean', 'dept_wday_median', 'dept_wday_std', 'item_month_min', 'item_month_max', 'item_month_mean', 'item_month_median', 'item_month_std', 'item_wday_min', 'item_wday_max', 'item_wday_mean', 'item_wday_median', 'item_wday_std', 'sales']\n",
        "\n",
        "keys = [k for k in zip(train_sets.keys(),test_sets.keys())]\n",
        "\n",
        "results_summay = {'store_id':[], 'adfuller_p_value':[], 'ar_rmsse':[], 'ma_rmsse':[], 'arima_rmsse':[], 'ses_rmsse':[], 'hwes_rmsse':[], 'var_rmsse':[], 'vma_rmsse':[], 'varma_rmsse':[]}\n",
        "\n",
        "for key1, key2 in keys:\n",
        "  \n",
        "  store = key1.replace('_train_fea','')\n",
        "  print('#'*50)\n",
        "  print('*'*10+' '*3+store+' '*3+'*'*10)\n",
        "  print('#'*50)\n",
        "  results_summay['store_id'].append(store)\n",
        "  \n",
        "  # load files\n",
        "  train_sets[key1] = pd.read_parquet(drive_path+f'train_sets/{key1}.parquet.gzip')\n",
        "  test_sets[key2] = pd.read_parquet(drive_path+f'test_sets/{key2}.parquet.gzip')\n",
        "  print(f'{key1} and {key2} :: loading - done')\n",
        "\n",
        "  result = adfuller(train_sets[key1].groupby('date').aggregate('sales').mean().reset_index('date').sort_values('date')['sales'].values)\n",
        "  print('ADF Statistic: %f' % result[0])\n",
        "  print('p-value: %f' % result[1])\n",
        "  print('Critical Values:')\n",
        "  for key, value in result[4].items():\n",
        "    print('\\t%s: %.3f' % (key, value))\n",
        "  results_summay['adfuller_p_value'].append(result[1])\n",
        "  print('*'*50)\n",
        "\n",
        "  time_series_models(train_sets[key1], test_sets[key2])\n",
        "\n",
        "  series_train = train_sets[key1].groupby('date').aggregate('sales').mean().reset_index('date').sort_values('date')\n",
        "  series_test = test_sets[key2].groupby('date').aggregate('sales').mean().reset_index('date').sort_values('date')\n",
        "\n",
        "  for k in results_summay.keys():\n",
        "    if k not in ['store_id', 'adfuller_p_value']:\n",
        "      forecast = test_sets[key2].groupby('date').aggregate(k.replace('rmsse', 'yhat')).mean().reset_index('date').sort_values('date')\n",
        "      rmsse = mean_squared_scaled_error(series_test['sales'], forecast[k.replace('rmsse', 'yhat')], y_train=series_train['sales'], square_root=True)\n",
        "      results_summay[k].append(rmsse)\n",
        "      print(f'{k} :: ', rmsse)\n",
        "\n",
        "  print('*'*50)\n",
        "\n",
        "  # save files\n",
        "  train_sets[key1].to_parquet(drive_path+f'train_sets/{key1}.parquet.gzip', compression='gzip')\n",
        "  test_sets[key2].to_parquet(drive_path+f'test_sets/{key2}.parquet.gzip', compression='gzip')\n",
        "  print(f'{key1} and {key2} :: saving - done')\n",
        "\n",
        "  # delete files\n",
        "  del train_sets[key1], test_sets[key2]\n",
        "  print(f'{key1} and {key2} :: deletion - done')\n",
        "  print(' ')\n",
        "  print(' ')\n"
      ]
    },
    {
      "cell_type": "code",
      "execution_count": null,
      "metadata": {
        "id": "ByMYNpLbMdqk"
      },
      "outputs": [],
      "source": [
        ""
      ]
    },
    {
      "cell_type": "markdown",
      "source": [
        "### Results"
      ],
      "metadata": {
        "id": "jAO8RlSdKJpX"
      }
    },
    {
      "cell_type": "code",
      "execution_count": null,
      "metadata": {
        "id": "UaS68_XRocX4"
      },
      "outputs": [],
      "source": [
        "results_summay={\n",
        "'store_id':['CA_1', 'CA_2', 'CA_3', 'CA_4', 'TX_1', 'TX_2', 'TX_3', 'WI_1', 'WI_2', 'WI_3'], \n",
        "'adfuller_p_value':[0.271267, 0.883943, 0.142539, 0.386659, 0.075255, 0.102949, 0.261747, 0.658143, 0.758684, 0.201476], \n",
        "'ar_rmsse':[1.3732908392418213, 2.7891309119458487, 1.0135155064874557, 2.351719259378403, 1.347055078945133, 0.8941802695001503, 1.9505133933653298, 2.1577299281829156, 3.20206039796912, 1.4921170463421125], \n",
        "'ma_rmsse':[1.3738010454513028, 2.7843566350704076, 1.016640577157016, 2.3516167444881466, 1.3475580908388507, 0.895375358186744, 1.942478169578925, 2.155524161437754, 3.201459334598645, 1.49147436227438], \n",
        "'arima_rmsse':[63.09451041320044, 2.715335119973786, 8.751454572636597, 149.17577454591816, 100.55945571885101, 130.59143499204822, 76.30874661179276, 2.2053418334600674, 37.23750296997881, 112.3529715635522], \n",
        "'ses_rmsse':[1.2628325981815145, 2.6730423141129434, 0.9216842274689359, 1.9471254189685239, 1.2942776611597075, 0.8008745594890386, 2.1600893463875415, 2.218859643347453, 2.9828371874064987, 1.8998222801309916], \n",
        "'hwes_rmsse':[1.2628325981815145, 2.6730423141129434, 0.9216842274689359, 1.9471254189685239, 1.2942776611597075, 0.8008745594890386, 2.1600893463875415, 2.218859643347453, 2.9824476491631966, 1.903076339946979], \n",
        "'var_rmsse':[1.586903962839438, 2.956820396754225, 1.265072358177416, 2.9981229496226622, 1.6076465971097023, 1.120405717299154, 2.2756081071350165, 2.409843777433029, 7.76497116435346, 5.8482027074796346], \n",
        "'vma_rmsse':[5.626757214626379, 6.440126947520848, 6.575097387725006, 8.955397880621401, 5.915180297990925, 5.453411058006674, 7.346039577747277, 5.709031295091865, 7.76497116435346, 5.8482027074796346], \n",
        "'varma_rmsse':[5.626757214626379, 6.440126947520848, 6.575097387725006, 8.955397880621401, 5.915180297990925, 5.453411058006674, 7.346039577747277, 5.709031295091865, 7.76497116435346, 5.8482027074796346]\n",
        "}\n",
        "\n",
        "time_series_models_results_summary = pd.DataFrame(results_summay)\n",
        "\n",
        "fea = ['ar_rmsse', 'ma_rmsse', 'arima_rmsse', 'ses_rmsse', 'hwes_rmsse', 'var_rmsse', 'vma_rmsse', 'varma_rmsse']\n",
        "best_model = []\n",
        "for store in results_summay['store_id']:\n",
        "  col_idx = np.argsort(time_series_models_results_summary[time_series_models_results_summary.store_id==store][fea].values[0])[0]\n",
        "  best_model.append(fea[col_idx].replace('_rmsse','').upper())\n",
        "time_series_models_results_summary['best_model']=best_model\n",
        "\n",
        "time_series_models_results_summary\n"
      ]
    },
    {
      "cell_type": "markdown",
      "source": [
        "### Preparing submission file for kaggle"
      ],
      "metadata": {
        "id": "l-mGao2tKRPb"
      }
    },
    {
      "cell_type": "code",
      "execution_count": null,
      "metadata": {
        "id": "PYKHWcJstZ_L"
      },
      "outputs": [],
      "source": [
        "encode_config = pd.read_pickle(drive_path+'encode_config.pkl')\n",
        "\n",
        "store_ids = ['CA_1', 'CA_2', 'CA_3', 'CA_4', 'TX_1', 'TX_2', 'TX_3', 'WI_1', 'WI_2', 'WI_3']\n",
        "train_sets = {f'{store}_train_fea':pd.DataFrame() for store in store_ids}\n",
        "test_sets = {f'{store}_test_fea':pd.DataFrame() for store in store_ids}\n",
        "\n",
        "keys = [k for k in zip(train_sets.keys(),test_sets.keys())]\n",
        "\n",
        "submission_data = {}\n",
        "\n",
        "for key1, key2 in keys:\n",
        "  \n",
        "  store = key1.replace('_train_fea','')\n",
        "  print('#'*50)\n",
        "  print('*'*10+' '*3+store+' '*3+'*'*10)\n",
        "  print('#'*50)\n",
        "  results_summay['store_id'].append(store)\n",
        "  \n",
        "  # load files\n",
        "  train_sets[key1] = pd.read_parquet(drive_path+f'train_sets/{key1}.parquet.gzip')\n",
        "  test_sets[key2] = pd.read_parquet(drive_path+f'test_sets/{key2}.parquet.gzip')\n",
        "  print(f'{key1} and {key2} :: loading - done')\n",
        "\n",
        "  total_data = pd.concat([train_sets[key1], test_sets[key2]])\n",
        "  total_items = total_data['item_id'].nunique()\n",
        "\n",
        "  deocde_item_id_map = {val: f'{key}_{store}_evaluation' for key, val in encode_config['item_id_map'].items()}\n",
        "\n",
        "  # train and get forecast data\n",
        "\n",
        "  for id in tqdm(range(1, total_items+1)):\n",
        "    try:\n",
        "      train_data = total_data[total_data['item_id']==id]['sales']\n",
        "      \n",
        "      model_to_train = time_series_models_results_summary[time_series_models_results_summary.store_id==store]['best_model'].values[0]\n",
        "\n",
        "      if model_to_train == 'MA':\n",
        "        ### Moving Average (MA)\n",
        "        ## The moving average (MA) method models the next step in the sequence as a linear function\n",
        "        ## of the residual errors from a mean process at prior time steps.\n",
        "        ma_mod = ARIMA(train_data, order=(0, 0, 1)).fit()\n",
        "        submission_data[deocde_item_id_map[id]] = ma_mod.predict(len(train_data), len(train_data)+27).tolist()\n",
        "      \n",
        "      elif model_to_train == 'SES':\n",
        "        ### Simple Exponential Smoothing (SES)\n",
        "        ## The Simple Exponential Smoothing (SES) method models the next time step \n",
        "        ## as an exponentially weighted linear function of observations at prior time steps.\n",
        "        ses_mod = SimpleExpSmoothing(train_data).fit()\n",
        "        submission_data[deocde_item_id_map[id]] = ses_mod.predict(len(train_data), len(train_data)+27).tolist()\n",
        "\n",
        "\n",
        "      elif model_to_train == 'HWES':\n",
        "        ### Holt Winter’s Exponential Smoothing (HWES)\n",
        "        ## The Holt Winter’s Exponential Smoothing (HWES) also called the Triple Exponential Smoothing method models\n",
        "        ## the next time step as an exponentially weighted linear function of observations at prior time steps, taking trends and seasonality into account. \n",
        "        hwes_mod = ExponentialSmoothing(train_data).fit()\n",
        "        submission_data[deocde_item_id_map[id]] = hwes_mod.predict(len(train_data), len(train_data)+27).tolist()\n",
        "    \n",
        "    except:\n",
        "      pass\n",
        "\n",
        "  # drop columns\n",
        "  test_sets[key2].drop(['ar_yhat', 'ma_yhat', 'arima_yhat', 'ses_yhat', 'hwes_yhat', 'var_yhat', 'vma_yhat', 'varma_yhat'], axis=1, inplace=True)\n",
        "\n",
        "  # save files\n",
        "  train_sets[key1].to_parquet(drive_path+f'train_sets/{key1}.parquet.gzip', compression='gzip')\n",
        "  test_sets[key2].to_parquet(drive_path+f'test_sets/{key2}.parquet.gzip', compression='gzip')\n",
        "  print(f'{key1} and {key2} :: saving - done')\n",
        "\n",
        "  # delete files\n",
        "  del train_sets[key1], test_sets[key2]\n",
        "  print(f'{key1} and {key2} :: deletion - done')\n",
        "  print(' ')\n",
        "  print(' ')\n"
      ]
    },
    {
      "cell_type": "code",
      "execution_count": null,
      "metadata": {
        "id": "VNMvL-5JzxS2"
      },
      "outputs": [],
      "source": [
        "time_seris_basic_model_submission = pd.concat([pd.DataFrame({'id': submission_data.keys()}), pd.DataFrame(submission_data.values(), columns=[f'F{i}' for i in range(1,29)])], axis=1)\n",
        "time_seris_basic_model_submission.to_csv(drive_path+'time_seris_basic_model_submission.csv')\n",
        "time_seris_basic_model_submission.head()\n"
      ]
    },
    {
      "cell_type": "markdown",
      "source": [
        "**Observations**\n",
        "\n",
        "1. Trained the models on each store item wise, as model training is dependent on the time series data due to this it will take more time to train the models.\n",
        "2. After train each store observed best score on different models, which was capture in results section.\n",
        "3. After submiting evaluation test predictions, I got '1.07660' RMSSE under private leaderboard which stands top 43% (2400 out of 5558 participants)\n",
        "\n",
        "![image.png](data:image/png;base64,iVBORw0KGgoAAAANSUhEUgAAA88AAABxCAYAAAGcpKHNAAAAAXNSR0IArs4c6QAAAARnQU1BAACxjwv8YQUAAAAJcEhZcwAAFxEAABcRAcom8z8AAFklSURBVHhe7d0HlBzXeSd67TvH+/Z53+6zvU+7epa0tix5vbKclC3LloMoW7QkyrJIWRJNBVLMCSRBAswESDCABEnkDAwwGAxymsHkPNNhOuecezrnnPv/blX1YAaDTIHkAPh+59RMd3V11a343a+q+tZHQG4ItKJvELSibxC0oq8xY6Jp/n8imeb/X65zVvQnNk/imyd0+KtOI/7pqInvF6wAG70FvN0mxh3SKOtTR2eoiu8MevHloxasOC7mh7vjtBrf6HLhplMO/OSUDA90TPH9f7ZnCrfst+ChTSNAI4RXDojQLGXYJ2zEKOKevVN4et8EP+xMowlHCfiHvVr+/Yctzor47pMr0WSvYw0gmsnBoLfyJb9cW2Vh9pd9mbnr7X1AycG/3nBaxf+/EldtRYOfpTmf2SFtvZrzmXZ169Wcz2wWVtR81XwJd64bZa+EmbyQWrHaenVtaPCzc/F5uhhuCdfrwusPCh26bxDnrOhUvoyYi9tjyzCobVCZXWhWClDEm+D3u2oYSY+Ze4WX3WX+/7ppB544ocR/3jyOfY4suANVlm22Gw4q8G9rRvCiuYjtMX5QNqxTeEE+ULRH3yBoRd8grvqKVtpn+P/Wvl7+P1kczlnRM7kshnRepI1j/PtsLodkMgJ/MgNVpAzXsAjmeBZJ1r8Z1KAadbJoDmTSGQxrvRgdkyJhk8I+0I8htZUfB/nw0aH7BkEr+gZBK/oG8ZFisdR6Sa5ntKJvELSibxC0om8Q56zoO3docIfYiZ0DMuH9fgn+cec4/uaIAvftEy47PnlIgsc6JtF2Uoo1u0S4udvF939HYsWG4xJMDCnYuxpQjvD9H9GkMDIqxg+3jGPJnlHE2GeP7J3E050ioM6y8GaYGxqf3z2FOzokGC3wX/vQBc5ci+SuNzWxc8wD2Z61aDbLuPe1LcJHlxALJvj/yj1r0B8DHlu1AQXDCewzpX6N619X7qJ7NHfpsV4oslez19QarcuRbMbrZ1+R/Uy7pvXqbJ/ZKJx44ZTnzVm50kCpsODyZKWIRpGb3uJS/SDXyPuEDt03iHNWNH/lsVnC0JgSwdaO3C/TwjiuhsYvHIYmpF789UkrVgTYoanG9u7WZUvOmyLhcL1uSM7/53aGJzoU+JElCXGVOwSSDwPt0TcIWtE3iPOu6LD0WOvVuawWj/CieXbVWMzdM9hSSQqXKsnicc6KPmWIYejYAWSCNvauikKtDq4erIxWcXDaDrlYC1Egh3i1jEzcyz4R4q48DshGVHCJJaiE7ZBZg3x/sjjQofsGQSv6BkEr+gbBX4+mlU3I9YHfoZPJFPL5AnXUUXeNdrMoQhPyPopEExgcE53VvZ8ua4dWmrnfzF0Zm/nyz4FeybBozL8Izt2rcH7l7PluXTjfVeXr4Erzh6g572pkmru5gPUoFouotVbN7MeJdF54UeB+FH/1levzCjJ7o0RtbruutFZzMilMv1wsoFgWfiH6fpr9MfusK/1R+5W65A59sySKv1+vxE2qHD6xQ4MXd43gE3sN6Nf5WkMAJ8Q2jGXqeE7uh8iewLfUOTy3cRy1UAifbje0hqrzP7n9vfUSfGaHEv/M/Ti+lMSn103i6U2TuE2RRSOXEwZlXvE38bFDdvzV5nH8UJ6AWizF/zhgQcFjQF4kwymVF7nk3FWUvC+Izx2y4fd3mXCobwx3rx9jW1MV1aZwMOLO1a+NCneu/PSkcIvUYwPcHTEliIYn+feiJHfeHjgUZ39Y2TjpUhP90zYcCVfwzTYt/HxfMotrDYKz7ckX2F9hp2pb9gj/f82AGwXRWkxtfo1/n6hU+FYiHlq9k39/NQktSgiku97i/6dY99IDK/DwK+vY+rSgWc4iFM2i15tHge3g+1cJ5Xo/jU5JEQhFznQ2R+uC4PuEqtyEXEcuuUNLTW7+B7E8FvGuWFW4e2w+MztMr+tWoDt64fEtNVfxjYO61rsLe/OQGbsOS1rvzqacrWcRcoO45A6tkMwm8XUo9C6UPFpojKy6nbTzfafl3F36QNSihsYdRDHigEMkh1YmE7LTWgoSVl0+S0losuaQUKtFsdbAPX3crSxsfK2ibPXXMT1hwmt9avQ6Mnz1iZMvpvHKlA29EqG1myNTM8gGPPAqTBhN1jCRbWKNp4RvHtHAW62fGS8hNwKqchNyHaEdmpDryCV36EazjtOmJN/OrrHvKEz93G8iZy8dNZCv1NFk1WpO68IETqlDkM4UcUhshHNYCqVUB2U8zyrtDSTLNTRRRHha+OFtLSZU3flsuiGMR54ATOkyLH096J42sYEqrJbuRIWrzg8PYcI4g0btA24rlZBrAEVoQq4jtEMTch3hd+hYLI5MJksdddRdo92sjzTn37tHCLnmpNNzt9PSDk3INY52aEKuI2ft0Nyf8/2+kjrqqLs2uki09bBAhiI0Idc4qnIT8gEZWNC4QTI1t/NdLbRDE/IBKSy4x0OqOP9TKX4dV7hDv5efIDZRWvC1cu5CDz9hw17BMaVWmRu4nJ+9BfXyaI3nNi6sNIVar8gVq8zbWKtC4xHlYhHFkvA6l2z9nG6e/Hv4Be6lnX0b8OwzHRJ5odmUWm72t3qzhFZVPgiLaodeu2cQ4lgSaa8Z/75tFE+2T/J3cd/RPtcukk6swxd2y4FkHHftnkLIacK9R3UIsRW8rEO4X5vzxOYR/GjzOHtVwZJOMfvfxNKD3O+YG4jUmvjxXqHVEI5arsCtm0fx2O5R/v397cJ4/qVtCjeJ01jWOYlbxwP4rU4L3x/VHB7nH8okrLhDaeCpQ2IcCdfwz/tV+Fa/DV/eLMVj22X4tz1TeM6UxbL9U7hlNIC7dyjxi32T+KU4hJs71fjiPiM/DrPWiO/uVsCtNOKru6ax7iAre/H9bT7mmlIromf1Pa03ANd2zBvPLuVftz31GBAaQ9CoQZZtMHp2EC7m2Tq6/x326dV+qhXbfvVHW6+BeLIMUQ7wdb/B3nE7k7BD3b/iJF5V5lCTbgNmBmDQtbad99niitA27oneBaScenboFVaEze5Ar9oDd2b2qFjAl9cN457dQzim8SFg5RolaMDDPr63Vy0Mwjy0gftRRx21rB+7dSFwrYi9OWJk327AohOGm43qY1Nshy8IDSMEdcKjdn4xJTT+8w1xBjcPOTBm8M/t0MwvupXsrxARdghP7cEn1k/jU0c9+A6b9vDwFG5dK0bCNYMvnXSzNR/B7+1gO/tGJTayIH1w3zg+fcyLnYeFg8h/384WfJM7fJXw1xuG2f883moXPiOCU6/f3XoFBFi35rll7G8DaW49urq53nhVU4GCbQtD79yNZ+99nfW52js0CxGqg61XAm6HPrbsDv717PPiHny5G9FCBSXJVlSSQq3s/W0MSOD2zpzVBNGHXuU+78eFIhwmA//0urlWwFigLJ9d9SmVqpBMqVpPuWPHhNYOW6oJL0r5uWoP92S8qQnlmWHnq7EVwSstbNStxA9/kzrLPjp72vyR+3yasw0LXny+ya+v0VrfH5Yz227j3Hr+/DYFr3V0UoyQ6wjt0IRcRy5/hw4b4HIKTdtyZL4rPylk8s79EoQzfERoX2xm3t0tC9UiUVZNyvFNrV4cV2VvwlY4dx78DlPrFSHXt8veoWv5FPxaoUVNLoudciXhd3ItjNSQ91iQCxjO7HRehwNIcifRgLiJO5stnN3T2hOwG+Qo8SeYWtjO1rDZsfHkNJQT0yj4IvjBSAQrvK1cJ57AT/vYgSTLnbZIoqtPiY4RGSQDElgsM2ibKbVOrZTw3cMqVLKzJ9AMQMiH1Qd0cGvV/Hj/dezCBw5CrgeXH6HrBchNQoQ2TothT5QgU6j484YD7jxq2TCULq5VekCi1PP/lVYX+1uHWC20tuk2WzDDIqh5tId/z1mlTqIRDGFMbofdaMfz3UpstmRx4KRwOazeKmCoBtwz7YJC68Ko3g6Txo4fHFdhIlnlY/NsU0h9iRruOq5G2eFm+38UjXgIq5VuPNvFxms9u4ZAyPWGcmhCriO0QxNyHaEdmpDrCO3QhFxH3vMOnW3djDU1ffYjMmfJJOfe5dVqcfssFveFH0/bCF74eVaeXP1Mi+CEEMHl79DVCkpRO7JuYSfjLvdyl4uGxuX8e23XENsDa1C44nCMTGNstB8oR9HIzj10lWt8v2gX7tW2drPPm3XI9V6EG4B6fAzT4TpUJ4VLY1KVBzmHBHm/GZVK5cxdv1xj/6f0MRizTVSqiYs8FZqQG89l79D2STESFhEaGT+ymTi/QxtnUjg2JjygTjE4DePUaZwel6D3QD8mug4gYlagnuZ2aOECNXfRKO3QIekzQTcshkPSg2mtGyJ7BOMSO7TJJkwnhF9aiacmYR47wY4CYeSyaX7HTRYr8GezOKaNQM926FIxgmyWri0TMotyaEKuI7RDE3IdoR2akOsI7dCEXEfO2qG5P+d7Vg511FF3bXShsPDjJA5FaEKucedEaG6npkfKEkIIIR+O+YF5FgVoQggh5EN20QBdOqeBXEIIIYR8ELjrVQtRBk0IIYR8yOgUNyGEELIIUYAmhBBy3RgTTSOTy6NWq523i8YS78vDXt8PFKAJIYRcN7gAXbhI7Eok0zdwgPa78LA6wV5U0akJCv3eZ6M6HzIXfUx3HXe+O8L+XokGRrS+M+0TX005nx5fGU+13s2TC+Eje6/00ZhV/PSdkdbrS6nhqGam9fpiqjigCbReE/JBKOPo2pfx4C9vRWJB895ZVSeWvL0HR7e/ile6rOzgVEbvwU4cOHgYnW8tw4oRYZte/8YL6OzqwrOPLoeNa9Q7bcWSF99E15G9eOT5nfz+7+l+Eyt3H0bbW8+gU7u4WxT1jLfjzWcfwEZZtNVnznDHOiy7915MtO4hymmOY9WGgxg4sh3PHxHz/WTbV+PdA6ew7aWl6A6wBVKOYNkTL6KntwcvP/cS0lxTqyUjlj71Oo4eOoD9I9dG0LoUCtAX47LjZim3QRXw9+uVyDj1+DMJC0bNEj6+WcUP8sTOIVhDfvzX3Qb4wxl0nhjHA+75e2Udj60fxD53GsjnUW4AL3YMY401BW84iE9vZON1sPGKuIoA8NzGCbgSXnx0jxG+TBmN3MJy1/HI2mEIu3Ee/22jjIWqOnLxLGZCCfzVmmFW2hK++NYEFJE8OyJwLYbX8TQbr91lwp8NCq0+6Ixu+Bc0/D0xJcaDVrbr1yL4nXYL3++vN44h67Tjc0NCkOs+PYZ3DVH8xi6hDfOcSoavS7KoaZT43tgMnGwZfG/TIIKpBH6rUxjHrELEhv9xyIZwvowK69jmhT/aJQTx4wMT2MYWwT2s8sGXsJHD72xSsKpFGP95H/doX+CWd4b5p3EODU1gQ7SMW9dJkfCZ8D9PuJAolFEqsB23FsLHtqphT7LlluNaPC/gWxuUMMuk+LFZuJP/5e0j0Kb9+L/bhccCr9g/hFNJ/iX7fga/t14mvE6GMRar4bVtQ1hrY+udrb8iW2Z5gwl/J4ohpNfiu7LzVE4IYU69fjfiC56Y8fSLb515JMe2tx450yZ/1TWCZ/q5J9qyTVDRjvufWw2x1ohXlz4EA9vo+999Em91HIVeMYJ7n1qNer2EO1Z28sNzlqx6o/Vq8aqoDmKr7PwPH5HueguiXOtN2oGnH30Wbz27BEd0XMXDhxffPix8hjheW/omUAzioSeew9DICLa/8SR2KNlwIQ32HRuEUTaIXz6/ha/EXOsoQF9MxItPbhBBmU/jS2/JkLRr8GU5q+aV8vgvLLBynto8AEWlhn/fMoI35G78zaZhiGf3upafbR3G89Me/HzbGAbSVcQMZnyxQ4O9Iyr84TEXgmY1vqLgqo8NPMEySPuMCx/dpsC+aSM+u98ojGSeB97qxc9PGrDi4Bi+Nh1na8mDj7dp0C434bdeGkaWBe7//c4Y2jQufH2LiL1jlYS3h+GpFPHNDaN4S2LDpzdI+Id9zDc0NoHnvCx7z4fwn/YJwetP3x1CrFnEP64fxbZpK/5ig5gdVOp4ctswlo3b8HDbKL4wySof1Tj+ZNMktisd+KN1U6wOE8VH9izIoAM2fKxNizaRFn9yjHusdgM/WdeHh09r8Xfv9mITm5VfvdmLO08Z8ELnGL4hYxG7GcBvdwoHrr9dM8Qf0Pr7x7A6UsC335xCwG7EJzv02D6mxhdPu1nZg/joRin2KS34bBv3IJMi/vJNVgvPxPC5zSJsndTjU3s0KNcC+J2DbHhmU8cgDueq+P6aMf7gue/gOO4esuMOtt76UzU8sXsYS8QePLBrDB0RYTvad3IEv91xpWcIyI3k6Eu3I9YK0NtfWIkgixgF3UkseWMHDm9eiVX9QsUzoz6KpQPCNi6o4a1VK3H4xFEsW/YaQtwJtagSj72yEcf2b8MTq0+A6zXTvxErN+/HnjeXo9MkPL5+MavI27FOLJyJDPVsQId+rsxTm1/BeCuDdg9swZs79+HEoTY8uqmL76dpW4PV7Uex9oXlGI6wuS8n8OwTL+DAwb148fk2lpIwARGeW7kWx9n3Xth0iP/eta5QKEGtN0Nzka5cXlALXKToGjQhhBCyCFGAJoQQQhYhCtCEEELIInTVA3TOLIbBH0QkP+8cfzUPuc4Mu9GAcXcGSYsGRocTKmcQjYQTllSdDZOCwplGORWA2WGHWmU7c8OCX6+FxeWAyc3dLNGAQ6WA02GDWmlCo5yB2mSBVaNCYfYLtQgmp9Rw2wywhfJw6oQbApIOGarCY+aBuAPb7NwdFiUsPW0HfB5sjQDHeyToHNHj8RNmNBt1/PKYHB1DavQEy+wzDbjbL4IaE3paN2fUIlEsNebx006lcE0n70eXl/swjTZFDDKJBqsnDHjmuBa7h/VYftKKYj6Gx7o02H1KBUOpiWP9Kqzo1cHPl7+I14+a0TsgQ2+S69HEzl4V2gY12GLLAkYTHu634JXDMujYBK1WK94ZNGDZMRkUpSpf3n2svP1haqaVEEKuZVc/QPu8fKBqBIzQpYSfPiW9OiS5wFiJY9KRwMCknu+vkun4IOxkgdRg1PL9KnmhQLaRbhSEr2NYJdxYNK3Wsfjlg4gLVGwqokE1EjbuBiymGoUh2JqZegSi1s+EdIppNtIEBuUmuLnbmeex9SvwzQ4tuHuK6zY7VrCv7D0l3I08PS5DMBXGL6TcTRlVPDjCVQ4qeL1Lilckc8/y4wL0oyy+l1wW3Gdk06/48K6B/S8EcI84iq4BFUJsuLZhYbwTQyyQSqUY4ILvjAU7/EVsOKzE3Goo4pWDFqCcxte4/6UUvicRbpf+WbsCGa0eHTG2YAIe/NSSwcudcv4z+cg0RuJB3MXdJMbK+cDYXBkJIYRcez78U9z1AuQyjZB9XpYi1GIVfA4jZM7L+7lOwauHzHPujF6pjN2Jnw16Wu8IIYSQ9w9dgyaEEEIWIQrQhBBCyCJEAZoQQghZhK69AN26cexyVEqXupO5iWplQdudV+AKisJr1muoCjdmE0IIIRd11QN0PRuGQqmCSqFGmmsDslmDRS2HWmeCWXwSeS5AVVJQy+XQWd2YUAntc8/KBC3QqJRQ6b1oNHIwB9N8f5/GyN9IphEPwa7XsGnoUGSBrl6Mw2BzsPFJ4QsEYdWpMGnh7uCuw2x0sGlloWXTUCg1fOPwxZiDjZ+91zjYEFWYXCFWxhKMKgXUCiVmcqxvJgSjgw2nkEEXarWl15LwmqBQqWHXTEHOt7Vfh1Onhkqthi1WQCPuwd6Dp2GOZNDIRc8siyRbFtXUDFxFwD40iAqL0jaDGmpWFm98we3lhBBCbnhXPUAnzNMYVhgQ81nQY0wgYlbzP2PihGVdfICeGFBj9ufIEhYUz1aFUyvDyVEZavU0lG7hgRj2kWm+HWyFTHhSC5p5DIzZUcsGoIlymXIDR+QsIDPuUQm4sKqUCj/dyvqdGOs/DRsLvuyL8BrVODkwgXKzArnRD6NIwQKmwKwaRS3mgp7/iVgT5i4RzuThJT9kFqEt3HrICBl7mbIooLQ74HA64Pb6UWNf65YKbYGnrHIMyvWI+mzo0oZRiThgzDbh4AM0UEuFoBrvw6R78bcJTAgh5IP1PpzibiCbTqNc5U7nCmG4Xikhly+jUa+eObtbzudQKNdRr3NBc55GFdlMDuXW4yObtQoKRfbdWp3/bp07TVzII1dqPd+m2UCdlZVTqQnTa7Bpc31q7DtckC3ncsgWWyG4UUMuk0WJH7bJKgHCd2rlAitjUShfgxsn3xv11rjOYN/nyldj5eaCMd+rWmbjzJx5z81DiT913kBu/rJojbdRFcpeKxWQybKsm39HCCGEzKGbxAghhJBFiAI0IYQQsghRgCaEEEIWoYsG6NIlf6ZECCGEkPdDJnP2r4g4lEETQgghH7ILZtAzM8LToAghhBDywQuFuacozqHgTAghhHzIKDgTQgghiwwFZ0IIIWSRoeBMCCGELDIUnAkhhJBF5vzBORBAoVBAPk8dddRRRx111H2QHRd/w5EIH5RnUeZMCCGEfMjotDYhhBCyyFBwJoQQQhYZCs6EEEKueVzT0xK5GoNjovN2A6MiKDSG1tCLHwVnQggh17xKtYqhcTFqtdoFu57B8dbQix8FZ0IIIde82eB8MRScCSGEkA8QBefLkI1GYco2Wu/eP/VyDtOhiz/eslGvolKqt95dnnopC1n4/XiudRONbAHNZuvtPI1iAdXz9L+Y5hXMWzGVgDZVa727sFwsBuMHsO4IWahePv+2nI/H2Z4jaNYqKBaLQleqzu1L9QoShbO373ouheKCTTkdT7ZeLX6NcgkX2hOr5UrrlSCVSLRezWoikcq1XrcUM8jNW8SNahkFflkWUGtc4cFnEaLgfBHP7xUhz/6HA2H0xatCz/dRM59Cm3fBBrhAymPBx4dDrXeXp5JNYY+Xm5OrrYEfvzsM73li5LOHBnEw3XpzmRJOEz41Fm29u7gUqzAdi1y6whFl6+50/Owdn5D3U9o8jtdWPIl/7NS0+sxZv/JJHOruwpLlryDO3mdcMhw4cABHDnbg5/9yPxIsppQtJ7H83V04tettrOyQ8N8Td76GzYe7sHnlcvT62HbfSGP58y/h5Omj+NUL27Gon1hfTeGt117FrT9+EQuPbo2wji2rZ/DTpR2tHiVsWPY8Tg8N491nnoAlxxZI3oNnl76CU6c68NTrO/jB7D3rsHrXcRzf+Q7Wij18v+6nH8X6A8dxYF8njMkrS2AWIwrOF9BwOvD/vDaEn/U6ETBo8LIvg2e2TuK+ThE+vUuB10/J8Z31YzgcZgf+ZAz/tHMCd+6ewjb/giBYzeGOPVN4fN8UHtEItdz2ITnuaBfh24eN3ABYvmUCN+2YQrffhdumYpjRmHE72yn/cpcU1uLZNcC0z47/1qHCw+2T+JujJvZtNtNmK25pE+P2XWL0JmsoR4L4fpsIP2Xl6QhWUU65cOsUOxQE/fjyjkncvn0KXQsDVi2Pr+6Q4IGOSXxhnwbPHJfhaxsnMJpmU5jx4+ZdU7h1pwh7guzAwCoR3946hgcOSPFX68cxw/aDvM2B77LpfW+3FMNsEbx8fBTHFjxfWyfW4c79EnxhtxwBNvnRHjH2RdmX6yncts+Eos+Gj+5X4aG9k/jb4xZwu9fBA1O47agCf7FpEi+NGXHH1lE8pkwi4jDgIXMe0+Nq3Nspwef3qsBmHRGTHbe1S/B3O8VQZAGHVoPlzgqcBjP+gS2T7+2eho+l9Ac6p3D7MSX+eeMo9voKQgE5lSJ+smcC97RN4lcyrqJQwr3tU3iqYwo/n46xWoEf/3TSzQ86PijCfq78hMxTSEZY1NXh1iPaVp8W/wBWHhD65aU7sUzChWdB3TeBF/ps/OvNT7yGZCkJjc2PfI6Fs4ofK18+joLbCEc0hVS+iqxkFzr0KX54X/sydHoWbwW0Xs2DK91TD6w+JzjnUyxDbkZw79OdQo9qGncu28u/9HY8jgF2oPC2P4P9PmE/G930KjTskLjj0Qf495wlj6znx//6M5tg95nhii/qqsplo+B8ET9lB24uvhjkCtzpTuNf3p7k+5tOjOEgO/Aj48Tf9sfwSucw1ttS8IYD+L3NSn6YWYWIDR87ZEM4X0aFdcj78P/s1MEfyeBo1wQenMniljXCeGspJz43EsG6ncN4y8oCeSGPYm1BcPbb8AcnhZqi4uQktkfLKOWyKCaykI+zYCOOQjclxTcmQqgWSsiV6igkHPizkTB+vGUUbu68Ui2L4w5uBuZhlYjf2CTlXx7cMwodF/UtevxQncEtm4fg4orBasCf2KnH0aMj6OQDbx2fXz+KMAt2n1o3Bk04g6jRhP/VE8SakwuDcwOPrR/EXrYckWc7K9vXek5MYk2Yvagl8YWdBpT8VvxRt5cfWnRsHPuSVexsG0cvV9/R6/EDGZ9r4AvbdIjbdfiuLom7WObe7WcTYgexGpu3nR0jWKpnOzzXXCsrl1mhxJ2GKD6zTpg3JD347eNutLePoyfPZqoUxB8ecAifMROTYtxvFw50fWo/ihkvPrrXCF+mjHqe2+kb+P6GUbB3uG2dsN4IWageU54bnJW7sXpihn/ZtHfhoWNW/jW3Te1+8lEkW+d8n3/wYezqm4RmeBce397HKoQ6/OSup9EnM+DEhmU44CogcuoV9AWESmV2nGXVqoWngRebGpaeJzjzSp654Mwotq7EqrfexsNPb0CRvRe9uRSi1heth95EF5tV/bHX8OqBfvR17sbdv3wJ3NFs8GA7pjRGdL72JNqsC45v1yAKzhdxKzsIc5u8sRWcf7pWxPdXdo3jRIYFlbQLNw1EcH/bEF5S+HFM44PIPlcbnpXzBfCLbiU+d8gOxF343TYdO/B70Kf3wZvL47a1wgooJp3430NctlbG4LQdf7NxGJ2hs0/dpll2+dnBIP86OCbBK4ESVu8dxR1jDigm1fgnkXDK22F04/ssC/4xq52Xkiw4D4fx9c3j/PxwQTWdXVDTZsH5N7fJ+Zf7943BUGBHCisLzpoMbmYBmNtJWFTFX2xRYR+rjEj4A0kT39o0zgfnz7w7hiM6H05ofVCECnj1xLmZM4uYOCmx4cvrhjHC0tw+FpzfjrIRscz597jg7LPiz0eFFegZEuPNcBm72sbQn2VBVKfHj+Usc22m8LfbheD8TQ1Xqjz2T1nxZ2tHoM5ztesqREoHbto6gndcZVhYcL5bHcbHt7UqTdU4fnu/CXvaJzDMjbfClkunkLFwTvaOYUurCdhSKscOm+ywEgzh3l4VPtMu/KZQOTGN5yed+IPTQkWCkIXOG5yDI1jRoeJf5sW78ZJMuO5TcQ5h2YCLf81Z/eAKzF5JfnrVCrYBuvHo80eEHlk9fnJAg5piL9paZ+K8bctx1Pf+X3b79VxecK5FJbjruJl/DdcJrOpzIXzwRVapFzLnEZY5a9mhKxGKoJyMoNhs4P4XO9nYwRKe1lJLy7Bkc6syfg3jgvPA6BQCbF4v1PUM3aDB+aX2Ydw1FYZDNo1/c6Zwy2phQciODeNwmm0sKQe+0hVE2mjEl/drsXdYic+enNvJeAGWObdp0SbS4k+OcUGgjjtZ4HhN5sE3Nw1BVKzgn1dP8IMWEnZ8si+E5/eO4CGRBw/tGkXbghu5ajM2fGQzC1yTZvzuhik+MN7NgvML8hm80j6KfxBHMD4uZeWyYU2XBD+cZsE5bsMnBqLwiFT4hyMGrNw/zrLLBZGznsNH1gvXt9p2DUGbZ2HJpMG3ppOwSVT42lEDXj80hV/I40h57PjdbTJsGFLgY28MIcD2jL4eMW7pteGNwxO4X5vBi4cGcXjBnvizrcN4btqDn28bQ1+qipBWz4KmFKuOi/E72/Uoei1s3iRYw+btYxtFiLHxrt82hK4MC6JqDb4nYRWXJsuyN6gRs6rxd4oEfsAqMK8rPLh16xgUhTpWHxjF7eNuLGcVjNc9BZimZfietYQjRydw77Ad9+8cxs5gBRu3DqGXG28liD/bY0NZq8F3xTE04mF8drMI60a1+EyHGeWoGx/drsS+aQM+22kSZiQbwUeWd6PnCq+pkxtHPSrDt/cLgRieYbzVY+Ffbnj1Gew/cgxPPv8qf80ZzTI2PP4AuHrirIx8L17a2I5D21/DO6eEQDW84wXsYd97d9VzmI5xVcYclr+wAkeOdOLel3ex6vxiV8ODv1jJZ7jc65dWbTxzUxyKLtyxZI/wuprEc8+uwrFTp7Bh1RMYD7MKeMWPl55cgeNH9mDZW8Ipb3f/Vqza2oY9697A6dZZwGOvrcCWQ8ex/oUnMRkRgvm1zupwQ6M3n7dTs87p8bWGXPyuanDmNfgU8dKadVS5c7Uo4c51o/jM5gl8ZuMYblJzG04dpYV3bhaFXPRCGmc+z+C777TGt2EEdztaGW/l7Osq5dyC8dUqqJ1v+2yw7/OzlMZ35o33Xscldu96FaySOofN7znYNIVxC9xmgzB+rtsh5WvN9cLC+Z53VJq1YN4upZpfMM7SBZZt5QL9z6PGKk1zGiiVFntmQq4V9erVCxyVynn2n+tAo37uMqqeZ7ktPDo3z3dcIovC1Q/OhBBCCPm1UHAmhBBCFhkKzoQQQsgiQ8GZEEIIWWQoOBNCCCGLzFUNzlqlFH6PG8HoOT/YRdYygdx5mq282oxa6/nuZ55TS2A53zgHU4xiqSSEEZVTeH+FTh6V8L8XNE8qsc8/r9Ws98is0WO4AlSiftw54j/nzsrzq+CJA+aLzzMhhJBrylUMzk1oVEr4fAHMvzk/5VDDandCNdnDgnMRaq0Bbr0KURaEjBahxZ+w28ICUQ02FpxsViMCxVYUryTZ8CZY2Hi5n0mXo16orXYYVSrMsEFiRhVsNis0M3OVAZNCBqvTDa3WjGLCByf3a6BKFoqZuZ8F3b1PCS6UukYUOF4C9o6YgEQU/3rajG1dcnTF6kjabHitX49nu8yoVWNo03DNkVSxs2+2lSLg2FEpPKx8S03C9Lef0PONj4wPaRFFDo/vV2JHtxrPTdmwrVuB7kQNfQNKbBnR41fKGNCI4OEDChw2CU2d6NQGTMbj+P5JO/++ngzh1R4dXj+uQZRF36dOKnBiRIMX+FaTynjpmBydw2p87YAVYVbeN/jyWhZ3u8GEEEIu6SoG5wYS8SRq+TimZK2Wfuo59KqFBzPE1X3gHnZUiAXgMMug9eaQNmsQazRhmDawr5cwKZ6GJ3J2SxXZsA8O9Ti0SUCvk/H9ShE3POkURtxCthqRjJ1plMAo1QqVg7QLynAGYpkfuaAZqfpcbllWa7A30cDtx3T8+9Vdau5pHbjVyMJatYRPDHLzX8SQxoOH9o1DxSoS/8YNG3bjXuNckG/fM4RvHJyGudXr5Q4VH5y7u5QIIoOXhlkQLSXwRa6FsmIOf8q1152OY7/Mjc/t4hr5D2OjbrZtI1ZZMOrweztEuM/A/da7iQP7JUILQWU/Vttz+PFpoWKwpJtNx2bBDv6rFXxzP9dgg1DeB9rHwTcERggh5Jp1FYNzFTMsGHJ0MiGIolHAsFg4ZewdP4VsxAxLjEW6WgAqNxuWZaTTY2JouJan6hVkWPBuZAKYaj0Mo+acgJ2LU0kz1CyuWdXT/IMrUhYlPNkchg1C4LdNiDH7vAvzuJRvVacRtkDNJhG0T8MkkS847VvC6l4Z3moFxtng/JC5zD7K449GZ3C0fRJcw57WXjGmWR0gItbh7w7pzjQTyDl2hGvyrokf7Znmg+gbe4XyreyUIM6C84ohP8AqK18aYsszl8afj/vxmx3cwztYsO9oBWduxlr0ah24NtWmR2ToY8uk/4iIDcGEWebNKiKPtBr6f6xbiYrHgYfdNTb5PL540Iz2vZMsW2eVk24xlBScCSHkmnZVrzknHVpMiKYx/8mE1bgLEqUaAY8B5XodKrkMBpsJM3EhgqhkY/x/Lsi51VL2Xj73zNFGDgrZNGxmPXxc29yowahSwOX2wMlifDVkwzQbn3fexWyfPwCnUQGZXqgUNFMuTHFPwlpg/5gezlYjVicUbpbRJrFjhvWolvGQPoX6jAd3nNBg84gRTn5+4vj5CeEBGrMkEisfjLkHXLzOPfEmPINvHVBj25gTKZbJHtKxwFvO4imuElAq4GFbBnqRAfd06fDQCNfOdBp9bqEpPY7X7RUeoMHmc8OgHc16AbefUOE7g8JTnbarhTbC25TcvDXR2a/GQwMm7BQFkfe78e+svFtYeRfxA3cIIYRchqsanK9UJmSBzjGXOV5KwmWCweuHgQXoy7quWi1BqVSedQ38vanj8GERTs4+BocQQgh5H32owZkQQggh56LgTAghhCwyFJwJIYSQRYaCMyGEELLIUHAmhBBCFhkKzoQQQsgiQ8GZEEIIWWQ+sOB8dgtd79FljqRRLaN2iWHr5SLmtej5vqsWW812fYDTJIQQcm36YIJzNYsBu/Bwh1lV2xj0ZzejfVFFpwg6oXXQS8p4rQjPa6XsfOJWA1JzDYtdEa2or/VqgYwPgcL5om8DLp0J1cwMFGF6LAUhhJCLu6rB2W3SQqNWw+gSmpmsJL1QKlUwWcwYcab4fgGrFkq1Bg55P8xzLVcCtRL0GjVUKjXipTrCajn/5Cg0U7C64qh4ZJCYPdAoFTC6hXH55HJYTXpI5SbMeOxQiCUIlRvIuowI1VkA9hmhVSuhNQfQbNZg1quhVqkQzJSRMKqQZHE0PeOEipVZYxKaxHTLZLAb9ZBNK8FGNaeeh1Yhh9biZJ+N8r2qmRCbXxVUGj2qbFxWURdOTyiQZ9/zWnT8ZwYn9wSpJlxKNaujBKGOlFFJsflg5ZCrrKCWNgkhhCx0FYNzE81GA9VKCTKpiL2vQdYvPACjWfBj0MYCai0EpVN4dERU0Q+L8HwLXjlkhSSY48/61llw840Ntp40FYdGF0TdI8HkjJB1erVjfJvWloFu/nnKFdckXFmukc4EVGzYjF4KP3sn65lAiTu/3aihlpvBpCPKN+XZYBMIS0aRbFQglQkPk6gEjVClGjD0n+bL0Mx4YIrOPaPZPTnJxs6pY6J/iP2vQdkzhUqlgnJ2BlIfq2lEdTAnuHDbZNOos2VRhmp6ih+faZiVOReEJlaCp7cf4SIbrtn4QE+tE0IIuTZcveDcKGNkaBhW9wxksmnWo4ChceHhE9xp7VEuc87YYYkIAa9sn0LrMchnFEJuiIZOQ5+swM+CM/+4RBac1SzgVt3TMLSGj9nUfKC0Dw3xQbrsEsPNPY+SDcsF5ywLzh7ug3oRVqUIp0RaPkCW46xsIz2QBbKIseCcLsUx3XqyFbI+DHrzMA+PghtTIz8DY2iu9qAYVwgPuWD0kmH2t4j+IxNwuhxwOJ0IpNinES0LzmUWdCsYHRyCxTUDtVzKVwhmgzOXOXNmWGZ9qm8EfJ2CEEIImefqBedaDCK5Hdl8Br2nu/gAZxezDDGdRVAvQq+VOxVdxYhYhUwmA1VvJ6xC9OXlA1boQhlkIy7+FHjONAiVK4wZ0yQm9BHUvFKckNiRziQhGeUerAhYBwaE4OycYpkzN8UYFJoAsloxfCxzlY6qkM3loJocQCnlg9ITQzYVxJDBj7hkhH/E4rR4nI0zA5tULDxycXC4FZz90AfngnPRLce0k30/6sOJHi5zZhm8fAjhVBYJjwH2FAu6KTtEJh9qjQSmJFa2LLIY6DnFB2fD4AgLzgEWnEuwjIoQY+XyyPrgm0vOCSGEEN5VveZcLxeQzhZRY4FR0EQ+m0Wl3mABq3X+tl5FNlNAvV4755RuuZBDJj93J1cpn0O10WDDNtBssOHZeHPp/Jnv1atCLst9Joy+KQzLxs0F2Ga9wqbFjYP7jFUNinlkciU+i27UqvwwbCC+jOWaMNDsOPlTzrNlbqkU8sgX2ffY+GeVchnkSrM5tTAMN6Z65exlUa9yz17mxsnecNPMZFGsUNpMCCHkXFc1OBNCCCHk10fBmRBCCFlkKDgTQgghiwwFZ0IIIWSRoeBMCCGELDIUnAkhhJBFhoIzIYQQsshQcCaEEEIWmfMH50AA2WwOmUyWOuqoo4466qj7ADsu/oYjET4oz6LMmRBCCPmQ0WltQgghZJE5b3DmNJtNPkgXi8JjGgkhhBBCCCGEkBtBOp05J1leiJJnQgghhBBCCCE3NEqeCSGEEEIIIYSQS6DkmRBCCCGEEEIIuQRKngkhhBBCCCGEkEu4ouSZwz0PI5VKswS6iEKBOuqoo4466qijjjrqqKOOOuqu747Lf6PR2DnPpVronCvPpVK51YcQQgghhBBCCLn+cQ92ptu2CSGEEEIIIYSQi6DfPBNCCCGEEEIIIZdAyTMhhBBCCCGELCJc3sX9VDZfKL7nrlyu8OMhVw8lz4QQQgghhBCySFRrNUiVWgyMijAmkmFcLL/ibnRyGv2jU1Drza2xkquBkmdCCCGEEEIIWSQq1SpLmqcxNC5GqVxp9b0yqVQGPYPjkCo0rT7kaqDkmRBCCCGEEEIWifnJc+E95l2JZJqS5/cBJc+EEEIIIYQQskhQ8rx4Le7kOZ+G2xGCJVYC/2TpZhZKsQxf2zSNXxhy/CDXtjryASse3TqOP+kLwFNptPpfqQbyER/WH1PhV6oEG+v7pYas34KHWHn/tD8IX+VaaICgjkLUhXeOKbFMn0fschZOKYH9E0r8YNCDyUKr3/uijmzIizVHVbhPk2r1uxqKcGhVuHmjGP8sT7b6/TpyUEtk+OuNUvxUl231I4SQ61DOC/3RDVi14hW8OOpC7pIxo4Cw/AS2vbIU9993D+5a9ipe79XDzVdamAarZIn249Ulj+LRJUuw5LHH8BjXPb4Uy597A7sUYaTPhP4KMurT2LtqGR6+7z7cs2QlXj0igyV3dqxtxi2Y3rMaTz/yAO578HE88WYnumzps2N/KQhD91a8svxh3PfAA7j7la3Yow4jS+0G/dpqHin6tr6M51ftRpcjyyLuZWhk2XbQic2vvIRX28ZhWPilBqufiI9i93PLsXzZ01i69AWs3j8BQ6rWGqAlaYF835tYseQe3PPAo1i25gB6bBmhjjyrMAPrqS14Z+nDeOTRJXjkmbexdcSOyFmjCsNy8F28+fiDePixJfw2ueTBB/DQhkPom3lvtwiTq4uS58Vr8SbPsThG+6X4zBuD+PQBHbaY4nDlyqgkY7CaIwgWqyhl4tCZw7DH8ojavTgqd2PImRECSCqKKbUL++Q+yCIlnBUvSlnMWDw4JHWhUxeGK1NtfXApJSScMzglc2KnzIcxbx7VhYGonEfQ6sERNu792hAc6dmDEEviUnGozSEYohnMmDw4qg3CnM3CY5mBjZVRGFcFeV8QA3Indkg96HdlkL9k8K4j7bPhoS0T+NPRAHIzMzitcKGdTd+QWjhvLEqzZavRsM+nXThsiiFanJ+0s0LkUzDp3NgjcbJ5CMOanB1HE7UqK6+ZK295bt7TSVj0bnSyeT5kjCFSWrhQzqNRRToUhtQaxUwmAyv3fYUPkzNctsrKEwxhlM3DXnUA5syCBZBl5TO4sZdN7zCbXmjhAqrm4TV7cUjmxilbBD6vGfdvHsdNojT8Z4IHm0Y0ChnbRnax4fqcaZRmP8uH8fLxUfxWpwXHMq1+F1RC0jWDrvNuEyWEPAFIrAnMFFs9m2XE/EFIzHH4qg1kPBb8avMkvjQRZPGOjYfN8z5dCOb0vCjXzMNlnYE6kEMqEIVY7cRBTQi+AhtnowifzYP9bFl025NI8Jtbg+0bCdhNQbjTrWVTZxU8mw9Hp53YrfBDEiievU+ghkooggkF2+4kbLlZ2bjKs0PUkY9H2X7Hppmd3VbYeENBTChd2CPzYsidxpkt7Ux588iHYlBqnGhj+6GUbTMX35RZGdjxZZyVYQ8bftSbXTB8BTm2b/S39o0BVxaF2QEyKegMPkzN5FmqP6uKXCQMmT4IbfLiUyaE3OCq7DgtOYYtB7oxIe7DgVfvxq1HdYhfLI8oezH+9tN47OU9OB1p9au6IdryDB57eh1ORebH1vmy8J9aiYdWdmDYx2I/16s+A+26ZXhm7VGMJPiBmCQcp/dh94ExqPhYVEZC1I4tTz+Pt6YT7IgpaHgmcXLbXhw1Z1m/BpohEfY88TCe3DcN++yhLz6JvcsfxJPbBqB/X08KX69Y/Sfvh+zQbrSdFkEzuBdLH3gT2+WReTHnfOpImsZxvJ0luRMT6N3yFh545gBE879UZvH68LP40bP7MXjmfHcNgYNP4N9XbcMJt1DnLql248XlT+Pp4xak+T5sc9McwrqnH8fjB01sq2LvfeM4/OJ9+FWbEoHZza8ahGH3M/jVG12QxlobdFKKXc+sxvpeJ9vKyGJEyfPitWiT50Y2A9OUEl9/ZwR/2W3D6ZksouUsLHI5vvauAre70si4DPjBa0P4T50GrDWEMKCx4/atg/jI+incMebDkDWErjEZ/ujtIdwiTiFQK8I1MY0/2SLFzVNBVtFOQGa04PZdo/jr406oLhhQ6ihGHHhqwxD+v6NO9PpTcLFK/Cun5LifJT12/gxiAfZJGb6wRYybJgOY8CegMNlwZ9sovnrECW25iohdj39ZNYj/tEeNpSqWeHjicPDjHccfDEXgSPiwedcIPrrPjJ1s/mZmwljbq8Cdgx5Mz52aPg+WPM848OS7A/jNrdN4aJqN2x7GkESLb68dwudOemAocd/PwzKhxM+OGfC6MQFLMIGJYRn+57pJ/EiT4VIu6KZk+MrbU/hHSRSeSBITagvuOarC21ZuJusoJexYum4Mnxphn+cTmDo5if+wYRrfkwQw6AxjcFyOv1w7gp9MReclqudRzWFCJMZH3hrF/zruwD5zEH1yHb6zdhAf3yzFg7IZjFgCaD8pwn9ZM4mHzCzSFJNoPzGB390oxS+lIShcYZye0OBLbB4/2TODYL4Km1KFr74zis93c4lzGOM6B55oH8X/9e4Yvi7JIsJVJDJ+PNc+jj85YMI7ljjM/iiODsnw+5vE+JEuh0YljtcumTw3ztomTi/YJmz8tpRE97EJ/M/tRrweatVgakkc7hvHH2/XY1OcBUO/HY+804/f3C7HEpmw3vrEatzE5unPu32w8XcjhLBl1xh+410J/kXkQ685gPUnxPjom4P4g8Mm7DWGMaa34ufbB/CJvWacLtYQsWjxvXfE+KY2hZTPgvvWjeBTbHzSYApWlw/PnpBhiTSGEBdHaxHs7RjFx7ZrsdKSQjAYw+5hNX5+2oa+KJdAF2GSK/CNd2X4V1selbAbz20bxkf2GvC2JQKZYwbbu6fwyfVi3GnMIlkJYsdurrwi3DLpQz/bD09PqvD7bw/iL/pnYD3rFDmniqzXjiVb2Dj3GfEqG6fc6sH6I+P49GY5doSqKOb8WLN9GP+9w4K9LFH3s33jHbZv3DXkhYKrMTQy6O4V4VObFHjGKUygGZzBqu2D+H+P2mG42LZICCHz1GNKnHqdJc9HtBdPnnX78ewzb2H1sPesK38NywlseH0J7u2y45yv18NwHH4B9z+3DxPsAHzmtJ7+MJ5/aj3W7m7H0ZP7sa9tN7aveRWr9pzCeKhV50obMLjlHTz8/C50DezHnr3t2LtlLd58ex22y/xCEtcsIdyzGj9/poPVVfJnnSRND72K+1a9iU0sLpBfRx0V1UGWPK/GVln4EsnzPCUPpLvewr1Pd56dPLNEuRo2YGTbRqx7tw0Hjx3H0b3rsG7teuxXeZDgz66EoXx7KV54qwOjs5kzpxmBvmMNnntqE/pZNa3mGcP+p+/Bg0fMOLOWm1GYdi/Fz+54FhsUcVYTZAwdeOquh3DvSxuw5/B+tK9/Ay+/vg17Jj2IXay6ST4wlDwvXov7tm2bFbdtGMU/isLssMEpwMgq8X+/Xok7WQU67dTjtrUifFXNHwqAcgGq7nF8YqcGp7KtkJRxYSVLSG8aiMButuG2PayCvlGM7x9WYvUxOVaekOPxveP44h4VlgoZz3k1qxkoJ9W4decY/mmXCDd3qvCI2IeBWEUIjjN2/OuuIXxkgwjf5cZ9XBj3EyxJ+0qbGk+5E0ix5PkH68T4S02rvFwClnTiuY3j+OwwS0YrBbjVBvyibRzf2jGFb3cocN+YB8dDReQuejBrXXneNI7PTURb/Zh6HUkxSwo3iPGsv8RSoBryMyHsGdFiyXEZS6DkeI7N+++vHsMtkjC4b5bDM9h2TIS/3zaO7+yR4IcnjHjNlICVv3JaRzHhwNObJvDnQ2GYFSr8weYJPKAv8Gc8rwhLnsemxPjP2+R4Y6bVrxBBZ8cYPnbYAVOhNcM2Pf5q8xh+yJJ7j8qE77DE/Q51fN5tUgVYFAp8fbMC3xl1Y8++EXz6kA3a1qdcmXNB4crzt8QZBKpNpMen8cfvDOPzHTIsP6HESrYdvHZMipu3juCf+gOwhxNYc+rSV55nt4nbdo6zbWJq3jZRhnDRNoHTJybxv3eZ8Ha4tT3Wkzg1OIGv7DRgW4LFUq8Vd7Pl+XlRTPicU6shPCHFJzdI8UqwjEozjN1tY/joMS+6Z++50+nxnY1j+IkiBn5vbKYwOjKFv9+uw7vRIuJ2HW5dK8Y/6XNolJKYGlHie9vHcPNutu0eVOMJlqhPJquo8aMrYcZowRK2rf7D9gncvE+GOwcdaPflkeCTzgJb10p8a5MS9ypDGOwfx3/coUEbS/7PKKdwunMMv7vPgKmEF23tE/gfx73on73dsMoS9COj+Jv9Vhw4c1WlJZ9A+6kx/Kddepy6UJ2umYdFrsfPdwv7xs37Fbif7RsnwiXkZ/eNVACr94/iz9lyUmcyGGbl/OOdWmyKt8pACCGX4bKTZ30nVix/A68PuoWEpKVhPYGNbz2GB3o8c3fkcGoh2A+txAPPtWM8Up9LnJmaqh3P3nUfHm1Xwncm3tcQOr4KT7z4KjY42dB5I/rfeAT/9uhmdIVag3ACUzj4/F24+5QN6VIR6f41+NWyNnT5c2dNIzO8Cve/8S62GOjnN7+e2lVNnpvlCGzHXsWTL7BkedoOXziKqEuLkXUvYumrh9DrLbD1mIBq7VN4bvU+jM6/VMzqB4aOd/DiU1vRNxtbc26ojqzDytfW4N2NO7F1+2GM9h3Aikc3oVMXO2tbPYu7G28//wIe3a/H7I0U5MMzP3muVt/bFYBMNscnzxK5utWHXA2LO3m2WvD99UP4ypAfHj4CnZ08p1jy/BOWPP+DqnUUYsmzsoslz6xif2L2Vt+0Cy9yyXN/BMZEBAcOj+HL+8zYH53dEEuwekI45MzAf1aUm6+BUiqOE1o/umKzAyUweXQc/+c7Urzj5073xdHOjXuPEW3h2XGX4fSFcNCRxUy9goBVx5J9Mb6pnj1qziXPfzwUgTOZwqDRjyMBLs3l5GDpE+Gjb07iQePFzhRzV57teOydQXx0rwHHuGjfYGOIBbG+fQS/sUOPk2lWbpcOn1o3jG9MJlrJZw1xmQbfWD2Mb0sibI4qcLpnsMcQhW52Nv02PLp2CL99yIEgm0455cQzGyfwJ6NRuMJuvL5zGJ886EBPlKthsGUe8WPraSXeUcUwe7H1vFrJ82+y5PkVfyu5Ycnz/n0seT5kh2E2ebYKyfO/qjLIh3x4hk3vU4ftOM7NDze9qA+v7xvGx9st6PFnIOqfwMc2yvCwNY9qnX2eT2Kifwr/4V22bsRZ8KvdacDNbJl/ayoCx2wZ8yz5NIcxFC8DxQhWXcaV5zPbRPTcbWKNj1vCeUh7RPj4eil+ZUihUGRJrcuJe3YP4CNtJuzmkme23h54ewAf6zCiOyWst0Y4gDfbRvAfdxnQk+MKHMYOljz//lEP+uYnzxvG8GN5TFiXLHkeHp7C37Lkee1s8rxOgm+r08jEoziqC2Ag1ZpZlsge3zeC/2OjAge4+a1kMWH0ocOda52pLiMmkuGP3xjFP0u5DLkCG5c8r1fg5+YUQgYNblk7hm9NxpCusvXULLPpGXDrhlF8digId34G7Xsm8CmWxA7NlrcSxs7Do/h6px1HUqxfLgutJwkttx6bbB9UKvEP707gm1MJYZy1IkvozXi+S4+eUBXlXAp9erZvBEtsyXOyMPaK8Dts33jcMncavmS34d49Y/i9zZP4x11S/Fx3wWoCIYSc1wWT53IKAY8HvmQBfJMfFT+m1y7Hkhe24aCrIBybsmaMrn8GTzy7BX3zzomiHIDtwCt4+Jm9GIs2W8exeQpWDL76FJ5cfwrjszEl58TExmV4ZOUWHAtwE8zB178dry5dgXWKOKsRMc0iwrIOvLnkEbwwFkC5wYaLSHHoyQfxyI5xqFvH4PrMEHY9+QiLoSMwz519Ju/JhZPnSiIAjzeAaH62XjDPBZLnWkyO00/fhV9uHoHhzF2GRSQnN+HhB1/C6hEvf5t23diBFU8/jaWdaoT4SmIVmekOrHl2GZ487uQvYjRZHW163was6pC07opk3wuq0Pv6Utx3UAZ7q25V1JzAtnW7cVg20yp/EenJ7VixfAVe6nFf+QURctXVWR1WZ7RgcEyErv4RnOq78q6rfxTDk1LYXN7WWMnVsLiTZ5bYhk12LO+U4GtHbdgYTCHttOOJ4za8GcojF3Rj1TEDls4eIapl2CRa/LjHAdFs8pUPYU+vGkvlCdj4IFhA0GDFo4em8eVdEnxhjxw/GHRjOFZAIcuSL1sUxx2xuc7OOmcCg4kCSxqseOyIDF/eLcbn98jwV91WHAtX5m6LYkEsYrbhicOtcbfJcUu/C/0RbsI1lue5sPKYEUsds5GrgXI2iF0ntfiFKo0I21GaTid/xfqrbBp/sXsaf3nchO2+AjtEsu/HWIJkXVg+9t7Dyuf0YWOPDj+TeHCyX4mv75Hgix1q/FgUgP1Mw14VpEw2PHBIii/uZPNwQI/VY2Ys7TLgGWNS+N1LJoHxCTW+2y7F59k8fLFDhdulAbj4e9KarLwB7GDl/SVLyqJcLlZNQys14Ef7pfjSbgm+0qnBi9oEYpUqotHkBcqbhiSVh1ZvxD+ftmIff2swwyomw0Na3DY2A3e5tf78bjxySosXrVmWmjLlNEwyA+7qYPPAkqMvs+k9rIxiZvaeuUYFMYsNL7F18NU2Kf7+pAE79E5sOKVj85gXbtvmpMNsPjX4AZvPL7D5/Mp+DZ5VRxHm4l0lhfYpDb4/4maJ26W3icePys/ZJs5UjEopKKcN+Bkr7192aPHMtBPHpUYs73Ojm0WnSsSPd0/r8Eu23o73KfE1br2xsvy7NAT3bOxtxHG6X4vbJ8OQc79z5rjceOaEFq9Y08Ltgs0cVCo9HjvtwrFUGZkZF1awbe0prtWaWgkBjQn3HJxmy4wrpxzf6Hdg+MzvgJto+rzYcFqBr7dJ8BdsuX71iB6v2dKtkywleK02PHXcjBU+rlANNONBHO5T4Wt7WXl3y/CNk2a0uVuJajPBDtoaVt4IVLPlrSXRO67BoyMBiMtVFBx2LD2gxmO6ZOsseB21yAz29bSWAdv2v9ltw9GZ2WNNHUW7Ay8dl+Mrs/vGCTN2+YrcKZR5hLI+1K7Cg4oI5tddCSHkcjTSNog712DFhBMZ4Uy2IDCN4+9uxt5xtxD/eBWkzeM4tuZFPHnvPXjohbewfdyOwPzcqZ5CeOoINq8/gSkWaM/UGc5RQEw7gMPvPoenHrkfj728DrtFTvBViDOaLNkyQ3pgHV576gE8svRZvNY5AtnZA7HYnIRn4jC2Pr8Uj97/IJa+vQcnzbPHW/LrYfHKPoataw+i25JsxUlOBfHJfdi47QCrJ6TPPUFSCcPUewjv7GBJ8tyXBKwuNTN1HPteW4onHn0IDz61CmsOjEAbK589npwXxtObsfrpB3H3w8uxfGs3Rn25s7epSgIz4wewfcUSLFmyFE9vOoo+R/ac8tSDWog73sRLSx/Cr5auxMrOCWgjs5UpQsiFLPLk+YPUQDWfQdgTgdMbhWu249774vDnuGY4Pkw1loelEHBH4JhfPncYzkAKkdkGqRaNKkrJFGYuWN4Pd2lengZqi3qbIIQQQgghhHxQKHkmhBBCCCGEEEIugZJnQgghhBBCCCHkEih5JoQQQgghhBBCLoGSZ0IIIYQQQggh5BIWd/JcTCLsskCnM8BgMECvNcE+E7/0M/WadVRiXgTTJeFxEte6eg6xcBzxTPkirXReXLOcgETugzJextlrr4qI3QuRLQaTI4CNIxas8X4w67eey8KqdWN0/vMuq2mY5VYctKURn9/K6YeiikQgCIkmDPuZsjRQDvtxUuTGVKKBq1fEGjLxMIbVYUSEhy8TQgghhBBCFpFFnTzXXBKoTUa450+OleH86ijGQvDPhBBO55E0DULkSSHLZ2UNlNJRBHxe+CIZFFsZTyOfQTaTx1zDzw1UC3lkU/m5pKjEEvgZH3zBKJLneWwfr1lGPsGm7fUiEM+htKAJ5kY5jYjfh5loCulSBaVMdt40K8jGgvD7AghdKDmuhqBRW2BwRpBLhzHjCyKeEwpTK+SQTuaFxxVxmg3USyzZZuPiHvc4p4aUSI4vnbTj2Pys1GHB7YdVeMTGxlDKIOgNw8k9PLJUQCYSgz+ehdvkxkltEJrYgkdhxCKQ6d04qg5Ak2g9souNw+KJw5uZN2w2DY8/DtuCsx61SBSHDopxt5WVp1FCQKbBTe1KLLdnEedGVs/B50kgkOce1MWpID7Dxh0rsvlliW0sxdZNgi2PGXSzMqgSbB4aRcxYPTjBl3feIxdqObgdfnQp3eh1pM5sA2gWEAikkAzGYLD6MezKzj3OCkXoVDq82GnBGFtfzVQQh45L8OMuF0bT8x6QVEhBb2TTVPkxHZnbWJuJBILxDCKBGOQaF06Z4wgW532PzVUjFMCIyothexAqkwn3d5ghqbZWHFu+0zq2fDUBaJPzHolGCCGEEEII+cAt4uS5hqxdC51cAa3VBadJDZnSAIM/y9Km+aooRp1QTcigj6SRLxaQC9qgGjqJMWcKuVoZWY+LJc1pFFg22UyaIZXrYQyxxKoSgkmlhsKS4JOzZsINh1oMaZS9q2cRs8vQJXEhXa+jVmQJsMuHWKl+9uOJqmkEnSwxjnEJbANljwoKjQFm7gnzlTg8+mlMqRyI5kso52LwKkUY71XAXSyjGDBgSqKFM5ZDoZhDxqeDZNIAd6rcShZbalFYpyYxNmmEL1VEpZhCyKxg0zHBHw3BrRVjzCMkirV0EPaJKRjStQXPv+VkIT0hxTJxGFpuIRYDePbYNJ6URpHiPrbasOqEEs/NsNeRIF7ZP4aP9nihi+QQdHnxziER/n46iVy1jozHg5fVEWhZWZFP4sRhMZ6SxGBvVOAYkuPRPjd6uCS8FseGXhlu7/PBuyD7a8TiOH5oEn91XIe/3TqBL0zG5j0vkcm48fxeBdpYMi30T+DESQVenQwjgAx6+yT4Ybsee2bSCLg9fHk/eciKqVCWrRMP1neK8CNlBqlcElKZG6d8WWRKbLnr1fjyQSMOhriFEMJGNtxtx6046ksjVqzOu1uhCJPOgJd2SXDnMSm+slOFVyNza79ZKcA4Po3vH7XhuCeDaDwJ2bgMf3fMisOJKhpaHb6wR4rb5DEEExkYJRr82yE1ls1U2KwEsIMl4rcMs20wnkPY68M7R6bwXzutkJSqiLPl+4omytYjW76s/EcPivDUdBzWC53AIYQQQgghhLyvrq3fPCdtMGtFkEXnZWEseQ07FThpSc1dmWtUkTMPQcxdeS6w5NZmgt5ggMVihsUoxdC4GjqWSHFpUDNqhsGohykcRdDOkldzai45rxeQdRugUuug0eug1TsRys+7xZhp5oJwWIzQGUywsfGblePolemhS7IPYyYYdTLo0sKwnErCD7tYDVcyiZB+CKJQBXN36daQVg9D6Y0jNT9Dr4ahV1mgZwnamd45Nh6zCuJwBfWYDw6ZCjY2zphJjEl/ad44F8j68MAhFbbawtCMqrFqyIOJVsZat9mxukuNFQH2JhzAvlMyLLG0riCX8nxi+IfDQcRLRfi0Zqzq1uC1QTNeHbfhnvYJ3DYWhYYbVzWKNacUeFk1A6XcgvXdVpw+z732jVgM7R3juGkoAHcggJ0sAf/+ZATB2ZnMuvFShxoHXTkIpUih77QSb4vYMCx57hpQYeWQH/zmm4+jbViGL7Fx8XJpTAxO44/YsD42L+8OqPFynwHrRqx4tV+Oz+/Woi3AFTaMDYeV2KSOgzvfcbYSbFot7tiuxHJbDGadHt/Zq8RzrdvaK5kAdrVPY6eHbW98H04Y+/fLsNmchlVrwFP9NhzgL6MzAQ8e61bjDksMSbMJaw4b0c+dYOCV4bUZcc9BC6SFAmwaE1u+arzBlu+qcSt+xZbvv03EoD/r7AIhhBBCCCHkg7KIk+cq0lY1VGIZ1A4nHE4bDDIZNAYPEmddUm2gkg7CJZJAaXLC7ffDY9NB1XsMI/Ykcik/5AoVNFY3fD4/gtZpdA/JIHHPJqI1FHwGSE51Y0DrRoLvx9SKyPmMUGitcLPvzbgtMMqmoIuVUJ6XmNZDGihUKmjtPjbtAALqEfSIFFBGubEXkfRaoZJpYHB74PU6YJkWY3RYBU+5hkrKB51EBZ2N+8wDh1EJkdKNcOGs686sLCx5HhvH0JAClhk2HZeDLYtpKPQu4fZmtqxyIT2GenoxpAzgTD52IVYD7trYi4/ssWN3ZO5SZt1swYqjcizzszdBP7YfEeOXhta6LuYgGhLjowMsWc0kID0txV2DbmwzhtDBEvuXtg/iB/1hTM9OPOjBGx3D+C+7jHjZO+/26XlqIZZodkzi3/WV1m3nJQRlCnx9jwrrXHlkGhlI2HR+cFiHx+U+7JNocNO6MfyQJcQJpHH0tAzLer3g0+VcDFv7xPjDXq7wTDaF4R4xPj4yA4tBj9sOafCSJoiDRj86Wf/f2aTA2zNcJhrEWx3TWCOPsTEuVIBGrsEzewzoay2GWiaEY0en8P0etu7SZYT0BtxyUI3HZWy8Oj9Wn5Dhm0NeTOXraMhV+EWXGbsirQ3G78I9x6Zxsy7Pkv0UTrDt8GtHTHhbG8QRtgyfax/HZ/cYMZaKY6RbiruHPNhuYstXacbzW9nyHYpCSckzIYQQQgghH4pr68rzr+nci7EN1Cs5xB06qLV6OFhOc17si+d+d4Hz/ha7hlI6iXgkzf/GuVnNI+FiCfmkAYEF+fF71mygUcwg6jZBIzVihuXClyzrVcNmonzufcR1tn2EvHYsParCK6rE2bdif5iqZTTOvZf96mjW0Ky/xyVfr87dUXCW8y9fQgghhBBCyAfvhkqez1EvIpuIIZoqLvgd9VXUrKKcDsPvcsDhnkEkVbpAovQe1bjGyrh5uMrjfc9qyLJtRGEOw5u/WmcICCGEEEIIIeTDdWMnz4QQQgghhBBCyGWg5JkQQgghhBBCCLkESp4JIYQQQgghhJBLoOSZEEIIIYQQQgi5BEqeCSGEEEIIIYSQS6DkmRBCCCGEEEIIuQRKngkhhBBCCCGEkEu4/pLnWhk5nxG2eBHlizz4uB5zweOfQfh9mpVawouA14NwsdXjqqggaVFCrTDB9+uUu5lHSCWGyuhD7H17wPW5mtkwQh47vPlWj8tRq6BQKqNSb7Z6XEoD5agTJpEE5lQd9XIGMasVM9ka6KnThBBCCCGEkPdq8SfP9TIKySjCwTCiyQIq50uIS2kkI2GE42nkilnElN0YcyaRq7c+5zRK/HhCoQgSpRpKLjHkKiVMmdbn59VAJRNHJBREKJ5B/sz4aijnsshXajjTq1lFKZ9HvlRl3wLK7mmolNMwp2uopCIIh6JIZMtzwzPNRpWNJ49KjY0vzaYTjiFRbA1RySETDSMYZfNUnU0cm2hUK6hUqqid6VVDMcUtnxDCyTxKC5ZPPZ9CPBxk40kiU5kbT73MEtJqnS+roMGGTSIWZuOJZ1E4k2myadbKKOXYsq+zcqZirJwRxDPled+9kCpbfmz4EFt3OTaOsBlm2TBksdbHs6o5pGMssY4mkJqbMBrFDOLmMRzonYLI4kc8z8o8Owts2RX57SKECJvv+SdKmqycVZZwc2OqZQOwDw1CHWHfFT7mx5uMsGUSjiN1sTMshBBCCCGEENKyqJPnik8D+bQMSl8CeZYUJxxyTE1OQhwQ0qBGLgiPeAi9Uhu88RTS8RA8ykmMdh9Gvz2NAp8XsSTLLMLo6DQUrjBS2RSiThMUvQdxSqSC7bxXQZuoxl0wDPZiwhlFhiXF2aADepES9lQV1XoavpF+yJ0xZM9cEI2zJE0KtTYAbpQ1nwzSvoPokpjhCKaQTYfg04oxMiiGMiFc7q1nZ2A+fRz9Yj0skQSSUQ+sI104PTgOkSOISIrNk0uO3j4xpO4MS7ybSOvEUIg18LHpVn16KFliKPWnUChkkXSboJFo4Smx5LgYhWukB6NGLyLZAooJP8xiGYyBDLg0MipiSazOjShXjrAJytExjOo8CGezyM6YoZ4cwpDCgwxbhtW4E7pTxzAgN8ERSSGTYMtdMYjjw3r48zVWqoXqqHjVkI6MY8LoRyybRtLvhGHkJLqHR6CIC0M1inHMKMYxMG1l6y+DXDIMn24SAxMG+HI1lh/nUXBIcWxEDpkzglxZSPbrAR2U01LIPXHkijmkXCpIJtm0/MJ2UQ7bYRwcgYGtnCrbRhxDQ9BE2VzXcghM9GJUbcdMuoBSOgi7VAa9O4Yc/01CCCGEEEIIOb/FfeW5kkc6EoDX5YTdYYdTNYmewWF0m5PswzwiJjWGx53g3p1RzSAs78KoM4U8l2llHJgY0MAcyZ91pbTsmIJEqYQ52+qxEEvs/OpR9E4poDVZYXf5EUiXhCuf9RS8o4MsGY+flTw7R6ah0QX55LnqZsm6TAT9/CvbzTxiNlbmMTtf5no2ABuX2MXKLMXnNFB2iXFE7oA7O1vaONyjEqjYeLmiZvVSKKVaeLmPWfJtlY2gT6yG0WKH3RtEKFcRbk+u5RE3TqF/UgqF3gKb0wtfPA/hwnYJYcko5AYfUsUYjFNKSI1RllTPk/HDpBzDgLeAWswF8/AoDOlmaxmy//kALF0iGEP5s7/HKfmhHFNCZo2fudrLqYeM0E2PQMYnz0WkLAr0HxmD3GqD3c7Kb3fAZtFBNXoaU67WyY+IFt1SI0zxeVOpFpCJBuF1O+Fg33GoROgfHMJJXYS/sl+JOGAaHoPxrOS5gmqzhpxdguFJMaQaE2wONzzRLPJnLuMTQgghhBBCyPkt3uS57Id6WMKSuhhLs1qybqglLIE2cNlXFVmnDtJeGWzFueSnkXZD33cMg/YUClzvShCmvnHI7TE+qeU1iyzB7sXghALW815ybKJeKaGQE2795VUS8IqPo8sURraSRVjUgylLCKlWjtvIuSDvmYBYF0aBva95pRgfHcCEd97tzaUw3KpxnNBEWPrKJc8zQvIcfQ/Jc5WVsVREoVCduxU844Vp8iR6HWlUaxUUcyzZb33EJatR5Sl0Ke0IlktITLOklSXPyWYB4WkxJFIbQmcK2kRlxgDV5AhUyRqqreRZn5qfPM/AfKHkuZmEe2IKYrkL0TPjrCNjEWF8YAjyBPe+gpzPBBlbf3b+LEcLd/t7toBSrSFc0Q5rcUpkgLF1tR7VAHRjYoi0wnLm5f0wTE+gi/Xj1te5yXPrtm3uVu/c/N/CN5DR9eH0tBb2C51EIYQQQgghhBBmEV95Zgla1AndSC96ulnSNyyCQiGHVKXCqCXeSmrrqCRZsjzVj1MnT6N3YAzjBicc6kGIfRkUZrPKWhohoxiDp3v44foVVph0U1CaDBdMmpqVDGLsOyM9XTjd24eu04P8bc3R2cyLuy1aPogThzrQ2TMOlcsBw7gaJkuET+qqPg3MWjG0JhPUI904dqoH3QNSaPyZMwltLRuCa2IChnjlTPJc8crRrXHDl5vN8JLwiRTQs6Sdy/NzZiV0SiNm2Lw1uavjynE2X1wZe9HVM4IpawjpRhPNRhlZhwqivi709LHyd/WhX25t3WZdQUwhgsbsR5ybTLOCgt8E+VA/uk6ewik2vwMqBwL82Qc2L3EPbJMimDPzkudCCPYBOayRwllXl89oFpFyqzDR34OTx7vQK9JAZVDDoBNDzSfPnAZbBkHYWCI/eOoU+npO4vjAFOTuOEqzDYQ1WaJvlWLk6CH0qL0sGWfzlvTANMa2iy5uu5jCtEwOmUqJYWOMP5FQjblZecWw5ljynA+zRH4Cxhh35bmOsk+P6YFu9HDLq6uXlUsPZ/pyfr9NCCGEEEIIuZEt/gbDCCGEEEIIIYSQDxklz4QQQgghhBBCyCVQ8kwIIYQQQgghhFwCJc+EEEIIIYQQQsglUPJMCCGEEEIIIYRcAiXPhBBCCCGEEELIJVDyTAghhBBCCCGEXAIlz4QQQgghhBBCyCW8p+Q5m82hWq1SRx111FFHHXXUUUcdddRRR90N0cUTSbryTAghhBBCCCGEXAzdtk0IIYQQQgghhFzCpZNn4P8HaUQT3tZYD6AAAAAASUVORK5CYII=)\n",
        "\n",
        "![image.png](data:image/png;base64,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)"
      ],
      "metadata": {
        "id": "Yhr9-gOvKhjw"
      }
    },
    {
      "cell_type": "markdown",
      "metadata": {
        "id": "34NTTuL7S79A"
      },
      "source": [
        "## ML - LGBM Model"
      ]
    },
    {
      "cell_type": "code",
      "execution_count": null,
      "metadata": {
        "id": "LrTMvnKWzSG5"
      },
      "outputs": [],
      "source": [
        "# check lightgbm version\n",
        "import lightgbm as lgbm\n",
        "from lightgbm import LGBMRegressor\n",
        "from sktime.performance_metrics.forecasting import mean_squared_scaled_error\n",
        "from sklearn.metrics import mean_squared_error"
      ]
    },
    {
      "cell_type": "markdown",
      "source": [
        "### Training"
      ],
      "metadata": {
        "id": "y213MuH1OlsQ"
      }
    },
    {
      "cell_type": "code",
      "execution_count": null,
      "metadata": {
        "id": "xOKq7lH0wl8k"
      },
      "outputs": [],
      "source": [
        "store_ids = ['CA_1', 'CA_2', 'CA_3', 'CA_4', 'TX_1', 'TX_2', 'TX_3', 'WI_1', 'WI_2', 'WI_3']\n",
        "train_sets = {f'{store}_train_fea':pd.DataFrame() for store in store_ids}\n",
        "valid_sets = {f'{store}_valid_fea':pd.DataFrame() for store in store_ids}\n",
        "test_sets = {f'{store}_test_fea':pd.DataFrame() for store in store_ids}\n",
        "\n",
        "keys = [k for k in zip(train_sets.keys(),valid_sets.keys(),test_sets.keys())]\n",
        "\n",
        "results_summay = {'store_id':[], 'model': {}, 'train_rmsse':[], 'valid_rmsse':[], 'train_mse':[], 'valid_mse':[]}\n",
        "\n",
        "submission_data = {}\n",
        "\n",
        "for key1, key2, key3 in keys:\n",
        "  \n",
        "  store = key1.replace('_train_fea','')\n",
        "  print('#'*50)\n",
        "  print('*'*10+' '*3+store+' '*3+'*'*10)\n",
        "  print('#'*50)\n",
        "  results_summay['store_id'].append(store)\n",
        "  \n",
        "  # load files\n",
        "  train_sets[key1] = pd.read_parquet(drive_path+f'train_sets/{key1}.parquet.gzip')\n",
        "  valid_sets[key2] = pd.read_parquet(drive_path+f'valid_sets/{key2}.parquet.gzip')\n",
        "  test_sets[key3] = pd.read_parquet(drive_path+f'test_sets/{key3}.parquet.gzip')\n",
        "  print(f'{key1}, {key2} and {key3} :: loading - done')\n",
        "\n",
        "  # remove '_d' from d column \n",
        "  if 'd_' in str(train_sets[key1]['d'][0]):\n",
        "    train_sets[key1]['d'] = train_sets[key1]['d'].apply(lambda x: int(x.replace('d_','')))\n",
        "  if 'd_' in str(valid_sets[key2]['d'][0]):\n",
        "    valid_sets[key2]['d'] = valid_sets[key2]['d'].apply(lambda x: int(x.replace('d_','')))\n",
        "  if 'd_' in str(test_sets[key3]['d'][0]):\n",
        "    test_sets[key3]['d'] = test_sets[key3]['d'].apply(lambda x: int(x.replace('d_','')))\n",
        "  print(f'{key1}, {key2} and {key3} :: pre-process - done')\n",
        "  print('pre_processing - done')\n",
        "\n",
        "  x_train, x_valid, y_train, y_valid = train_sets[key1].drop(['id', 'weekday','date','sales'], axis=1), valid_sets[key2].drop(['id', 'weekday','date','sales'], axis=1), train_sets[key1].sales, valid_sets[key2].sales\n",
        "  x_test = test_sets[key3].drop(['id', 'weekday','date','sales'], axis=1)\n",
        "  \n",
        "  print('model training - inprogress...')\n",
        "  regr = LGBMRegressor(n_estimators=500, objective='regression_l2', metric='rmse')\n",
        "  regr.fit(x_train, y_train)\n",
        "  train_sets[key1]['train_pred'] = regr.predict(x_train)\n",
        "  valid_sets[key2]['valid_pred'] = regr.predict(x_valid)\n",
        "  test_sets[key3]['test_pred'] = regr.predict(x_test)\n",
        "  results_summay['model'][store] = regr\n",
        "  print('model training - done')\n",
        "  \n",
        "  train_rmsse = mean_squared_scaled_error(y_train, train_sets[key1]['train_pred'], y_train=y_train, square_root=True)\n",
        "  valid_rmsse = mean_squared_scaled_error(y_valid, valid_sets[key2]['valid_pred'], y_train=y_train, square_root=True)\n",
        "\n",
        "  print('Train RMSSE ::', train_rmsse) \n",
        "  print('Valid RMSSE ::', valid_rmsse)\n",
        "\n",
        "  results_summay['train_rmsse'].append(train_rmsse)\n",
        "  results_summay['valid_rmsse'].append(valid_rmsse)\n",
        "\n",
        "  train_mse = mean_squared_error(y_train, train_sets[key1]['train_pred'])\n",
        "  valid_mse = mean_squared_error(y_valid, valid_sets[key2]['valid_pred'])\n",
        "\n",
        "  print('Train MSE ::', train_mse) \n",
        "  print('Valid MSE ::', valid_mse)\n",
        "\n",
        "  results_summay['train_mse'].append(train_mse)\n",
        "  results_summay['valid_mse'].append(valid_mse)\n",
        "\n",
        "  for _id in tqdm(test_sets[key3]['id'].unique()):\n",
        "    submission_data[_id] = test_sets[key3][test_sets[key3]['id']==_id]['test_pred'].values\n",
        "\n",
        "  # save files\n",
        "  train_sets[key1].to_parquet(drive_path+f'train_sets/{key1}.parquet.gzip', compression='gzip')\n",
        "  valid_sets[key2].to_parquet(drive_path+f'valid_sets/{key2}.parquet.gzip', compression='gzip')\n",
        "  test_sets[key3].to_parquet(drive_path+f'test_sets/{key3}.parquet.gzip', compression='gzip')\n",
        "  print(f'{key1}, {key2} and {key3} :: saving - done')\n",
        "\n",
        "  # delete files\n",
        "  del train_sets[key1], valid_sets[key2], test_sets[key3]\n",
        "  print(f'{key1}, {key2} and {key3} :: deletion - done')\n",
        "  print(' ')\n",
        "  print(' ')\n"
      ]
    },
    {
      "cell_type": "markdown",
      "source": [
        "### Results"
      ],
      "metadata": {
        "id": "yMYulfFlOibZ"
      }
    },
    {
      "cell_type": "code",
      "execution_count": null,
      "metadata": {
        "id": "kz0Xth4ZyVNL"
      },
      "outputs": [],
      "source": [
        "#trained_models = results_summay['model']\n",
        "pd.to_pickle(trained_models, drive_path+'trained_models_with_500_trees.pkl')\n",
        "pd.to_pickle(results_summay, drive_path+'results_summary_with_500_trees.pkl')\n",
        "#results_summay.pop('model')\n",
        "results = pd.DataFrame(results_summay).sort_values(['train_rmsse', 'valid_rmsse'])\n",
        "results"
      ]
    },
    {
      "cell_type": "markdown",
      "source": [
        "### Plot Feature Importance"
      ],
      "metadata": {
        "id": "V_gRQ8wXOx46"
      }
    },
    {
      "cell_type": "code",
      "execution_count": null,
      "metadata": {
        "id": "cbBY_LjYvaUb"
      },
      "outputs": [],
      "source": [
        "models = pd.read_pickle(drive_path+'trained_models_with_500_trees.pkl')\n",
        "fig, axs = plt.subplots(2,5, figsize=(20,6))\n",
        "for idx, (store, estimator) in enumerate(models.items()):\n",
        "    if idx<5:\n",
        "      lgbm.plot_importance(estimator, ax=axs[0, idx], max_num_features=10, title=store, xlabel='')\n",
        "    elif idx>=5:\n",
        "      lgbm.plot_importance(estimator, ax=axs[1, 5-idx], max_num_features=10, title=store, xlabel='')\n",
        "\n",
        "plt.tight_layout()\n"
      ]
    },
    {
      "cell_type": "markdown",
      "source": [
        "### Prepare Submission file for Kaggle"
      ],
      "metadata": {
        "id": "8cBF-XbaO5n1"
      }
    },
    {
      "cell_type": "code",
      "execution_count": null,
      "metadata": {
        "id": "1wKaxxFF9Tla"
      },
      "outputs": [],
      "source": [
        "lgbm_eval_data =  pd.concat([pd.DataFrame({'id':submission_data.keys()}), pd.DataFrame(submission_data.values(), columns=[f'F{i}' for i in range(1,29)])], axis=1)\n",
        "lgbm_val_data =  pd.concat([pd.DataFrame({'id':[k.replace('evaluation','validation') for k in submission_data.keys()]}), pd.DataFrame(columns=[f'F{i}' for i in range(1,29)])], axis=1)\n",
        "\n",
        "pd.concat([lgbm_eval_data, lgbm_val_data]).fillna(0.0).to_csv(drive_path+'lgbm_13_jan_2_submission.csv', index=False)"
      ]
    },
    {
      "cell_type": "markdown",
      "source": [
        "**Observation**\n",
        "\n",
        "1. Trained the model on each store independently and predictions as well.\n",
        "2. The training observations were capture in results section.\n",
        "3. After submiting evaluation test predictions, I got '0.72372' RMSSE under private leaderboard which stands top 12% (670 out of 5558 participants)\n",
        "\n",
        "![image.png](data:image/png;base64,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)\n",
        "\n",
        "![image.png](data:image/png;base64,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)\n"
      ],
      "metadata": {
        "id": "4kNxVcfvO_TX"
      }
    },
    {
      "cell_type": "markdown",
      "source": [
        "## DL - LSTM - Multioutput"
      ],
      "metadata": {
        "id": "wHQvl88PayjN"
      }
    },
    {
      "cell_type": "code",
      "source": [
        "import tensorflow as tf\n",
        "from tensorflow.keras.models import Model, Sequential, load_model\n",
        "from tensorflow.keras.layers import Input, LSTM, Dense, RepeatVector, TimeDistributed, Dense, Dropout\n",
        "from tensorflow.keras.optimizers import Adam\n",
        "from sktime.performance_metrics.forecasting import mean_squared_scaled_error\n",
        "from sklearn.preprocessing import StandardScaler\n",
        "from sklearn.preprocessing import Normalizer\n",
        "from sklearn.metrics import mean_squared_error\n"
      ],
      "metadata": {
        "id": "F6FE8-Z3bcH_"
      },
      "execution_count": 11,
      "outputs": []
    },
    {
      "cell_type": "markdown",
      "source": [
        "### Utility Methods - Data Prep & Model Creation"
      ],
      "metadata": {
        "id": "sUYEabuDiINL"
      }
    },
    {
      "cell_type": "code",
      "source": [
        "def preapre_data_for_training_and_inference(train_fea, valid_fea, test_fea):\n",
        "\n",
        "  past_28_days = sorted(train_fea.d.unique())[-28:]\n",
        "  \n",
        "  X_train, y_train = [], []\n",
        "  X_valid, y_valid = [], []\n",
        "  X_test = []\n",
        "  X_test_ids = []\n",
        "\n",
        "  train = train_fea[train_fea.d.isin(past_28_days)]\n",
        "                                              \n",
        "  for id_ in tqdm(train_fea.id.unique()):\n",
        "    X_train.append(train[train.id==id_].drop(['id', 'weekday','date','sales', 'train_pred'], axis=1))\n",
        "    y_train.append(train[train.id==id_].sales)\n",
        "    X_valid.append(valid_fea[valid_fea.id==id_].drop(['id', 'weekday','date','sales', 'valid_pred'], axis=1))\n",
        "    y_valid.append(valid_fea[valid_fea.id==id_].sales)\n",
        "    X_test_ids.append(id_)\n",
        "    X_test.append(test_fea[test_fea.id==id_].drop(['id', 'weekday','date','sales', 'test_pred'], axis=1))\n",
        "    \n",
        "  X_train = np.array(X_train)\n",
        "  X_valid = np.array(X_valid)\n",
        "  X_test = np.array(X_test)\n",
        "  y_train = np.array(y_train)\n",
        "  y_train=y_train.reshape(y_train.shape[0],y_train.shape[1], 1)\n",
        "  y_valid = np.array(y_valid)\n",
        "  y_valid = y_valid.reshape(y_valid.shape[0],y_valid.shape[1], 1)\n",
        "\n",
        "  print('train ', X_train.shape, y_train.shape)\n",
        "  print('valid ', X_valid.shape, y_valid.shape)\n",
        "  print('test ', X_test.shape)\n",
        "\n",
        "  return X_train, X_valid, y_train, y_valid, X_test, X_test_ids\n"
      ],
      "metadata": {
        "id": "3EUNWkF-G8Fx"
      },
      "execution_count": 26,
      "outputs": []
    },
    {
      "cell_type": "code",
      "source": [
        "def create_model(n_input_neurons, optimizer):\n",
        "  # Configure the neural network model\n",
        "  model = Sequential()\n",
        "  n_output_neurons = 28\n",
        "\n",
        "  model.add(LSTM(n_input_neurons, return_sequences=True, input_shape=(X_train.shape[1], X_train.shape[2]))) \n",
        "  model.add(LSTM(n_input_neurons, return_sequences=False))\n",
        "  model.add(Dense(n_output_neurons))\n",
        "  \n",
        "  # Compile the model\n",
        "  model.compile(optimizer=optimizer, loss='mse')\n",
        "\n",
        "  return model\n"
      ],
      "metadata": {
        "id": "QHRVS1tWQXgX"
      },
      "execution_count": 12,
      "outputs": []
    },
    {
      "cell_type": "markdown",
      "source": [
        "### Training"
      ],
      "metadata": {
        "id": "sF9i1aSmhGYg"
      }
    },
    {
      "cell_type": "code",
      "source": [
        "store_ids = ['CA_1', 'CA_2', 'CA_3', 'CA_4', 'TX_1', 'TX_2', 'TX_3', 'WI_1', 'WI_2', 'WI_3']\n",
        "train_sets = {f'{store}_train_fea':pd.DataFrame() for store in store_ids}\n",
        "valid_sets = {f'{store}_valid_fea':pd.DataFrame() for store in store_ids}\n",
        "test_sets = {f'{store}_test_fea':pd.DataFrame() for store in store_ids}\n",
        "\n",
        "\n",
        "# model hyperparameters\n",
        "epochs = 10\n",
        "batch_size = 1\n",
        "n_input_neurons = 100\n",
        "lr_rate = 0.001\n",
        "optimizer = Adam(learning_rate=lr_rate)\n",
        "\n",
        "numerical_features = ['store_month_min', 'store_month_max', 'store_month_mean', 'store_month_median', 'store_month_std', 'store_wday_min', 'store_wday_max', 'store_wday_mean', 'store_wday_median', 'store_wday_std', 'dept_month_min', 'dept_month_max', 'dept_month_mean', 'dept_month_median', 'dept_month_std', 'dept_wday_min', 'dept_wday_max', 'dept_wday_mean', 'dept_wday_median', 'dept_wday_std', 'item_month_min', 'item_month_max', 'item_month_mean', 'item_month_median', 'item_month_std', 'item_wday_min', 'item_wday_max', 'item_wday_mean', 'item_wday_median', 'item_wday_std', 'sell_price']\n",
        "\n",
        "keys = [k for k in zip(train_sets.keys(),valid_sets.keys(),test_sets.keys())]\n",
        "\n",
        "results_summay = {'store_id':[], 'train_rmsse':[], 'valid_rmsse':[], 'train_mse':[], 'valid_mse':[]}\n",
        "\n",
        "submission_data = {}\n",
        "\n",
        "for key1, key2, key3 in keys:\n",
        "  \n",
        "  store = key1.replace('_train_fea','')\n",
        "  print('#'*50)\n",
        "  print('*'*10+' '*3+store+' '*3+'*'*10)\n",
        "  print('#'*50)\n",
        "  results_summay['store_id'].append(store)\n",
        "  \n",
        "  # load files\n",
        "  train_sets[key1] = pd.read_parquet(drive_path+f'train_sets/{key1}.parquet.gzip')\n",
        "  valid_sets[key2] = pd.read_parquet(drive_path+f'valid_sets/{key2}.parquet.gzip')\n",
        "  test_sets[key3] = pd.read_parquet(drive_path+f'test_sets/{key3}.parquet.gzip')\n",
        "  print(f'{key1}, {key2} and {key3} :: loading - done')\n",
        "\n",
        "  # preapre data for training and inference\n",
        "  X_train, X_valid, y_train, y_valid, X_test, X_test_ids = preapre_data_for_training_and_inference(train_sets[key1], valid_sets[key2], test_sets[key3])\n",
        "  print(f'{key1}, {key2} and {key3} :: data prepartion - done')\n",
        "\n",
        "  print('model training - inprogress...')\n",
        "  model = create_model(n_input_neurons, optimizer)\n",
        "  \n",
        "  # Training the model\n",
        "  history = model.fit(X_train, y_train, \n",
        "                      batch_size=batch_size, \n",
        "                      epochs=epochs, shuffle=False,\n",
        "                      validation_data=(X_valid, y_valid)\n",
        "                    )  \n",
        "  # saved model\n",
        "  #model.save(drive_path+f'models/{store}_model')\n",
        "\n",
        "  # reconstruct the model\n",
        "  #reconstructed_model = load_model(drive_path+f'models/{store}_model')\n",
        "\n",
        "  train_pred = model.predict(X_train)\n",
        "  valid_pred = model.predict(X_valid)\n",
        "  test_pred = zip(X_test_ids, model.predict(X_test))\n",
        "\n",
        "  y_train = y_train.reshape(y_train.shape[:2])\n",
        "  y_valid = y_valid.reshape(y_valid.shape[:2])\n",
        "\n",
        "  print('model training - done')\n",
        "  \n",
        "  train_rmsse = mean_squared_scaled_error(y_train, train_pred, y_train=y_train, square_root=True)\n",
        "  valid_rmsse = mean_squared_scaled_error(y_valid, valid_pred, y_train=y_train, square_root=True)\n",
        "\n",
        "  print('Train RMSSE ::', train_rmsse) \n",
        "  print('Valid RMSSE ::', valid_rmsse)\n",
        "\n",
        "  results_summay['train_rmsse'].append(train_rmsse)\n",
        "  results_summay['valid_rmsse'].append(valid_rmsse)\n",
        "\n",
        "  train_mse = mean_squared_error(y_train, train_pred)\n",
        "  valid_mse = mean_squared_error(y_valid, valid_pred)\n",
        "\n",
        "  print('Train MSE ::', train_mse) \n",
        "  print('Valid MSE ::', valid_mse)\n",
        "\n",
        "  results_summay['train_mse'].append(train_mse)\n",
        "  results_summay['valid_mse'].append(valid_mse)\n",
        "\n",
        "  for (_id, pred) in tqdm(test_pred):\n",
        "    submission_data[_id] = pred\n",
        "  \n",
        "  pd.to_pickle(submission_data, drive_path+'submission_data.pkl')\n",
        "\n",
        "  # delete files\n",
        "  del train_sets[key1], valid_sets[key2], test_sets[key3]\n",
        "  print(f'{key1}, {key2} and {key3} :: deletion - done')\n",
        "  print(' ')\n",
        "  print(' ')\n"
      ],
      "metadata": {
        "colab": {
          "base_uri": "https://localhost:8080/"
        },
        "id": "tSPJEgiazp00",
        "outputId": "d01ecdf7-643d-4f12-ac0b-2370ba83d293"
      },
      "execution_count": 38,
      "outputs": [
        {
          "output_type": "stream",
          "name": "stdout",
          "text": [
            "##################################################\n",
            "**********   CA_1   **********\n",
            "##################################################\n",
            "CA_1_train_fea, CA_1_valid_fea and CA_1_test_fea :: loading - done\n"
          ]
        },
        {
          "output_type": "stream",
          "name": "stderr",
          "text": [
            "100%|██████████| 3049/3049 [01:15<00:00, 40.33it/s]\n"
          ]
        },
        {
          "output_type": "stream",
          "name": "stdout",
          "text": [
            "train  (3049, 28, 61) (3049, 28, 1)\n",
            "valid  (3049, 28, 61) (3049, 28, 1)\n",
            "test  (3049, 28, 61)\n",
            "CA_1_train_fea, CA_1_valid_fea and CA_1_test_fea :: data prepartion - done\n",
            "model training - inprogress...\n",
            "Epoch 1/10\n",
            "3049/3049 [==============================] - 42s 13ms/step - loss: 11.4356 - val_loss: 14.1241\n",
            "Epoch 2/10\n",
            "3049/3049 [==============================] - 39s 13ms/step - loss: 11.4625 - val_loss: 14.1530\n",
            "Epoch 3/10\n",
            "3049/3049 [==============================] - 40s 13ms/step - loss: 11.4749 - val_loss: 14.1672\n",
            "Epoch 4/10\n",
            "3049/3049 [==============================] - 39s 13ms/step - loss: 11.4802 - val_loss: 14.1775\n",
            "Epoch 5/10\n",
            "3049/3049 [==============================] - 39s 13ms/step - loss: 11.4870 - val_loss: 14.1644\n",
            "Epoch 6/10\n",
            "3049/3049 [==============================] - 39s 13ms/step - loss: 11.4892 - val_loss: 14.1376\n",
            "Epoch 7/10\n",
            "3049/3049 [==============================] - 40s 13ms/step - loss: 11.4888 - val_loss: 14.1404\n",
            "Epoch 8/10\n",
            "3049/3049 [==============================] - 39s 13ms/step - loss: 11.4773 - val_loss: 14.1584\n",
            "Epoch 9/10\n",
            "3049/3049 [==============================] - 40s 13ms/step - loss: 11.4867 - val_loss: 14.1481\n",
            "Epoch 10/10\n",
            "3049/3049 [==============================] - 40s 13ms/step - loss: 11.4865 - val_loss: 14.1676\n",
            "model training - done\n",
            "Train RMSSE :: 0.7747452111091647\n",
            "Valid RMSSE :: 0.7963566791734605\n",
            "Train MSE :: 13.409064\n",
            "Valid MSE :: 14.167588\n"
          ]
        },
        {
          "output_type": "stream",
          "name": "stderr",
          "text": [
            "3049it [00:00, 1108183.09it/s]"
          ]
        },
        {
          "output_type": "stream",
          "name": "stdout",
          "text": [
            "CA_1_train_fea, CA_1_valid_fea and CA_1_test_fea :: deletion - done\n",
            " \n",
            " \n",
            "##################################################\n",
            "**********   CA_2   **********\n",
            "##################################################\n"
          ]
        },
        {
          "output_type": "stream",
          "name": "stderr",
          "text": [
            "\n"
          ]
        },
        {
          "output_type": "stream",
          "name": "stdout",
          "text": [
            "CA_2_train_fea, CA_2_valid_fea and CA_2_test_fea :: loading - done\n"
          ]
        },
        {
          "output_type": "stream",
          "name": "stderr",
          "text": [
            "100%|██████████| 3049/3049 [01:12<00:00, 42.11it/s]\n"
          ]
        },
        {
          "output_type": "stream",
          "name": "stdout",
          "text": [
            "train  (3049, 28, 61) (3049, 28, 1)\n",
            "valid  (3049, 28, 61) (3049, 28, 1)\n",
            "test  (3049, 28, 61)\n",
            "CA_2_train_fea, CA_2_valid_fea and CA_2_test_fea :: data prepartion - done\n",
            "model training - inprogress...\n",
            "Epoch 1/10\n",
            "3049/3049 [==============================] - 44s 14ms/step - loss: 9.0066 - val_loss: 10.8162\n",
            "Epoch 2/10\n",
            "3049/3049 [==============================] - 41s 13ms/step - loss: 9.0625 - val_loss: 10.8071\n",
            "Epoch 3/10\n",
            "3049/3049 [==============================] - 42s 14ms/step - loss: 9.0649 - val_loss: 10.8012\n",
            "Epoch 4/10\n",
            "3049/3049 [==============================] - 42s 14ms/step - loss: 9.0662 - val_loss: 10.7983\n",
            "Epoch 5/10\n",
            "3049/3049 [==============================] - 42s 14ms/step - loss: 9.0733 - val_loss: 10.7773\n",
            "Epoch 6/10\n",
            "3049/3049 [==============================] - 42s 14ms/step - loss: 9.0765 - val_loss: 10.7675\n",
            "Epoch 7/10\n",
            "3049/3049 [==============================] - 42s 14ms/step - loss: 9.0798 - val_loss: 10.7610\n",
            "Epoch 8/10\n",
            "3049/3049 [==============================] - 43s 14ms/step - loss: 9.0704 - val_loss: 10.7341\n",
            "Epoch 9/10\n",
            "3049/3049 [==============================] - 42s 14ms/step - loss: 9.0839 - val_loss: 10.7339\n",
            "Epoch 10/10\n",
            "3049/3049 [==============================] - 39s 13ms/step - loss: 9.0842 - val_loss: 10.7478\n",
            "model training - done\n",
            "Train RMSSE :: 1.0313926753585472\n",
            "Valid RMSSE :: 1.04455194509172\n",
            "Train MSE :: 10.478686\n",
            "Valid MSE :: 10.747782\n"
          ]
        },
        {
          "output_type": "stream",
          "name": "stderr",
          "text": [
            "3049it [00:00, 1161317.92it/s]"
          ]
        },
        {
          "output_type": "stream",
          "name": "stdout",
          "text": [
            "CA_2_train_fea, CA_2_valid_fea and CA_2_test_fea :: deletion - done\n",
            " \n",
            " \n",
            "##################################################\n",
            "**********   CA_3   **********\n",
            "##################################################\n"
          ]
        },
        {
          "output_type": "stream",
          "name": "stderr",
          "text": [
            "\n"
          ]
        },
        {
          "output_type": "stream",
          "name": "stdout",
          "text": [
            "CA_3_train_fea, CA_3_valid_fea and CA_3_test_fea :: loading - done\n"
          ]
        },
        {
          "output_type": "stream",
          "name": "stderr",
          "text": [
            "100%|██████████| 3049/3049 [01:12<00:00, 42.28it/s]\n"
          ]
        },
        {
          "output_type": "stream",
          "name": "stdout",
          "text": [
            "train  (3049, 28, 61) (3049, 28, 1)\n",
            "valid  (3049, 28, 61) (3049, 28, 1)\n",
            "test  (3049, 28, 61)\n",
            "CA_3_train_fea, CA_3_valid_fea and CA_3_test_fea :: data prepartion - done\n",
            "model training - inprogress...\n",
            "Epoch 1/10\n",
            "3049/3049 [==============================] - 40s 13ms/step - loss: 24.1630 - val_loss: 25.5292\n",
            "Epoch 2/10\n",
            "3049/3049 [==============================] - 39s 13ms/step - loss: 24.2793 - val_loss: 25.5392\n",
            "Epoch 3/10\n",
            "3049/3049 [==============================] - 38s 12ms/step - loss: 24.3373 - val_loss: 25.5058\n",
            "Epoch 4/10\n",
            "3049/3049 [==============================] - 38s 12ms/step - loss: 24.3559 - val_loss: 25.4485\n",
            "Epoch 5/10\n",
            "3049/3049 [==============================] - 39s 13ms/step - loss: 24.3552 - val_loss: 25.4905\n",
            "Epoch 6/10\n",
            "3049/3049 [==============================] - 39s 13ms/step - loss: 24.3462 - val_loss: 25.4834\n",
            "Epoch 7/10\n",
            "3049/3049 [==============================] - 38s 13ms/step - loss: 24.2984 - val_loss: 25.5337\n",
            "Epoch 8/10\n",
            "3049/3049 [==============================] - 39s 13ms/step - loss: 24.3223 - val_loss: 25.5175\n",
            "Epoch 9/10\n",
            "3049/3049 [==============================] - 40s 13ms/step - loss: 24.2973 - val_loss: 25.5216\n",
            "Epoch 10/10\n",
            "3049/3049 [==============================] - 40s 13ms/step - loss: 24.3012 - val_loss: 25.5624\n",
            "model training - done\n",
            "Train RMSSE :: 0.7724587949261702\n",
            "Valid RMSSE :: 0.745440541651383\n",
            "Train MSE :: 27.448992\n",
            "Valid MSE :: 25.562408\n"
          ]
        },
        {
          "output_type": "stream",
          "name": "stderr",
          "text": [
            "3049it [00:00, 1075833.51it/s]"
          ]
        },
        {
          "output_type": "stream",
          "name": "stdout",
          "text": [
            "CA_3_train_fea, CA_3_valid_fea and CA_3_test_fea :: deletion - done\n",
            " \n",
            " \n",
            "##################################################\n",
            "**********   CA_4   **********\n",
            "##################################################\n"
          ]
        },
        {
          "output_type": "stream",
          "name": "stderr",
          "text": [
            "\n"
          ]
        },
        {
          "output_type": "stream",
          "name": "stdout",
          "text": [
            "CA_4_train_fea, CA_4_valid_fea and CA_4_test_fea :: loading - done\n"
          ]
        },
        {
          "output_type": "stream",
          "name": "stderr",
          "text": [
            "100%|██████████| 3049/3049 [01:13<00:00, 41.71it/s]\n"
          ]
        },
        {
          "output_type": "stream",
          "name": "stdout",
          "text": [
            "train  (3049, 28, 61) (3049, 28, 1)\n",
            "valid  (3049, 28, 61) (3049, 28, 1)\n",
            "test  (3049, 28, 61)\n",
            "CA_4_train_fea, CA_4_valid_fea and CA_4_test_fea :: data prepartion - done\n",
            "model training - inprogress...\n",
            "Epoch 1/10\n",
            "3049/3049 [==============================] - 40s 13ms/step - loss: 3.4248 - val_loss: 4.0704\n",
            "Epoch 2/10\n",
            "3049/3049 [==============================] - 43s 14ms/step - loss: 3.4247 - val_loss: 4.0870\n",
            "Epoch 3/10\n",
            "3049/3049 [==============================] - 38s 13ms/step - loss: 3.4277 - val_loss: 4.0920\n",
            "Epoch 4/10\n",
            "3049/3049 [==============================] - 39s 13ms/step - loss: 3.4216 - val_loss: 4.1095\n",
            "Epoch 5/10\n",
            "3049/3049 [==============================] - 38s 13ms/step - loss: 3.4233 - val_loss: 4.1191\n",
            "Epoch 6/10\n",
            "3049/3049 [==============================] - 38s 12ms/step - loss: 3.4238 - val_loss: 4.1278\n",
            "Epoch 7/10\n",
            "3049/3049 [==============================] - 37s 12ms/step - loss: 3.4237 - val_loss: 4.1327\n",
            "Epoch 8/10\n",
            "3049/3049 [==============================] - 37s 12ms/step - loss: 3.4225 - val_loss: 4.1362\n",
            "Epoch 9/10\n",
            "3049/3049 [==============================] - 38s 12ms/step - loss: 3.4198 - val_loss: 4.1375\n",
            "Epoch 10/10\n",
            "3049/3049 [==============================] - 38s 12ms/step - loss: 3.4208 - val_loss: 4.1391\n",
            "model training - done\n",
            "Train RMSSE :: 0.7672725431492271\n",
            "Valid RMSSE :: 0.7886438043128929\n",
            "Train MSE :: 3.9177818\n",
            "Valid MSE :: 4.1390696\n"
          ]
        },
        {
          "output_type": "stream",
          "name": "stderr",
          "text": [
            "3049it [00:00, 961970.28it/s]"
          ]
        },
        {
          "output_type": "stream",
          "name": "stdout",
          "text": [
            "CA_4_train_fea, CA_4_valid_fea and CA_4_test_fea :: deletion - done\n",
            " \n",
            " \n",
            "##################################################\n",
            "**********   TX_1   **********\n",
            "##################################################\n"
          ]
        },
        {
          "output_type": "stream",
          "name": "stderr",
          "text": [
            "\n"
          ]
        },
        {
          "output_type": "stream",
          "name": "stdout",
          "text": [
            "TX_1_train_fea, TX_1_valid_fea and TX_1_test_fea :: loading - done\n"
          ]
        },
        {
          "output_type": "stream",
          "name": "stderr",
          "text": [
            "100%|██████████| 3049/3049 [01:12<00:00, 42.06it/s]\n"
          ]
        },
        {
          "output_type": "stream",
          "name": "stdout",
          "text": [
            "train  (3049, 28, 61) (3049, 28, 1)\n",
            "valid  (3049, 28, 61) (3049, 28, 1)\n",
            "test  (3049, 28, 61)\n",
            "TX_1_train_fea, TX_1_valid_fea and TX_1_test_fea :: data prepartion - done\n",
            "model training - inprogress...\n",
            "Epoch 1/10\n",
            "3049/3049 [==============================] - 40s 12ms/step - loss: 9.1372 - val_loss: 10.3584\n",
            "Epoch 2/10\n",
            "3049/3049 [==============================] - 39s 13ms/step - loss: 9.1841 - val_loss: 10.3588\n",
            "Epoch 3/10\n",
            "3049/3049 [==============================] - 39s 13ms/step - loss: 9.1989 - val_loss: 10.3589\n",
            "Epoch 4/10\n",
            "3049/3049 [==============================] - 39s 13ms/step - loss: 9.2018 - val_loss: 10.3585\n",
            "Epoch 5/10\n",
            "3049/3049 [==============================] - 38s 13ms/step - loss: 9.2039 - val_loss: 10.3629\n",
            "Epoch 6/10\n",
            "3049/3049 [==============================] - 38s 12ms/step - loss: 9.2066 - val_loss: 10.3594\n",
            "Epoch 7/10\n",
            "3049/3049 [==============================] - 38s 13ms/step - loss: 9.2078 - val_loss: 10.3579\n",
            "Epoch 8/10\n",
            "3049/3049 [==============================] - 39s 13ms/step - loss: 9.2145 - val_loss: 10.3617\n",
            "Epoch 9/10\n",
            "3049/3049 [==============================] - 39s 13ms/step - loss: 9.2193 - val_loss: 10.3501\n",
            "Epoch 10/10\n",
            "3049/3049 [==============================] - 39s 13ms/step - loss: 9.2208 - val_loss: 10.3544\n",
            "model training - done\n",
            "Train RMSSE :: 0.7656823787193355\n",
            "Valid RMSSE :: 0.7746366380655322\n",
            "Train MSE :: 10.116419\n",
            "Valid MSE :: 10.354415\n"
          ]
        },
        {
          "output_type": "stream",
          "name": "stderr",
          "text": [
            "3049it [00:00, 1115237.89it/s]"
          ]
        },
        {
          "output_type": "stream",
          "name": "stdout",
          "text": [
            "TX_1_train_fea, TX_1_valid_fea and TX_1_test_fea :: deletion - done\n",
            " \n",
            " \n",
            "##################################################\n",
            "**********   TX_2   **********\n",
            "##################################################\n"
          ]
        },
        {
          "output_type": "stream",
          "name": "stderr",
          "text": [
            "\n"
          ]
        },
        {
          "output_type": "stream",
          "name": "stdout",
          "text": [
            "TX_2_train_fea, TX_2_valid_fea and TX_2_test_fea :: loading - done\n"
          ]
        },
        {
          "output_type": "stream",
          "name": "stderr",
          "text": [
            "100%|██████████| 3049/3049 [01:14<00:00, 40.74it/s]\n"
          ]
        },
        {
          "output_type": "stream",
          "name": "stdout",
          "text": [
            "train  (3049, 28, 61) (3049, 28, 1)\n",
            "valid  (3049, 28, 61) (3049, 28, 1)\n",
            "test  (3049, 28, 61)\n",
            "TX_2_train_fea, TX_2_valid_fea and TX_2_test_fea :: data prepartion - done\n",
            "model training - inprogress...\n",
            "Epoch 1/10\n",
            "3049/3049 [==============================] - 40s 12ms/step - loss: 12.1355 - val_loss: 14.7453\n",
            "Epoch 2/10\n",
            "3049/3049 [==============================] - 39s 13ms/step - loss: 12.1919 - val_loss: 14.7808\n",
            "Epoch 3/10\n",
            "3049/3049 [==============================] - 38s 13ms/step - loss: 12.1982 - val_loss: 14.7863\n",
            "Epoch 4/10\n",
            "3049/3049 [==============================] - 39s 13ms/step - loss: 12.2014 - val_loss: 14.7903\n",
            "Epoch 5/10\n",
            "3049/3049 [==============================] - 39s 13ms/step - loss: 12.1968 - val_loss: 14.7990\n",
            "Epoch 6/10\n",
            "3049/3049 [==============================] - 38s 13ms/step - loss: 12.1948 - val_loss: 14.8275\n",
            "Epoch 7/10\n",
            "3049/3049 [==============================] - 38s 13ms/step - loss: 12.1901 - val_loss: 14.8258\n",
            "Epoch 8/10\n",
            "3049/3049 [==============================] - 40s 13ms/step - loss: 12.1918 - val_loss: 14.8050\n",
            "Epoch 9/10\n",
            "3049/3049 [==============================] - 39s 13ms/step - loss: 12.2051 - val_loss: 14.8039\n",
            "Epoch 10/10\n",
            "3049/3049 [==============================] - 39s 13ms/step - loss: 12.2101 - val_loss: 14.7828\n",
            "model training - done\n",
            "Train RMSSE :: 0.7786353120299208\n",
            "Valid RMSSE :: 0.8066222283746095\n",
            "Train MSE :: 13.774794\n",
            "Valid MSE :: 14.78282\n"
          ]
        },
        {
          "output_type": "stream",
          "name": "stderr",
          "text": [
            "3049it [00:00, 1196298.68it/s]"
          ]
        },
        {
          "output_type": "stream",
          "name": "stdout",
          "text": [
            "TX_2_train_fea, TX_2_valid_fea and TX_2_test_fea :: deletion - done\n",
            " \n",
            " \n",
            "##################################################\n",
            "**********   TX_3   **********\n",
            "##################################################\n"
          ]
        },
        {
          "output_type": "stream",
          "name": "stderr",
          "text": [
            "\n"
          ]
        },
        {
          "output_type": "stream",
          "name": "stdout",
          "text": [
            "TX_3_train_fea, TX_3_valid_fea and TX_3_test_fea :: loading - done\n"
          ]
        },
        {
          "output_type": "stream",
          "name": "stderr",
          "text": [
            "100%|██████████| 3049/3049 [01:14<00:00, 40.84it/s]\n"
          ]
        },
        {
          "output_type": "stream",
          "name": "stdout",
          "text": [
            "train  (3049, 28, 61) (3049, 28, 1)\n",
            "valid  (3049, 28, 61) (3049, 28, 1)\n",
            "test  (3049, 28, 61)\n",
            "TX_3_train_fea, TX_3_valid_fea and TX_3_test_fea :: data prepartion - done\n",
            "model training - inprogress...\n",
            "Epoch 1/10\n",
            "3049/3049 [==============================] - 42s 13ms/step - loss: 10.5809 - val_loss: 13.8031\n",
            "Epoch 2/10\n",
            "3049/3049 [==============================] - 39s 13ms/step - loss: 10.6359 - val_loss: 13.7754\n",
            "Epoch 3/10\n",
            "3049/3049 [==============================] - 38s 12ms/step - loss: 10.6440 - val_loss: 13.7660\n",
            "Epoch 4/10\n",
            "3049/3049 [==============================] - 38s 13ms/step - loss: 10.6458 - val_loss: 13.7377\n",
            "Epoch 5/10\n",
            "3049/3049 [==============================] - 38s 13ms/step - loss: 10.6436 - val_loss: 13.7201\n",
            "Epoch 6/10\n",
            "3049/3049 [==============================] - 38s 13ms/step - loss: 10.6454 - val_loss: 13.7134\n",
            "Epoch 7/10\n",
            "3049/3049 [==============================] - 38s 12ms/step - loss: 10.6474 - val_loss: 13.7005\n",
            "Epoch 8/10\n",
            "3049/3049 [==============================] - 39s 13ms/step - loss: 10.6437 - val_loss: 13.6968\n",
            "Epoch 9/10\n",
            "3049/3049 [==============================] - 41s 13ms/step - loss: 10.6368 - val_loss: 13.6911\n",
            "Epoch 10/10\n",
            "3049/3049 [==============================] - 39s 13ms/step - loss: 10.6356 - val_loss: 13.6877\n",
            "model training - done\n",
            "Train RMSSE :: 0.760620283298804\n",
            "Valid RMSSE :: 0.8243321442846858\n",
            "Train MSE :: 11.653676\n",
            "Valid MSE :: 13.687736\n"
          ]
        },
        {
          "output_type": "stream",
          "name": "stderr",
          "text": [
            "3049it [00:00, 960380.96it/s]"
          ]
        },
        {
          "output_type": "stream",
          "name": "stdout",
          "text": [
            "TX_3_train_fea, TX_3_valid_fea and TX_3_test_fea :: deletion - done\n",
            " \n",
            " \n",
            "##################################################\n",
            "**********   WI_1   **********\n",
            "##################################################\n"
          ]
        },
        {
          "output_type": "stream",
          "name": "stderr",
          "text": [
            "\n"
          ]
        },
        {
          "output_type": "stream",
          "name": "stdout",
          "text": [
            "WI_1_train_fea, WI_1_valid_fea and WI_1_test_fea :: loading - done\n"
          ]
        },
        {
          "output_type": "stream",
          "name": "stderr",
          "text": [
            "100%|██████████| 3049/3049 [01:13<00:00, 41.73it/s]\n"
          ]
        },
        {
          "output_type": "stream",
          "name": "stdout",
          "text": [
            "train  (3049, 28, 61) (3049, 28, 1)\n",
            "valid  (3049, 28, 61) (3049, 28, 1)\n",
            "test  (3049, 28, 61)\n",
            "WI_1_train_fea, WI_1_valid_fea and WI_1_test_fea :: data prepartion - done\n",
            "model training - inprogress...\n",
            "Epoch 1/10\n",
            "3049/3049 [==============================] - 40s 12ms/step - loss: 5.9664 - val_loss: 7.3303\n",
            "Epoch 2/10\n",
            "3049/3049 [==============================] - 38s 12ms/step - loss: 5.9837 - val_loss: 7.3378\n",
            "Epoch 3/10\n",
            "3049/3049 [==============================] - 39s 13ms/step - loss: 5.9903 - val_loss: 7.3424\n",
            "Epoch 4/10\n",
            "3049/3049 [==============================] - 38s 12ms/step - loss: 5.9847 - val_loss: 7.3371\n",
            "Epoch 5/10\n",
            "3049/3049 [==============================] - 38s 12ms/step - loss: 5.9930 - val_loss: 7.3363\n",
            "Epoch 6/10\n",
            "3049/3049 [==============================] - 38s 13ms/step - loss: 5.9910 - val_loss: 7.3337\n",
            "Epoch 7/10\n",
            "3049/3049 [==============================] - 38s 12ms/step - loss: 5.9957 - val_loss: 7.3265\n",
            "Epoch 8/10\n",
            "3049/3049 [==============================] - 39s 13ms/step - loss: 5.9961 - val_loss: 7.3229\n",
            "Epoch 9/10\n",
            "3049/3049 [==============================] - 38s 12ms/step - loss: 5.9939 - val_loss: 7.3134\n",
            "Epoch 10/10\n",
            "3049/3049 [==============================] - 38s 12ms/step - loss: 5.9962 - val_loss: 7.3264\n",
            "model training - done\n",
            "Train RMSSE :: 0.9362882838217964\n",
            "Valid RMSSE :: 0.9493379663400053\n",
            "Train MSE :: 7.126343\n",
            "Valid MSE :: 7.3263764\n"
          ]
        },
        {
          "output_type": "stream",
          "name": "stderr",
          "text": [
            "3049it [00:00, 913459.49it/s]"
          ]
        },
        {
          "output_type": "stream",
          "name": "stdout",
          "text": [
            "WI_1_train_fea, WI_1_valid_fea and WI_1_test_fea :: deletion - done\n",
            " \n",
            " \n",
            "##################################################\n",
            "**********   WI_2   **********\n",
            "##################################################\n"
          ]
        },
        {
          "output_type": "stream",
          "name": "stderr",
          "text": [
            "\n"
          ]
        },
        {
          "output_type": "stream",
          "name": "stdout",
          "text": [
            "WI_2_train_fea, WI_2_valid_fea and WI_2_test_fea :: loading - done\n"
          ]
        },
        {
          "output_type": "stream",
          "name": "stderr",
          "text": [
            "100%|██████████| 3049/3049 [01:13<00:00, 41.71it/s]\n"
          ]
        },
        {
          "output_type": "stream",
          "name": "stdout",
          "text": [
            "train  (3049, 28, 61) (3049, 28, 1)\n",
            "valid  (3049, 28, 61) (3049, 28, 1)\n",
            "test  (3049, 28, 61)\n",
            "WI_2_train_fea, WI_2_valid_fea and WI_2_test_fea :: data prepartion - done\n",
            "model training - inprogress...\n",
            "Epoch 1/10\n",
            "3049/3049 [==============================] - 40s 13ms/step - loss: 22.6960 - val_loss: 26.8775\n",
            "Epoch 2/10\n",
            "3049/3049 [==============================] - 39s 13ms/step - loss: 22.8927 - val_loss: 26.8593\n",
            "Epoch 3/10\n",
            "3049/3049 [==============================] - 40s 13ms/step - loss: 22.9009 - val_loss: 26.8437\n",
            "Epoch 4/10\n",
            "3049/3049 [==============================] - 38s 12ms/step - loss: 22.9378 - val_loss: 26.7559\n",
            "Epoch 5/10\n",
            "3049/3049 [==============================] - 38s 13ms/step - loss: 22.9153 - val_loss: 26.5893\n",
            "Epoch 6/10\n",
            "3049/3049 [==============================] - 39s 13ms/step - loss: 22.9128 - val_loss: 26.6460\n",
            "Epoch 7/10\n",
            "3049/3049 [==============================] - 38s 13ms/step - loss: 22.9144 - val_loss: 26.7081\n",
            "Epoch 8/10\n",
            "3049/3049 [==============================] - 38s 12ms/step - loss: 22.9119 - val_loss: 26.7692\n",
            "Epoch 9/10\n",
            "3049/3049 [==============================] - 38s 13ms/step - loss: 22.9220 - val_loss: 26.7175\n",
            "Epoch 10/10\n",
            "3049/3049 [==============================] - 37s 12ms/step - loss: 22.9037 - val_loss: 26.5638\n",
            "model training - done\n",
            "Train RMSSE :: 0.7605507314964349\n",
            "Valid RMSSE :: 0.7646863024442625\n",
            "Train MSE :: 26.277369\n",
            "Valid MSE :: 26.563917\n"
          ]
        },
        {
          "output_type": "stream",
          "name": "stderr",
          "text": [
            "3049it [00:00, 982214.51it/s]"
          ]
        },
        {
          "output_type": "stream",
          "name": "stdout",
          "text": [
            "WI_2_train_fea, WI_2_valid_fea and WI_2_test_fea :: deletion - done\n",
            " \n",
            " \n",
            "##################################################\n",
            "**********   WI_3   **********\n",
            "##################################################\n"
          ]
        },
        {
          "output_type": "stream",
          "name": "stderr",
          "text": [
            "\n"
          ]
        },
        {
          "output_type": "stream",
          "name": "stdout",
          "text": [
            "WI_3_train_fea, WI_3_valid_fea and WI_3_test_fea :: loading - done\n"
          ]
        },
        {
          "output_type": "stream",
          "name": "stderr",
          "text": [
            "100%|██████████| 3049/3049 [01:12<00:00, 42.14it/s]\n"
          ]
        },
        {
          "output_type": "stream",
          "name": "stdout",
          "text": [
            "train  (3049, 28, 61) (3049, 28, 1)\n",
            "valid  (3049, 28, 61) (3049, 28, 1)\n",
            "test  (3049, 28, 61)\n",
            "WI_3_train_fea, WI_3_valid_fea and WI_3_test_fea :: data prepartion - done\n",
            "model training - inprogress...\n",
            "Epoch 1/10\n",
            "3049/3049 [==============================] - 39s 12ms/step - loss: 14.0223 - val_loss: 15.7717\n",
            "Epoch 2/10\n",
            "3049/3049 [==============================] - 37s 12ms/step - loss: 14.1273 - val_loss: 15.7817\n",
            "Epoch 3/10\n",
            "3049/3049 [==============================] - 38s 12ms/step - loss: 14.1260 - val_loss: 15.7976\n",
            "Epoch 4/10\n",
            "3049/3049 [==============================] - 38s 12ms/step - loss: 14.1289 - val_loss: 15.7801\n",
            "Epoch 5/10\n",
            "3049/3049 [==============================] - 38s 12ms/step - loss: 14.1246 - val_loss: 15.8087\n",
            "Epoch 6/10\n",
            "3049/3049 [==============================] - 38s 12ms/step - loss: 14.1206 - val_loss: 15.8199\n",
            "Epoch 7/10\n",
            "3049/3049 [==============================] - 38s 12ms/step - loss: 14.1300 - val_loss: 15.8278\n",
            "Epoch 8/10\n",
            "3049/3049 [==============================] - 38s 12ms/step - loss: 14.1047 - val_loss: 15.8270\n",
            "Epoch 9/10\n",
            "3049/3049 [==============================] - 38s 13ms/step - loss: 14.1121 - val_loss: 15.8235\n",
            "Epoch 10/10\n",
            "3049/3049 [==============================] - 38s 13ms/step - loss: 14.1131 - val_loss: 15.8261\n",
            "model training - done\n",
            "Train RMSSE :: 0.7670348691345138\n",
            "Valid RMSSE :: 0.7627110934531874\n",
            "Train MSE :: 16.006088\n",
            "Valid MSE :: 15.826144\n"
          ]
        },
        {
          "output_type": "stream",
          "name": "stderr",
          "text": [
            "3049it [00:00, 1096872.19it/s]"
          ]
        },
        {
          "output_type": "stream",
          "name": "stdout",
          "text": [
            "WI_3_train_fea, WI_3_valid_fea and WI_3_test_fea :: deletion - done\n",
            " \n",
            " \n"
          ]
        },
        {
          "output_type": "stream",
          "name": "stderr",
          "text": [
            "\n"
          ]
        }
      ]
    },
    {
      "cell_type": "markdown",
      "source": [
        "### Results"
      ],
      "metadata": {
        "id": "Qf1LkmTyhauH"
      }
    },
    {
      "cell_type": "code",
      "source": [
        "results = pd.DataFrame(results_summay).sort_values(['train_rmsse', 'valid_rmsse'])\n",
        "results"
      ],
      "metadata": {
        "colab": {
          "base_uri": "https://localhost:8080/",
          "height": 363
        },
        "id": "rHGkUu1UK1bl",
        "outputId": "1a32ebf1-f940-400b-8c7d-0100b11b9917"
      },
      "execution_count": 39,
      "outputs": [
        {
          "output_type": "execute_result",
          "data": {
            "text/html": [
              "\n",
              "  <div id=\"df-9e8c932d-619c-426e-bd7d-9fe2eb49cc8a\">\n",
              "    <div class=\"colab-df-container\">\n",
              "      <div>\n",
              "<style scoped>\n",
              "    .dataframe tbody tr th:only-of-type {\n",
              "        vertical-align: middle;\n",
              "    }\n",
              "\n",
              "    .dataframe tbody tr th {\n",
              "        vertical-align: top;\n",
              "    }\n",
              "\n",
              "    .dataframe thead th {\n",
              "        text-align: right;\n",
              "    }\n",
              "</style>\n",
              "<table border=\"1\" class=\"dataframe\">\n",
              "  <thead>\n",
              "    <tr style=\"text-align: right;\">\n",
              "      <th></th>\n",
              "      <th>store_id</th>\n",
              "      <th>train_rmsse</th>\n",
              "      <th>valid_rmsse</th>\n",
              "      <th>train_mse</th>\n",
              "      <th>valid_mse</th>\n",
              "    </tr>\n",
              "  </thead>\n",
              "  <tbody>\n",
              "    <tr>\n",
              "      <th>8</th>\n",
              "      <td>WI_2</td>\n",
              "      <td>0.760551</td>\n",
              "      <td>0.764686</td>\n",
              "      <td>26.277369</td>\n",
              "      <td>26.563917</td>\n",
              "    </tr>\n",
              "    <tr>\n",
              "      <th>6</th>\n",
              "      <td>TX_3</td>\n",
              "      <td>0.760620</td>\n",
              "      <td>0.824332</td>\n",
              "      <td>11.653676</td>\n",
              "      <td>13.687736</td>\n",
              "    </tr>\n",
              "    <tr>\n",
              "      <th>4</th>\n",
              "      <td>TX_1</td>\n",
              "      <td>0.765682</td>\n",
              "      <td>0.774637</td>\n",
              "      <td>10.116419</td>\n",
              "      <td>10.354415</td>\n",
              "    </tr>\n",
              "    <tr>\n",
              "      <th>9</th>\n",
              "      <td>WI_3</td>\n",
              "      <td>0.767035</td>\n",
              "      <td>0.762711</td>\n",
              "      <td>16.006088</td>\n",
              "      <td>15.826144</td>\n",
              "    </tr>\n",
              "    <tr>\n",
              "      <th>3</th>\n",
              "      <td>CA_4</td>\n",
              "      <td>0.767273</td>\n",
              "      <td>0.788644</td>\n",
              "      <td>3.917782</td>\n",
              "      <td>4.139070</td>\n",
              "    </tr>\n",
              "    <tr>\n",
              "      <th>2</th>\n",
              "      <td>CA_3</td>\n",
              "      <td>0.772459</td>\n",
              "      <td>0.745441</td>\n",
              "      <td>27.448992</td>\n",
              "      <td>25.562408</td>\n",
              "    </tr>\n",
              "    <tr>\n",
              "      <th>0</th>\n",
              "      <td>CA_1</td>\n",
              "      <td>0.774745</td>\n",
              "      <td>0.796357</td>\n",
              "      <td>13.409064</td>\n",
              "      <td>14.167588</td>\n",
              "    </tr>\n",
              "    <tr>\n",
              "      <th>5</th>\n",
              "      <td>TX_2</td>\n",
              "      <td>0.778635</td>\n",
              "      <td>0.806622</td>\n",
              "      <td>13.774794</td>\n",
              "      <td>14.782820</td>\n",
              "    </tr>\n",
              "    <tr>\n",
              "      <th>7</th>\n",
              "      <td>WI_1</td>\n",
              "      <td>0.936288</td>\n",
              "      <td>0.949338</td>\n",
              "      <td>7.126343</td>\n",
              "      <td>7.326376</td>\n",
              "    </tr>\n",
              "    <tr>\n",
              "      <th>1</th>\n",
              "      <td>CA_2</td>\n",
              "      <td>1.031393</td>\n",
              "      <td>1.044552</td>\n",
              "      <td>10.478686</td>\n",
              "      <td>10.747782</td>\n",
              "    </tr>\n",
              "  </tbody>\n",
              "</table>\n",
              "</div>\n",
              "      <button class=\"colab-df-convert\" onclick=\"convertToInteractive('df-9e8c932d-619c-426e-bd7d-9fe2eb49cc8a')\"\n",
              "              title=\"Convert this dataframe to an interactive table.\"\n",
              "              style=\"display:none;\">\n",
              "        \n",
              "  <svg xmlns=\"http://www.w3.org/2000/svg\" height=\"24px\"viewBox=\"0 0 24 24\"\n",
              "       width=\"24px\">\n",
              "    <path d=\"M0 0h24v24H0V0z\" fill=\"none\"/>\n",
              "    <path d=\"M18.56 5.44l.94 2.06.94-2.06 2.06-.94-2.06-.94-.94-2.06-.94 2.06-2.06.94zm-11 1L8.5 8.5l.94-2.06 2.06-.94-2.06-.94L8.5 2.5l-.94 2.06-2.06.94zm10 10l.94 2.06.94-2.06 2.06-.94-2.06-.94-.94-2.06-.94 2.06-2.06.94z\"/><path d=\"M17.41 7.96l-1.37-1.37c-.4-.4-.92-.59-1.43-.59-.52 0-1.04.2-1.43.59L10.3 9.45l-7.72 7.72c-.78.78-.78 2.05 0 2.83L4 21.41c.39.39.9.59 1.41.59.51 0 1.02-.2 1.41-.59l7.78-7.78 2.81-2.81c.8-.78.8-2.07 0-2.86zM5.41 20L4 18.59l7.72-7.72 1.47 1.35L5.41 20z\"/>\n",
              "  </svg>\n",
              "      </button>\n",
              "      \n",
              "  <style>\n",
              "    .colab-df-container {\n",
              "      display:flex;\n",
              "      flex-wrap:wrap;\n",
              "      gap: 12px;\n",
              "    }\n",
              "\n",
              "    .colab-df-convert {\n",
              "      background-color: #E8F0FE;\n",
              "      border: none;\n",
              "      border-radius: 50%;\n",
              "      cursor: pointer;\n",
              "      display: none;\n",
              "      fill: #1967D2;\n",
              "      height: 32px;\n",
              "      padding: 0 0 0 0;\n",
              "      width: 32px;\n",
              "    }\n",
              "\n",
              "    .colab-df-convert:hover {\n",
              "      background-color: #E2EBFA;\n",
              "      box-shadow: 0px 1px 2px rgba(60, 64, 67, 0.3), 0px 1px 3px 1px rgba(60, 64, 67, 0.15);\n",
              "      fill: #174EA6;\n",
              "    }\n",
              "\n",
              "    [theme=dark] .colab-df-convert {\n",
              "      background-color: #3B4455;\n",
              "      fill: #D2E3FC;\n",
              "    }\n",
              "\n",
              "    [theme=dark] .colab-df-convert:hover {\n",
              "      background-color: #434B5C;\n",
              "      box-shadow: 0px 1px 3px 1px rgba(0, 0, 0, 0.15);\n",
              "      filter: drop-shadow(0px 1px 2px rgba(0, 0, 0, 0.3));\n",
              "      fill: #FFFFFF;\n",
              "    }\n",
              "  </style>\n",
              "\n",
              "      <script>\n",
              "        const buttonEl =\n",
              "          document.querySelector('#df-9e8c932d-619c-426e-bd7d-9fe2eb49cc8a button.colab-df-convert');\n",
              "        buttonEl.style.display =\n",
              "          google.colab.kernel.accessAllowed ? 'block' : 'none';\n",
              "\n",
              "        async function convertToInteractive(key) {\n",
              "          const element = document.querySelector('#df-9e8c932d-619c-426e-bd7d-9fe2eb49cc8a');\n",
              "          const dataTable =\n",
              "            await google.colab.kernel.invokeFunction('convertToInteractive',\n",
              "                                                     [key], {});\n",
              "          if (!dataTable) return;\n",
              "\n",
              "          const docLinkHtml = 'Like what you see? Visit the ' +\n",
              "            '<a target=\"_blank\" href=https://colab.research.google.com/notebooks/data_table.ipynb>data table notebook</a>'\n",
              "            + ' to learn more about interactive tables.';\n",
              "          element.innerHTML = '';\n",
              "          dataTable['output_type'] = 'display_data';\n",
              "          await google.colab.output.renderOutput(dataTable, element);\n",
              "          const docLink = document.createElement('div');\n",
              "          docLink.innerHTML = docLinkHtml;\n",
              "          element.appendChild(docLink);\n",
              "        }\n",
              "      </script>\n",
              "    </div>\n",
              "  </div>\n",
              "  "
            ],
            "text/plain": [
              "  store_id  train_rmsse  valid_rmsse  train_mse  valid_mse\n",
              "8     WI_2     0.760551     0.764686  26.277369  26.563917\n",
              "6     TX_3     0.760620     0.824332  11.653676  13.687736\n",
              "4     TX_1     0.765682     0.774637  10.116419  10.354415\n",
              "9     WI_3     0.767035     0.762711  16.006088  15.826144\n",
              "3     CA_4     0.767273     0.788644   3.917782   4.139070\n",
              "2     CA_3     0.772459     0.745441  27.448992  25.562408\n",
              "0     CA_1     0.774745     0.796357  13.409064  14.167588\n",
              "5     TX_2     0.778635     0.806622  13.774794  14.782820\n",
              "7     WI_1     0.936288     0.949338   7.126343   7.326376\n",
              "1     CA_2     1.031393     1.044552  10.478686  10.747782"
            ]
          },
          "metadata": {},
          "execution_count": 39
        }
      ]
    },
    {
      "cell_type": "markdown",
      "source": [
        "### Prepare Submission file for Kaggle"
      ],
      "metadata": {
        "id": "GJmv1ciMhYES"
      }
    },
    {
      "cell_type": "code",
      "source": [
        "nn_eval_data =  pd.concat([pd.DataFrame({'id':submission_data.keys()}), pd.DataFrame(submission_data.values(), columns=[f'F{i}' for i in range(1,29)])], axis=1)\n",
        "nn_val_data =  pd.concat([pd.DataFrame({'id':[k.replace('evaluation','validation') for k in submission_data.keys()]}), pd.DataFrame(columns=[f'F{i}' for i in range(1,29)])], axis=1)\n",
        "\n",
        "pd.concat([nn_eval_data, nn_val_data]).fillna(0.0).to_csv(drive_path+'NN_18_jan_2_submission.csv', index=False)"
      ],
      "metadata": {
        "id": "o7k4YmQOK7RN"
      },
      "execution_count": 40,
      "outputs": []
    },
    {
      "cell_type": "markdown",
      "source": [
        "**Observation**\n",
        "\n",
        "1. Created multi-output NN trained the model with past 28 days and with 10 epochs on each store independently and predictions as well.\n",
        "2. The training observations were capture in results section.\n",
        "3. After submiting evaluation test predictions, I got '4.72230' RMSSE under private leaderboard"
      ],
      "metadata": {
        "id": "eRos8biKhmM1"
      }
    }
  ],
  "metadata": {
    "colab": {
      "collapsed_sections": [
        "K4mKEdhCNeBu",
        "W3vz4GmAWUl4",
        "o0a2XCF_SGW8",
        "y213MuH1OlsQ",
        "yMYulfFlOibZ",
        "V_gRQ8wXOx46"
      ],
      "machine_shape": "hm",
      "name": "m5-forecasting.ipynb",
      "provenance": []
    },
    "kernelspec": {
      "display_name": "Python 3",
      "name": "python3"
    },
    "language_info": {
      "name": "python"
    }
  },
  "nbformat": 4,
  "nbformat_minor": 0
}